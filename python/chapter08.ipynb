{
 "cells": [
  {
   "cell_type": "code",
   "execution_count": 1,
   "id": "011d526b-c8c0-4cd5-a1e0-e998876753b4",
   "metadata": {},
   "outputs": [],
   "source": [
    "#딕셔너리(사전)->딕트\n",
    "#키(key)->값(value)"
   ]
  },
  {
   "cell_type": "code",
   "execution_count": 2,
   "id": "64808196-db31-4670-abfe-06a5bc9a89d8",
   "metadata": {},
   "outputs": [
    {
     "data": {
      "text/plain": [
       "{}"
      ]
     },
     "execution_count": 2,
     "metadata": {},
     "output_type": "execute_result"
    }
   ],
   "source": [
    "empty_dict={}\n",
    "empty_dict"
   ]
  },
  {
   "cell_type": "code",
   "execution_count": 3,
   "id": "a757c670-149d-4a46-8e92-ee60522a3f36",
   "metadata": {},
   "outputs": [],
   "source": [
    "bierce={\n",
    "    \"day\":\"A perid of twenty-four hours, mostly misspent\",\n",
    "    \"positive\":\"Mistaken at the top of one`s voice\",\n",
    "    \"misofrtune\":\"The kind of fortun that never misses\",\n",
    "}"
   ]
  },
  {
   "cell_type": "code",
   "execution_count": 4,
   "id": "797fc59e-8fe9-436a-9616-2590564af5c0",
   "metadata": {},
   "outputs": [
    {
     "data": {
      "text/plain": [
       "{'day': 'A perid of twenty-four hours, mostly misspent',\n",
       " 'positive': 'Mistaken at the top of one`s voice',\n",
       " 'misofrtune': 'The kind of fortun that never misses'}"
      ]
     },
     "execution_count": 4,
     "metadata": {},
     "output_type": "execute_result"
    }
   ],
   "source": [
    "bierce"
   ]
  },
  {
   "cell_type": "code",
   "execution_count": 5,
   "id": "54cc34cf-aec7-42e8-a7fe-59d770181b27",
   "metadata": {},
   "outputs": [
    {
     "data": {
      "text/plain": [
       "{'first': 'wile', 'middle': 'E', 'last': 'Coyote'}"
      ]
     },
     "execution_count": 5,
     "metadata": {},
     "output_type": "execute_result"
    }
   ],
   "source": [
    "#딕트 생성 dict() 함수\n",
    "#키값이 공백과 예약어 사용 불가\n",
    "acme_customer=dict(first=\"wile\",middle=\"E\", last=\"Coyote\")\n",
    "acme_customer"
   ]
  },
  {
   "cell_type": "code",
   "execution_count": 6,
   "id": "159af810-c6a0-427d-8af7-226d019e266f",
   "metadata": {},
   "outputs": [
    {
     "data": {
      "text/plain": [
       "{'a': 'b', 'c': 'd', 'e': 'f'}"
      ]
     },
     "execution_count": 6,
     "metadata": {},
     "output_type": "execute_result"
    }
   ],
   "source": [
    "lol=[[\"a\",\"b\"],[\"c\",\"d\"],[\"e\",\"f\"]]\n",
    "dict(lol)"
   ]
  },
  {
   "cell_type": "code",
   "execution_count": 7,
   "id": "2cea867a-d1d3-4ce7-ab57-2e2026a46e77",
   "metadata": {},
   "outputs": [],
   "source": [
    "lot=[(n1,n2)for n1 in range(2,9) for n2 in range(1,9) ]"
   ]
  },
  {
   "cell_type": "code",
   "execution_count": 13,
   "id": "f0f9b0d9-8661-4482-8c9b-3212741228c4",
   "metadata": {},
   "outputs": [
    {
     "data": {
      "text/plain": [
       "{'a': 'b', 'c': 'd', 'e': 'f'}"
      ]
     },
     "execution_count": 13,
     "metadata": {},
     "output_type": "execute_result"
    }
   ],
   "source": [
    "lot=[(\"a\",\"b\"),(\"c\",\"d\"),[\"e\",\"f\"]]\n",
    "dict(lot)"
   ]
  },
  {
   "cell_type": "code",
   "execution_count": 12,
   "id": "f8849f07-10f4-4a9f-aab5-277a64004c0b",
   "metadata": {},
   "outputs": [
    {
     "data": {
      "text/plain": [
       "{'a': 'b', 'c': 'd', 'e': 'f'}"
      ]
     },
     "execution_count": 12,
     "metadata": {},
     "output_type": "execute_result"
    }
   ],
   "source": [
    "lot=[(\"a\",\"b\"),(\"c\",\"d\"),(\"e\",\"f\")]\n",
    "dict(lot)"
   ]
  },
  {
   "cell_type": "code",
   "execution_count": 14,
   "id": "465bf8d4-5500-46a3-9a02-a582c575debb",
   "metadata": {},
   "outputs": [
    {
     "data": {
      "text/plain": [
       "{'Chanpan': 'Graham',\n",
       " 'Clesse': 'John',\n",
       " 'Idle': 'Eric',\n",
       " 'Jounes': 'Terry',\n",
       " 'Palin': 'Michael'}"
      ]
     },
     "execution_count": 14,
     "metadata": {},
     "output_type": "execute_result"
    }
   ],
   "source": [
    "python={\n",
    "    \"Chanpan\":\"Graham\",\n",
    "    \"Clesse\":\"John\",\n",
    "    \"Idle\":\"Eric\",\n",
    "    \"Jounes\":\"Terry\",\n",
    "    \"Palin\":\"Michael\",\n",
    "}\n",
    "python"
   ]
  },
  {
   "cell_type": "code",
   "execution_count": 15,
   "id": "de46a277-b0f3-43bc-a6ac-72eecaab2ba6",
   "metadata": {},
   "outputs": [
    {
     "ename": "NameError",
     "evalue": "name 'pyton' is not defined",
     "output_type": "error",
     "traceback": [
      "\u001b[1;31m---------------------------------------------------------------------------\u001b[0m",
      "\u001b[1;31mNameError\u001b[0m                                 Traceback (most recent call last)",
      "Input \u001b[1;32mIn [15]\u001b[0m, in \u001b[0;36m<cell line: 1>\u001b[1;34m()\u001b[0m\n\u001b[1;32m----> 1\u001b[0m \u001b[43mpyton\u001b[49m[\u001b[38;5;124m\"\u001b[39m\u001b[38;5;124mChanpan\u001b[39m\u001b[38;5;124m\"\u001b[39m]\n",
      "\u001b[1;31mNameError\u001b[0m: name 'pyton' is not defined"
     ]
    }
   ],
   "source": [
    "pyton[\"Chanpan\"]"
   ]
  },
  {
   "cell_type": "code",
   "execution_count": 16,
   "id": "2ca816be-4def-4352-b4c1-4198a651c398",
   "metadata": {},
   "outputs": [
    {
     "data": {
      "text/plain": [
       "'Graham'"
      ]
     },
     "execution_count": 16,
     "metadata": {},
     "output_type": "execute_result"
    }
   ],
   "source": [
    "python[\"Chanpan\"]"
   ]
  },
  {
   "cell_type": "code",
   "execution_count": 17,
   "id": "a2b1d6f9-6a78-4a6f-bfda-19074031629a",
   "metadata": {},
   "outputs": [
    {
     "data": {
      "text/plain": [
       "{'Chanpan': 'Graham',\n",
       " 'Clesse': 'John',\n",
       " 'Idle': 'Eric',\n",
       " 'Jounes': 'Terry',\n",
       " 'Palin': 'Michael',\n",
       " 'Gilliam': 'Gerry'}"
      ]
     },
     "execution_count": 17,
     "metadata": {},
     "output_type": "execute_result"
    }
   ],
   "source": [
    "python[\"Gilliam\"]=\"Gerry\"\n",
    "python"
   ]
  },
  {
   "cell_type": "code",
   "execution_count": 18,
   "id": "d0a9978f-965e-45b8-8347-64dd3eeceb1e",
   "metadata": {},
   "outputs": [],
   "source": [
    "python[\"Gilliam\"]=\"Terry\""
   ]
  },
  {
   "cell_type": "code",
   "execution_count": 19,
   "id": "d7f700bf-9985-48c6-9586-7698d431d052",
   "metadata": {},
   "outputs": [
    {
     "data": {
      "text/plain": [
       "{'Chanpan': 'Graham',\n",
       " 'Clesse': 'John',\n",
       " 'Idle': 'Eric',\n",
       " 'Jounes': 'Terry',\n",
       " 'Palin': 'Michael',\n",
       " 'Gilliam': 'Terry'}"
      ]
     },
     "execution_count": 19,
     "metadata": {},
     "output_type": "execute_result"
    }
   ],
   "source": [
    "python"
   ]
  },
  {
   "cell_type": "code",
   "execution_count": 20,
   "id": "4b5cc7cc-efa8-4bb1-a30d-696a40051612",
   "metadata": {},
   "outputs": [
    {
     "name": "stderr",
     "output_type": "stream",
     "text": [
      "<>:2: SyntaxWarning: \"is\" with a literal. Did you mean \"==\"?\n",
      "<>:2: SyntaxWarning: \"is\" with a literal. Did you mean \"==\"?\n",
      "C:\\Users\\KB\\AppData\\Local\\Temp\\ipykernel_9524\\1506263334.py:2: SyntaxWarning: \"is\" with a literal. Did you mean \"==\"?\n",
      "  \"Groucho\"is python\n"
     ]
    },
    {
     "data": {
      "text/plain": [
       "False"
      ]
     },
     "execution_count": 20,
     "metadata": {},
     "output_type": "execute_result"
    }
   ],
   "source": [
    "#pythons[\"Lee\"]\n",
    "\"Groucho\"is python"
   ]
  },
  {
   "cell_type": "code",
   "execution_count": 21,
   "id": "dcae614a-da7a-4d77-98e0-f49e1ae2aefb",
   "metadata": {},
   "outputs": [
    {
     "data": {
      "text/plain": [
       "False"
      ]
     },
     "execution_count": 21,
     "metadata": {},
     "output_type": "execute_result"
    }
   ],
   "source": [
    "\"Groucho\" in python"
   ]
  },
  {
   "cell_type": "code",
   "execution_count": 22,
   "id": "e4689aef-e208-4787-b067-06d9a06960ec",
   "metadata": {},
   "outputs": [
    {
     "data": {
      "text/plain": [
       "'Terry'"
      ]
     },
     "execution_count": 22,
     "metadata": {},
     "output_type": "execute_result"
    }
   ],
   "source": [
    "python.get(\"Gilliam\")"
   ]
  },
  {
   "cell_type": "code",
   "execution_count": 23,
   "id": "66bcbe91-6495-4d20-a7cf-7c6dde74d99e",
   "metadata": {},
   "outputs": [
    {
     "data": {
      "text/plain": [
       "'Not a Python'"
      ]
     },
     "execution_count": 23,
     "metadata": {},
     "output_type": "execute_result"
    }
   ],
   "source": [
    "python.get(\"Lee\",\"Not a Python\")"
   ]
  },
  {
   "cell_type": "code",
   "execution_count": 24,
   "id": "136015be-5c9b-4f1a-91c9-5ec0f141fa9a",
   "metadata": {},
   "outputs": [],
   "source": [
    "python.get(\"Lee\")"
   ]
  },
  {
   "cell_type": "code",
   "execution_count": 25,
   "id": "034d0ab4-94f9-48eb-8788-96bd256dc734",
   "metadata": {},
   "outputs": [
    {
     "data": {
      "text/plain": [
       "dict_keys(['Chanpan', 'Clesse', 'Idle', 'Jounes', 'Palin', 'Gilliam'])"
      ]
     },
     "execution_count": 25,
     "metadata": {},
     "output_type": "execute_result"
    }
   ],
   "source": [
    "#모든 키 얻기:keys()\n",
    "python.keys()"
   ]
  },
  {
   "cell_type": "code",
   "execution_count": 26,
   "id": "a2728fdd-c5f8-4126-b112-f08fac3971c3",
   "metadata": {},
   "outputs": [
    {
     "data": {
      "text/plain": [
       "['Chanpan', 'Clesse', 'Idle', 'Jounes', 'Palin', 'Gilliam']"
      ]
     },
     "execution_count": 26,
     "metadata": {},
     "output_type": "execute_result"
    }
   ],
   "source": [
    "list(python.keys())"
   ]
  },
  {
   "cell_type": "code",
   "execution_count": 27,
   "id": "1b3148eb-b64f-4225-9276-48778edaaa4c",
   "metadata": {},
   "outputs": [
    {
     "name": "stdout",
     "output_type": "stream",
     "text": [
      "Chanpan\n",
      "Clesse\n",
      "Idle\n",
      "Jounes\n",
      "Palin\n",
      "Gilliam\n"
     ]
    }
   ],
   "source": [
    "for m in list(python.keys()):\n",
    "    print(m)"
   ]
  },
  {
   "cell_type": "code",
   "execution_count": 28,
   "id": "b920552e-c52a-41cc-b81d-18fc19b1d5ff",
   "metadata": {},
   "outputs": [
    {
     "data": {
      "text/plain": [
       "['Graham', 'John', 'Eric', 'Terry', 'Michael', 'Terry']"
      ]
     },
     "execution_count": 28,
     "metadata": {},
     "output_type": "execute_result"
    }
   ],
   "source": [
    "list(python.values())"
   ]
  },
  {
   "cell_type": "code",
   "execution_count": 29,
   "id": "332b7175-8693-4685-b90d-45ed7deb38a5",
   "metadata": {},
   "outputs": [
    {
     "data": {
      "text/plain": [
       "[('Chanpan', 'Graham'),\n",
       " ('Clesse', 'John'),\n",
       " ('Idle', 'Eric'),\n",
       " ('Jounes', 'Terry'),\n",
       " ('Palin', 'Michael'),\n",
       " ('Gilliam', 'Terry')]"
      ]
     },
     "execution_count": 29,
     "metadata": {},
     "output_type": "execute_result"
    }
   ],
   "source": [
    "list(python.items())"
   ]
  },
  {
   "cell_type": "code",
   "execution_count": 30,
   "id": "d003ab82-3460-4ad4-b12d-8c02dce3d152",
   "metadata": {},
   "outputs": [
    {
     "data": {
      "text/plain": [
       "6"
      ]
     },
     "execution_count": 30,
     "metadata": {},
     "output_type": "execute_result"
    }
   ],
   "source": [
    "len(python)"
   ]
  },
  {
   "cell_type": "code",
   "execution_count": 31,
   "id": "15a29487-0b47-437b-a488-ee908eea61e9",
   "metadata": {},
   "outputs": [
    {
     "data": {
      "text/plain": [
       "{'a': 'agony', 'b': 'begels', 'c': 'candy'}"
      ]
     },
     "execution_count": 31,
     "metadata": {},
     "output_type": "execute_result"
    }
   ],
   "source": [
    "#** = [...array]\n",
    "first={\"a\":\"agony\",\"b\":\"bliss\"}\n",
    "second={\"b\":\"begels\",\"c\":\"candy\"}\n",
    "{**first,**second}"
   ]
  },
  {
   "cell_type": "code",
   "execution_count": 32,
   "id": "da5d8be3-6774-4a6c-a2e5-6e788a295c73",
   "metadata": {},
   "outputs": [
    {
     "data": {
      "text/plain": [
       "{'a': 'agony', 'b': 'begels', 'c': 'candy'}"
      ]
     },
     "execution_count": 32,
     "metadata": {},
     "output_type": "execute_result"
    }
   ],
   "source": [
    "first.update(second)\n",
    "first"
   ]
  },
  {
   "cell_type": "code",
   "execution_count": 33,
   "id": "8d2ece9b-c517-48e5-ab2a-01e0dbeeb172",
   "metadata": {},
   "outputs": [
    {
     "data": {
      "text/plain": [
       "{'a': 'agony', 'b': 'begels'}"
      ]
     },
     "execution_count": 33,
     "metadata": {},
     "output_type": "execute_result"
    }
   ],
   "source": [
    "del first[\"c\"]\n",
    "first"
   ]
  },
  {
   "cell_type": "code",
   "execution_count": 34,
   "id": "f6e94ef6-3bdd-4eb4-a688-5562bcad31e5",
   "metadata": {},
   "outputs": [
    {
     "data": {
      "text/plain": [
       "{'b': 'begels'}"
      ]
     },
     "execution_count": 34,
     "metadata": {},
     "output_type": "execute_result"
    }
   ],
   "source": [
    "a=first.pop(\"a\")\n",
    "first"
   ]
  },
  {
   "cell_type": "code",
   "execution_count": 35,
   "id": "92999cce-5cbf-4d42-8cc6-f78135c85793",
   "metadata": {},
   "outputs": [
    {
     "data": {
      "text/plain": [
       "'agony'"
      ]
     },
     "execution_count": 35,
     "metadata": {},
     "output_type": "execute_result"
    }
   ],
   "source": [
    "a"
   ]
  },
  {
   "cell_type": "code",
   "execution_count": 36,
   "id": "0759c809-be93-4337-b6e5-884603c05431",
   "metadata": {},
   "outputs": [
    {
     "data": {
      "text/plain": [
       "{}"
      ]
     },
     "execution_count": 36,
     "metadata": {},
     "output_type": "execute_result"
    }
   ],
   "source": [
    "first.clear()\n",
    "first"
   ]
  },
  {
   "cell_type": "code",
   "execution_count": 37,
   "id": "e48592b0-de18-477d-84fc-6b6852912b12",
   "metadata": {},
   "outputs": [],
   "source": [
    "second_a=second\n",
    "#리스트와 마찬가지로 가변형태로 복사 - 매모리에 공간은 공유한다(1개다)\n",
    "#메모리를 따로 만들어 복제하고 싶으면 copy()를 이용\n",
    "#중복된 객채도 복제 copy.deepcopy()\n"
   ]
  },
  {
   "cell_type": "code",
   "execution_count": 42,
   "id": "1b7ea79d-5073-4e53-9ee9-8cc74bbf0530",
   "metadata": {},
   "outputs": [
    {
     "name": "stdout",
     "output_type": "stream",
     "text": [
      "Chanpan\n",
      "Clesse\n",
      "Idle\n",
      "Jounes\n",
      "Palin\n",
      "Gilliam\n"
     ]
    }
   ],
   "source": [
    "#for key in python:\n",
    "for key in python.keys():\n",
    "    print(key)"
   ]
  },
  {
   "cell_type": "code",
   "execution_count": 39,
   "id": "f61bb650-538b-4a18-8ebf-97e4ed179b53",
   "metadata": {},
   "outputs": [
    {
     "name": "stdout",
     "output_type": "stream",
     "text": [
      "Graham\n",
      "John\n",
      "Eric\n",
      "Terry\n",
      "Michael\n",
      "Terry\n"
     ]
    }
   ],
   "source": [
    "for v in python.values():\n",
    "    print(v)"
   ]
  },
  {
   "cell_type": "code",
   "execution_count": 44,
   "id": "01ed0ed2-2745-462e-a3f5-c01c6a9f30f9",
   "metadata": {},
   "outputs": [
    {
     "name": "stdout",
     "output_type": "stream",
     "text": [
      "['Chanpan', 'Graham']\n",
      "['Clesse', 'John']\n",
      "['Idle', 'Eric']\n",
      "['Jounes', 'Terry']\n",
      "['Palin', 'Michael']\n",
      "['Gilliam', 'Terry']\n"
     ]
    }
   ],
   "source": [
    "for item in python.items():\n",
    "    print(list(item))"
   ]
  },
  {
   "cell_type": "raw",
   "id": "c48f83d3-18a5-45af-ab4c-54ef9d0826de",
   "metadata": {},
   "source": [
    "\n"
   ]
  },
  {
   "cell_type": "code",
   "execution_count": 45,
   "id": "9a919a00-f124-4553-b962-3813b5a16f6d",
   "metadata": {},
   "outputs": [
    {
     "name": "stdout",
     "output_type": "stream",
     "text": [
      "Chanpan Graham\n",
      "Clesse John\n",
      "Idle Eric\n",
      "Jounes Terry\n",
      "Palin Michael\n",
      "Gilliam Terry\n"
     ]
    }
   ],
   "source": [
    "for firstname, lastname in python.items():\n",
    "    print(firstname,lastname)"
   ]
  },
  {
   "cell_type": "code",
   "execution_count": 47,
   "id": "8f70e46b-90b7-494e-8691-7efc08316faa",
   "metadata": {},
   "outputs": [],
   "source": [
    "word=\"letters\"\n",
    "letters_counts={letter:word.count(letter) for letter in word}"
   ]
  },
  {
   "cell_type": "code",
   "execution_count": 48,
   "id": "ed7b5b19-1e56-41e6-b67d-47a5b10fe543",
   "metadata": {},
   "outputs": [
    {
     "data": {
      "text/plain": [
       "{'l': 1, 'e': 2, 't': 2, 'r': 1, 's': 1}"
      ]
     },
     "execution_count": 48,
     "metadata": {},
     "output_type": "execute_result"
    }
   ],
   "source": [
    "letters_counts"
   ]
  },
  {
   "cell_type": "code",
   "execution_count": null,
   "id": "48188c6f-da51-4064-8bbc-be0912a9199f",
   "metadata": {},
   "outputs": [],
   "source": []
  }
 ],
 "metadata": {
  "kernelspec": {
   "display_name": "Python 3 (ipykernel)",
   "language": "python",
   "name": "python3"
  },
  "language_info": {
   "codemirror_mode": {
    "name": "ipython",
    "version": 3
   },
   "file_extension": ".py",
   "mimetype": "text/x-python",
   "name": "python",
   "nbconvert_exporter": "python",
   "pygments_lexer": "ipython3",
   "version": "3.9.12"
  }
 },
 "nbformat": 4,
 "nbformat_minor": 5
}
