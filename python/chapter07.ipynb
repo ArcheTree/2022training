{
 "cells": [
  {
   "cell_type": "code",
   "execution_count": 1,
   "id": "0ea9dc59-5e54-413f-93eb-967daa0073cc",
   "metadata": {},
   "outputs": [],
   "source": [
    "# 리스트-[] : 배열 - 가변\n",
    "#듀플-() : 리스트와 유사하지만- 불변 요소 있음(상수배열)  *요소가 1개인 경우 에 \",\"를 꼭 붙혀야함"
   ]
  },
  {
   "cell_type": "code",
   "execution_count": 2,
   "id": "7b4053c2-245f-4ce3-897c-c2d1fcd60469",
   "metadata": {},
   "outputs": [
    {
     "data": {
      "text/plain": [
       "()"
      ]
     },
     "execution_count": 2,
     "metadata": {},
     "output_type": "execute_result"
    }
   ],
   "source": [
    "empty_tuple=()\n",
    "empty_tuple"
   ]
  },
  {
   "cell_type": "code",
   "execution_count": 3,
   "id": "79be7fe3-a795-4752-9a8e-5bba80937c1d",
   "metadata": {},
   "outputs": [
    {
     "data": {
      "text/plain": [
       "('Groucho',)"
      ]
     },
     "execution_count": 3,
     "metadata": {},
     "output_type": "execute_result"
    }
   ],
   "source": [
    "one_marx=(\"Groucho\",)\n",
    "one_marx"
   ]
  },
  {
   "cell_type": "code",
   "execution_count": 4,
   "id": "4d400766-46ab-4cd3-95c6-90957303abab",
   "metadata": {},
   "outputs": [
    {
     "data": {
      "text/plain": [
       "tuple"
      ]
     },
     "execution_count": 4,
     "metadata": {},
     "output_type": "execute_result"
    }
   ],
   "source": [
    "one_marx=\"Groucho\",\n",
    "type(one_marx)"
   ]
  },
  {
   "cell_type": "code",
   "execution_count": 5,
   "id": "9f99bc8d-7f71-4d39-9468-d7dab49b13b1",
   "metadata": {},
   "outputs": [
    {
     "data": {
      "text/plain": [
       "('Groucho', 'Choco', 'Harpo')"
      ]
     },
     "execution_count": 5,
     "metadata": {},
     "output_type": "execute_result"
    }
   ],
   "source": [
    "marx_tuple=\"Groucho\",\"Choco\",\"Harpo\"\n",
    "marx_tuple"
   ]
  },
  {
   "cell_type": "code",
   "execution_count": 6,
   "id": "396338c7-3c43-4759-98da-fc114bb3ef9d",
   "metadata": {},
   "outputs": [
    {
     "data": {
      "text/plain": [
       "tuple"
      ]
     },
     "execution_count": 6,
     "metadata": {},
     "output_type": "execute_result"
    }
   ],
   "source": [
    "type(marx_tuple)"
   ]
  },
  {
   "cell_type": "code",
   "execution_count": 7,
   "id": "739f5f2b-c4fd-4188-9f46-0d029d41e577",
   "metadata": {},
   "outputs": [
    {
     "data": {
      "text/plain": [
       "str"
      ]
     },
     "execution_count": 7,
     "metadata": {},
     "output_type": "execute_result"
    }
   ],
   "source": [
    "type(\"rouecho\",)"
   ]
  },
  {
   "cell_type": "code",
   "execution_count": 8,
   "id": "3ea7171f-55ff-4025-886a-e902a93ca22b",
   "metadata": {},
   "outputs": [
    {
     "data": {
      "text/plain": [
       "tuple"
      ]
     },
     "execution_count": 8,
     "metadata": {},
     "output_type": "execute_result"
    }
   ],
   "source": [
    "type((\"rouecho\",))"
   ]
  },
  {
   "cell_type": "code",
   "execution_count": 9,
   "id": "23c03641-5580-4c61-a788-55a0cd6beaf3",
   "metadata": {},
   "outputs": [
    {
     "data": {
      "text/plain": [
       "'Groucho'"
      ]
     },
     "execution_count": 9,
     "metadata": {},
     "output_type": "execute_result"
    }
   ],
   "source": [
    "marx_tuple[0]"
   ]
  },
  {
   "cell_type": "code",
   "execution_count": 10,
   "id": "30abec08-45a6-4a14-b388-59dc26f52d46",
   "metadata": {},
   "outputs": [
    {
     "data": {
      "text/plain": [
       "'Harpo'"
      ]
     },
     "execution_count": 10,
     "metadata": {},
     "output_type": "execute_result"
    }
   ],
   "source": [
    "marx_tuple[2]"
   ]
  },
  {
   "cell_type": "code",
   "execution_count": 11,
   "id": "c79cb60a-78c4-4af0-b4a0-489a63c0136f",
   "metadata": {},
   "outputs": [
    {
     "data": {
      "text/plain": [
       "('Groucho', 'Choco', 'Harpo')"
      ]
     },
     "execution_count": 11,
     "metadata": {},
     "output_type": "execute_result"
    }
   ],
   "source": [
    "a=marx_tuple[0]\n",
    "b=marx_tuple[1]\n",
    "c=marx_tuple[2]\n",
    "a,b,c"
   ]
  },
  {
   "cell_type": "code",
   "execution_count": 12,
   "id": "50eeae82-d812-4bf0-a26c-29d13fddb9bd",
   "metadata": {},
   "outputs": [
    {
     "ename": "TypeError",
     "evalue": "'tuple' object does not support item assignment",
     "output_type": "error",
     "traceback": [
      "\u001b[1;31m---------------------------------------------------------------------------\u001b[0m",
      "\u001b[1;31mTypeError\u001b[0m                                 Traceback (most recent call last)",
      "Input \u001b[1;32mIn [12]\u001b[0m, in \u001b[0;36m<cell line: 1>\u001b[1;34m()\u001b[0m\n\u001b[1;32m----> 1\u001b[0m \u001b[43mmarx_tuple\u001b[49m\u001b[43m[\u001b[49m\u001b[38;5;241;43m0\u001b[39;49m\u001b[43m]\u001b[49m\u001b[38;5;241m=\u001b[39m\u001b[38;5;124m\"\u001b[39m\u001b[38;5;124mgreff\u001b[39m\u001b[38;5;124m\"\u001b[39m\n",
      "\u001b[1;31mTypeError\u001b[0m: 'tuple' object does not support item assignment"
     ]
    }
   ],
   "source": [
    "marx_tuple[0]=\"greff\""
   ]
  },
  {
   "cell_type": "code",
   "execution_count": 13,
   "id": "a86482d8-65eb-40f5-8839-6650c850d72d",
   "metadata": {},
   "outputs": [],
   "source": [
    "# 상수라 변수 교체 불가"
   ]
  },
  {
   "cell_type": "code",
   "execution_count": 14,
   "id": "04ab83dd-5fd5-4db3-810d-764043bb4612",
   "metadata": {},
   "outputs": [
    {
     "data": {
      "text/plain": [
       "('Groucho', 'Choco', 'Harpo')"
      ]
     },
     "execution_count": 14,
     "metadata": {},
     "output_type": "execute_result"
    }
   ],
   "source": [
    "d,e,f=marx_tuple\n",
    "d,e,f"
   ]
  },
  {
   "cell_type": "code",
   "execution_count": 15,
   "id": "0f53a3b7-9ea8-4e94-9711-630d0fa4fcd8",
   "metadata": {},
   "outputs": [
    {
     "name": "stdout",
     "output_type": "stream",
     "text": [
      "tuttifrutti swordfish\n"
     ]
    }
   ],
   "source": [
    "password=\"swordfish\"\n",
    "icecream=\"tuttifrutti\"\n",
    "temp=password\n",
    "password=icecream\n",
    "icecream=temp\n",
    "print(password,icecream)"
   ]
  },
  {
   "cell_type": "code",
   "execution_count": 16,
   "id": "37c4302f-ecef-4382-a643-82f3f602a22c",
   "metadata": {},
   "outputs": [
    {
     "name": "stdout",
     "output_type": "stream",
     "text": [
      "swordfish tuttifrutti\n"
     ]
    }
   ],
   "source": [
    "password,icecream = icecream,password\n",
    "print(password,icecream)"
   ]
  },
  {
   "cell_type": "code",
   "execution_count": 17,
   "id": "17c1b2df-f414-4b9f-81c8-a91008afc861",
   "metadata": {},
   "outputs": [
    {
     "data": {
      "text/plain": [
       "('Groucho', 'Chico', 'Harpo')"
      ]
     },
     "execution_count": 17,
     "metadata": {},
     "output_type": "execute_result"
    }
   ],
   "source": [
    "marx_list=[\"Groucho\",\"Chico\",\"Harpo\"]\n",
    "tuple(marx_list)"
   ]
  },
  {
   "cell_type": "code",
   "execution_count": 18,
   "id": "1ce4dd67-856c-4d20-81da-5690c66a76af",
   "metadata": {},
   "outputs": [
    {
     "data": {
      "text/plain": [
       "('Groucho', 'Chico', 'Harpo')"
      ]
     },
     "execution_count": 18,
     "metadata": {},
     "output_type": "execute_result"
    }
   ],
   "source": [
    "marx_list=tuple(marx_list)\n",
    "marx_list"
   ]
  },
  {
   "cell_type": "code",
   "execution_count": 19,
   "id": "6216b6aa-218a-49ed-93ca-83a334d6e9e0",
   "metadata": {},
   "outputs": [
    {
     "data": {
      "text/plain": [
       "('Groucho', 'Chici', 'Harpo')"
      ]
     },
     "execution_count": 19,
     "metadata": {},
     "output_type": "execute_result"
    }
   ],
   "source": [
    "(\"Groucho\",)+(\"Chici\",\"Harpo\")"
   ]
  },
  {
   "cell_type": "code",
   "execution_count": 20,
   "id": "72e0f4d9-f08a-4987-a89f-23e81116ef09",
   "metadata": {},
   "outputs": [
    {
     "data": {
      "text/plain": [
       "('yada', 'yada', 'yada')"
      ]
     },
     "execution_count": 20,
     "metadata": {},
     "output_type": "execute_result"
    }
   ],
   "source": [
    "(\"yada\",)*3"
   ]
  },
  {
   "cell_type": "code",
   "execution_count": 21,
   "id": "9ea75b71-b422-4cc5-967a-346e4e8d1aab",
   "metadata": {},
   "outputs": [
    {
     "data": {
      "text/plain": [
       "False"
      ]
     },
     "execution_count": 21,
     "metadata": {},
     "output_type": "execute_result"
    }
   ],
   "source": [
    "a=(7,2)\n",
    "b=(7,2,9)\n",
    "c=(2,7)\n",
    "a==b"
   ]
  },
  {
   "cell_type": "code",
   "execution_count": 22,
   "id": "10c5b688-90a1-407a-a9be-87db8ddaaf24",
   "metadata": {},
   "outputs": [
    {
     "data": {
      "text/plain": [
       "False"
      ]
     },
     "execution_count": 22,
     "metadata": {},
     "output_type": "execute_result"
    }
   ],
   "source": [
    "a==c"
   ]
  },
  {
   "cell_type": "code",
   "execution_count": 23,
   "id": "c61a9db4-8bb5-427a-8589-58cf277395f9",
   "metadata": {},
   "outputs": [
    {
     "data": {
      "text/plain": [
       "True"
      ]
     },
     "execution_count": 23,
     "metadata": {},
     "output_type": "execute_result"
    }
   ],
   "source": [
    "d=(7,2)\n",
    "a==d"
   ]
  },
  {
   "cell_type": "code",
   "execution_count": 24,
   "id": "f9398c14-cf97-4e8b-8e4f-059980018afc",
   "metadata": {},
   "outputs": [
    {
     "name": "stdout",
     "output_type": "stream",
     "text": [
      "False False True\n"
     ]
    }
   ],
   "source": [
    "print(a==b,a==c,a==d)"
   ]
  },
  {
   "cell_type": "code",
   "execution_count": 25,
   "id": "1783d533-1706-4874-b461-fc46a5f69d37",
   "metadata": {},
   "outputs": [
    {
     "name": "stdout",
     "output_type": "stream",
     "text": [
      "fresh\n",
      "out\n",
      "of\n",
      "ideas\n"
     ]
    }
   ],
   "source": [
    "words=(\"fresh\",\"out\",\"of\",\"ideas\")\n",
    "for word in words:\n",
    "    print(word)"
   ]
  },
  {
   "cell_type": "code",
   "execution_count": 27,
   "id": "65aab16b-78a4-45f4-9f48-c2c17c338d73",
   "metadata": {},
   "outputs": [
    {
     "name": "stdout",
     "output_type": "stream",
     "text": [
      "2880252094912\n"
     ]
    },
    {
     "data": {
      "text/plain": [
       "('Fee', 'fie', 'Foe', 'Flop')"
      ]
     },
     "execution_count": 27,
     "metadata": {},
     "output_type": "execute_result"
    }
   ],
   "source": [
    "t1=(\"Fee\",\"fie\",\"Foe\")\n",
    "print(id(t1))\n",
    "t2=(\"Flop\",)\n",
    "t1 +=t2\n",
    "t1"
   ]
  },
  {
   "cell_type": "code",
   "execution_count": 28,
   "id": "e10ecf02-6b3a-495a-8411-51bd11831759",
   "metadata": {},
   "outputs": [],
   "source": [
    "# 실재 메모리 주소 -> 가상 메모리 주소 ->(프로그래밍 언어 가상 주소)\n",
    "#id() ->주소를 알아올수 있음"
   ]
  },
  {
   "cell_type": "code",
   "execution_count": 30,
   "id": "fa704bec-ee59-42e8-8c72-91d9736753f3",
   "metadata": {},
   "outputs": [
    {
     "name": "stdout",
     "output_type": "stream",
     "text": [
      "2880129821072 2880129821040\n"
     ]
    }
   ],
   "source": [
    "x=3\n",
    "y=x\n",
    "x=4\n",
    "print(id(x),id(y))\n"
   ]
  },
  {
   "cell_type": "code",
   "execution_count": 33,
   "id": "034761db-cb3f-4ba0-acb4-6dc75dd7eb51",
   "metadata": {},
   "outputs": [
    {
     "name": "stdout",
     "output_type": "stream",
     "text": [
      "[1, 1] 2880252257664 2880252257664\n"
     ]
    }
   ],
   "source": [
    "i=[0,1]\n",
    "j=i\n",
    "i[0]=1\n",
    "print(j,id(i),id(j))"
   ]
  },
  {
   "cell_type": "code",
   "execution_count": 34,
   "id": "ee71342b-2db3-4a70-8d23-920b78b8932b",
   "metadata": {},
   "outputs": [],
   "source": [
    "empty_list=[]"
   ]
  },
  {
   "cell_type": "code",
   "execution_count": 36,
   "id": "336bdda6-e042-4991-bb20-31b66379b491",
   "metadata": {},
   "outputs": [
    {
     "data": {
      "text/plain": [
       "'Monday'"
      ]
     },
     "execution_count": 36,
     "metadata": {},
     "output_type": "execute_result"
    }
   ],
   "source": [
    "weekdays=[\"Monday\",\"Tuesday\",\"Wednesday\",\"Thersday\",\"Friday\"]\n",
    "weekdays[0]"
   ]
  },
  {
   "cell_type": "code",
   "execution_count": 37,
   "id": "254563f9-0026-4358-a9fc-5f2fee330d28",
   "metadata": {},
   "outputs": [
    {
     "data": {
      "text/plain": [
       "['Sunday', 'Tuesday', 'Wednesday', 'Thersday', 'Friday']"
      ]
     },
     "execution_count": 37,
     "metadata": {},
     "output_type": "execute_result"
    }
   ],
   "source": [
    "weekdays[0]=\"Sunday\"\n",
    "weekdays"
   ]
  },
  {
   "cell_type": "code",
   "execution_count": 38,
   "id": "bb85f1b1-6f30-41a8-8b5d-b6b7ef121988",
   "metadata": {},
   "outputs": [
    {
     "data": {
      "text/plain": [
       "['c', 'a', 't']"
      ]
     },
     "execution_count": 38,
     "metadata": {},
     "output_type": "execute_result"
    }
   ],
   "source": [
    "list(\"cat\")"
   ]
  },
  {
   "cell_type": "code",
   "execution_count": 39,
   "id": "aea5af2e-3f18-4a30-a443-b31abae71c7e",
   "metadata": {},
   "outputs": [
    {
     "data": {
      "text/plain": [
       "['ready', 'fire', 'aim']"
      ]
     },
     "execution_count": 39,
     "metadata": {},
     "output_type": "execute_result"
    }
   ],
   "source": [
    "a_tuple=(\"ready\",\"fire\",\"aim\")\n",
    "list(a_tuple)"
   ]
  },
  {
   "cell_type": "code",
   "execution_count": 40,
   "id": "c7331051-44e6-4c53-9a00-054d6279b0eb",
   "metadata": {},
   "outputs": [
    {
     "data": {
      "text/plain": [
       "['9', '19', '2022']"
      ]
     },
     "execution_count": 40,
     "metadata": {},
     "output_type": "execute_result"
    }
   ],
   "source": [
    "#문자열 분할로 생성하기 split()\n",
    "pirate_day=\"9/19/2022\"\n",
    "pirate_day.split(\"/\")"
   ]
  },
  {
   "cell_type": "code",
   "execution_count": 41,
   "id": "ec39c13f-3ed2-4ce6-b554-da7f4ebbf711",
   "metadata": {},
   "outputs": [
    {
     "data": {
      "text/plain": [
       "'Friday'"
      ]
     },
     "execution_count": 41,
     "metadata": {},
     "output_type": "execute_result"
    }
   ],
   "source": [
    "weekdays[-1]"
   ]
  },
  {
   "cell_type": "code",
   "execution_count": 42,
   "id": "561b784a-f4ca-4ac7-9b6c-a6a0b27442bd",
   "metadata": {},
   "outputs": [
    {
     "data": {
      "text/plain": [
       "['Sunday', 'Tuesday']"
      ]
     },
     "execution_count": 42,
     "metadata": {},
     "output_type": "execute_result"
    }
   ],
   "source": [
    "weekdays[0:2:1]"
   ]
  },
  {
   "cell_type": "code",
   "execution_count": 43,
   "id": "6fef6944-02c8-4594-9815-45e734eedc21",
   "metadata": {},
   "outputs": [
    {
     "data": {
      "text/plain": [
       "['Sunday', 'Wednesday', 'Friday']"
      ]
     },
     "execution_count": 43,
     "metadata": {},
     "output_type": "execute_result"
    }
   ],
   "source": [
    "weekdays[::2]"
   ]
  },
  {
   "cell_type": "code",
   "execution_count": 44,
   "id": "00676dd1-4d50-45d6-ba75-1d0e238d17fc",
   "metadata": {},
   "outputs": [
    {
     "name": "stdout",
     "output_type": "stream",
     "text": [
      "None\n"
     ]
    }
   ],
   "source": [
    "print(weekdays.reverse())"
   ]
  },
  {
   "cell_type": "code",
   "execution_count": 46,
   "id": "ca56e66e-2302-4727-9f74-a32e82a4b6c9",
   "metadata": {},
   "outputs": [
    {
     "data": {
      "text/plain": [
       "['Friday', 'Thersday', 'Wednesday', 'Tuesday', 'Sunday']"
      ]
     },
     "execution_count": 46,
     "metadata": {},
     "output_type": "execute_result"
    }
   ],
   "source": [
    "weekdays.reverse()\n",
    "weekdays"
   ]
  },
  {
   "cell_type": "code",
   "execution_count": 47,
   "id": "17943e7d-3226-4e58-83a1-65bbda751e3f",
   "metadata": {},
   "outputs": [
    {
     "data": {
      "text/plain": [
       "['Groucho', 'Chico', 'harpo', 'Zeppo']"
      ]
     },
     "execution_count": 47,
     "metadata": {},
     "output_type": "execute_result"
    }
   ],
   "source": [
    "marxes=[\"Groucho\",\"Chico\",\"harpo\"]\n",
    "marxes.append(\"Zeppo\")\n",
    "marxes"
   ]
  },
  {
   "cell_type": "code",
   "execution_count": 48,
   "id": "4713fd28-3eb1-40e6-813b-3477e2073606",
   "metadata": {},
   "outputs": [
    {
     "data": {
      "text/plain": [
       "['Groucho', 'Gymmo', 'Chico', 'harpo', 'Zeppo']"
      ]
     },
     "execution_count": 48,
     "metadata": {},
     "output_type": "execute_result"
    }
   ],
   "source": [
    "# 인덱스(index)==오프셋(offset) - 파이선에서\n",
    "marxes.insert(1,\"Gymmo\")\n",
    "marxes"
   ]
  },
  {
   "cell_type": "code",
   "execution_count": 51,
   "id": "7a91d859-35c2-40d6-aba2-7ac030661b09",
   "metadata": {},
   "outputs": [],
   "source": [
    "others=[\"Karl\",\"John\"]\n",
    "#marxes=marxes+others\n",
    "marxes+=others"
   ]
  },
  {
   "cell_type": "code",
   "execution_count": 52,
   "id": "a254ae22-8eaf-4e08-9d8c-0bcae75fce0a",
   "metadata": {},
   "outputs": [
    {
     "data": {
      "text/plain": [
       "['Groucho',\n",
       " 'Gymmo',\n",
       " 'Chico',\n",
       " 'harpo',\n",
       " 'Zeppo',\n",
       " 'fpoo',\n",
       " 'var',\n",
       " 'Karl',\n",
       " 'John',\n",
       " 'fpoo',\n",
       " 'var']"
      ]
     },
     "execution_count": 52,
     "metadata": {},
     "output_type": "execute_result"
    }
   ],
   "source": [
    "others2=[\"fpoo\",\"var\"]\n",
    "marxes.extend(others2)\n",
    "marxes"
   ]
  },
  {
   "cell_type": "code",
   "execution_count": 53,
   "id": "5bc33b40-f42d-48f7-adc3-735e9b60b3e0",
   "metadata": {},
   "outputs": [
    {
     "data": {
      "text/plain": [
       "[0, 1, 2, [0, 1]]"
      ]
     },
     "execution_count": 53,
     "metadata": {},
     "output_type": "execute_result"
    }
   ],
   "source": [
    "[0,1,2,[0,1]]"
   ]
  },
  {
   "cell_type": "code",
   "execution_count": 54,
   "id": "9ab64e8e-397a-4124-a9d4-4237e5f91ee6",
   "metadata": {},
   "outputs": [
    {
     "data": {
      "text/plain": [
       "['Groucho', 'Chico', 'Harpo', ['Karl', 'John']]"
      ]
     },
     "execution_count": 54,
     "metadata": {},
     "output_type": "execute_result"
    }
   ],
   "source": [
    "marxes=[\"Groucho\",\"Chico\",\"Harpo\"]\n",
    "others=[\"Karl\",\"John\"]\n",
    "marxes.append(others)\n",
    "marxes"
   ]
  },
  {
   "cell_type": "code",
   "execution_count": 56,
   "id": "6c98d617-4561-4725-89ab-24a4051f8f98",
   "metadata": {},
   "outputs": [
    {
     "data": {
      "text/plain": [
       "[1, 8, 9, 4]"
      ]
     },
     "execution_count": 56,
     "metadata": {},
     "output_type": "execute_result"
    }
   ],
   "source": [
    "numbers=[1,2,3,4]\n",
    "numbers[1:3]=[8,9]\n",
    "numbers"
   ]
  },
  {
   "cell_type": "code",
   "execution_count": 57,
   "id": "6a5bca3b-a415-4a79-a916-c93175e5f04f",
   "metadata": {},
   "outputs": [
    {
     "data": {
      "text/plain": [
       "[1, 7, 8, 9, 4]"
      ]
     },
     "execution_count": 57,
     "metadata": {},
     "output_type": "execute_result"
    }
   ],
   "source": [
    "numbers[1:3]=[7,8,9]\n",
    "numbers"
   ]
  },
  {
   "cell_type": "code",
   "execution_count": 58,
   "id": "fa841f78-6419-4c41-a7a3-3f41e66c6f7d",
   "metadata": {},
   "outputs": [
    {
     "data": {
      "text/plain": [
       "[1, 9, 4]"
      ]
     },
     "execution_count": 58,
     "metadata": {},
     "output_type": "execute_result"
    }
   ],
   "source": [
    "numbers[1:3]=[]\n",
    "numbers"
   ]
  },
  {
   "cell_type": "code",
   "execution_count": 59,
   "id": "0825bb25-2fb2-4118-b2f0-099eda35836a",
   "metadata": {},
   "outputs": [
    {
     "data": {
      "text/plain": [
       "[1, 21, 22, 23]"
      ]
     },
     "execution_count": 59,
     "metadata": {},
     "output_type": "execute_result"
    }
   ],
   "source": [
    "numbers[1:3]=(21,22,23)\n",
    "numbers"
   ]
  },
  {
   "cell_type": "code",
   "execution_count": 60,
   "id": "35f91ec7-dada-431f-aee9-9d1edc281c20",
   "metadata": {},
   "outputs": [
    {
     "data": {
      "text/plain": [
       "[1, 'w', 'a', 't', '?', 4]"
      ]
     },
     "execution_count": 60,
     "metadata": {},
     "output_type": "execute_result"
    }
   ],
   "source": [
    "numbers=[1,2,3,4]\n",
    "numbers[1:3]=\"wat?\"\n",
    "numbers"
   ]
  },
  {
   "cell_type": "code",
   "execution_count": 61,
   "id": "84119dc5-0c86-4bd9-aa0e-3436ec7a0f3a",
   "metadata": {},
   "outputs": [
    {
     "data": {
      "text/plain": [
       "['w', 'a', 't', '?', 4]"
      ]
     },
     "execution_count": 61,
     "metadata": {},
     "output_type": "execute_result"
    }
   ],
   "source": [
    "del numbers[0]\n",
    "numbers"
   ]
  },
  {
   "cell_type": "code",
   "execution_count": 62,
   "id": "f9304e6c-e34d-4807-bfe3-6d56fd84c74d",
   "metadata": {},
   "outputs": [
    {
     "data": {
      "text/plain": [
       "['Chico', 'Harpo']"
      ]
     },
     "execution_count": 62,
     "metadata": {},
     "output_type": "execute_result"
    }
   ],
   "source": [
    "marxes=[\"Groucho\",\"Chico\",\"Harpo\"]\n",
    "marxes.remove(\"Groucho\")\n",
    "marxes"
   ]
  },
  {
   "cell_type": "code",
   "execution_count": 68,
   "id": "feef4673-bb58-4d09-ad46-c4f4b3a89c19",
   "metadata": {},
   "outputs": [
    {
     "name": "stdout",
     "output_type": "stream",
     "text": [
      "['Groucho', 'Chico', 'Harpo'] Zeppo\n"
     ]
    }
   ],
   "source": [
    "#pop() 항목을 얻은 후 삭제\n",
    "marxes=[\"Groucho\",\"Chico\",\"Harpo\",\"Zeppo\"]\n",
    "pop1=marxes.pop()\n",
    "print(marxes,pop1)"
   ]
  },
  {
   "cell_type": "code",
   "execution_count": 69,
   "id": "fc4f5fa3-fa0e-4636-808a-21e54dba3ede",
   "metadata": {},
   "outputs": [
    {
     "name": "stdout",
     "output_type": "stream",
     "text": [
      "['Groucho', 'Chico'] Harpo\n"
     ]
    }
   ],
   "source": [
    "pop2=marxes.pop(2)\n",
    "print(marxes,pop2)"
   ]
  },
  {
   "cell_type": "code",
   "execution_count": 71,
   "id": "93dacbda-22d4-44d8-a934-f025f5b2a578",
   "metadata": {},
   "outputs": [
    {
     "data": {
      "text/plain": [
       "[45]"
      ]
     },
     "execution_count": 71,
     "metadata": {},
     "output_type": "execute_result"
    }
   ],
   "source": [
    "#로또\n",
    "#1~45중 6개\n",
    "l_numbers=[1,2,3,4,5,6,7,45]\n",
    "pop_nu=[]\n",
    "pop_nu.append(l_numbers.pop())\n",
    "pop_nu"
   ]
  },
  {
   "cell_type": "code",
   "execution_count": 72,
   "id": "57fbf3d8-d347-432f-848f-dcbb8fe5e8ed",
   "metadata": {},
   "outputs": [
    {
     "data": {
      "text/plain": [
       "[]"
      ]
     },
     "execution_count": 73,
     "metadata": {},
     "output_type": "execute_result"
    }
   ],
   "source": [
    "l_numbers.clear()\n",
    "l_numbers"
   ]
  },
  {
   "cell_type": "code",
   "execution_count": 74,
   "id": "149cc812-f553-4e36-95ce-1859eed53f47",
   "metadata": {},
   "outputs": [
    {
     "data": {
      "text/plain": [
       "1"
      ]
     },
     "execution_count": 74,
     "metadata": {},
     "output_type": "execute_result"
    }
   ],
   "source": [
    "marxes=[\"Groucho\",\"Chico\",\"Harpo\"]\n",
    "marxes.index(\"Chico\")"
   ]
  },
  {
   "cell_type": "code",
   "execution_count": 75,
   "id": "ff1f97d4-c6e8-487f-b2c2-857e721091d6",
   "metadata": {},
   "outputs": [
    {
     "data": {
      "text/plain": [
       "True"
      ]
     },
     "execution_count": 75,
     "metadata": {},
     "output_type": "execute_result"
    }
   ],
   "source": [
    "\"Groucho\" in marxes"
   ]
  },
  {
   "cell_type": "code",
   "execution_count": 76,
   "id": "2d109a1e-40fe-431c-82a0-1890d98dd5c6",
   "metadata": {},
   "outputs": [
    {
     "data": {
      "text/plain": [
       "False"
      ]
     },
     "execution_count": 76,
     "metadata": {},
     "output_type": "execute_result"
    }
   ],
   "source": [
    "\"Bob\" in marxes"
   ]
  },
  {
   "cell_type": "code",
   "execution_count": 78,
   "id": "03c2e306-1284-4267-b210-09a81b0b1725",
   "metadata": {},
   "outputs": [
    {
     "data": {
      "text/plain": [
       "1"
      ]
     },
     "execution_count": 78,
     "metadata": {},
     "output_type": "execute_result"
    }
   ],
   "source": [
    "marxes.count(\"Harpo\")"
   ]
  },
  {
   "cell_type": "code",
   "execution_count": 80,
   "id": "1af854bf-40a4-4114-a43b-8d317709ad99",
   "metadata": {},
   "outputs": [
    {
     "data": {
      "text/plain": [
       "'2022-08-31'"
      ]
     },
     "execution_count": 80,
     "metadata": {},
     "output_type": "execute_result"
    }
   ],
   "source": [
    "somday=[\"2022\",\"08\",\"31\"]\n",
    "\"-\".join(somday)"
   ]
  },
  {
   "cell_type": "code",
   "execution_count": 81,
   "id": "31a5bbc4-0e9f-49bb-8a15-179bb6cabcc5",
   "metadata": {},
   "outputs": [],
   "source": [
    "#정렬 sort() 문자열 - 사전편찬순, 오름차순\n",
    "marxes=[\"Groucho\",\"Chico\",\"Harpo\",\"Zeppe\",\"Chochi\"]\n",
    "marxes.sort()"
   ]
  },
  {
   "cell_type": "code",
   "execution_count": 82,
   "id": "09596c2b-ca7f-4e75-8cad-83e7aa7c0a75",
   "metadata": {},
   "outputs": [
    {
     "data": {
      "text/plain": [
       "['Chico', 'Chochi', 'Groucho', 'Harpo', 'Zeppe']"
      ]
     },
     "execution_count": 82,
     "metadata": {},
     "output_type": "execute_result"
    }
   ],
   "source": [
    "marxes"
   ]
  },
  {
   "cell_type": "code",
   "execution_count": 83,
   "id": "85c6a4e4-ca42-40b1-a915-aba655f4fbef",
   "metadata": {},
   "outputs": [
    {
     "name": "stdout",
     "output_type": "stream",
     "text": [
      "['Chico', 'Chochi', 'Groucho', 'Harpo', 'Zeppe'] 2880253525696 2880253158528\n"
     ]
    }
   ],
   "source": [
    "# sorted() 정렬한것을 복사본으로 반환\n",
    "marxes=[\"Groucho\",\"Chico\",\"Harpo\",\"Zeppe\",\"Chochi\"]\n",
    "copy_m=sorted(marxes)\n",
    "print(copy_m,id(copy_m),id(marxes))"
   ]
  },
  {
   "cell_type": "code",
   "execution_count": 84,
   "id": "3abffb0f-65a1-4b3e-9737-83f582e56168",
   "metadata": {},
   "outputs": [
    {
     "data": {
      "text/plain": [
       "[1, 2, 3, 4.0]"
      ]
     },
     "execution_count": 84,
     "metadata": {},
     "output_type": "execute_result"
    }
   ],
   "source": [
    "numbers = [2,1,4.0,3]\n",
    "numbers.sort()\n",
    "numbers"
   ]
  },
  {
   "cell_type": "code",
   "execution_count": 85,
   "id": "1910e928-8d41-41f2-9548-15c375a6be05",
   "metadata": {},
   "outputs": [
    {
     "data": {
      "text/plain": [
       "[4.0, 3, 2, 1]"
      ]
     },
     "execution_count": 85,
     "metadata": {},
     "output_type": "execute_result"
    }
   ],
   "source": [
    "numbers.sort(reverse=True)\n",
    "numbers"
   ]
  },
  {
   "cell_type": "code",
   "execution_count": 86,
   "id": "e28c3c4c-e173-4788-9886-4f27fd721086",
   "metadata": {},
   "outputs": [
    {
     "data": {
      "text/plain": [
       "4"
      ]
     },
     "execution_count": 86,
     "metadata": {},
     "output_type": "execute_result"
    }
   ],
   "source": [
    "len(numbers)"
   ]
  },
  {
   "cell_type": "code",
   "execution_count": 87,
   "id": "cb512c61-be00-472c-ab43-9f677c24e6af",
   "metadata": {},
   "outputs": [
    {
     "name": "stdout",
     "output_type": "stream",
     "text": [
      "['surprise', 2, 3] ['surprise', 2, 3]\n"
     ]
    }
   ],
   "source": [
    "a=[1,2,3]\n",
    "b=a\n",
    "a[0]=\"surprise\"\n",
    "print(a,b)"
   ]
  },
  {
   "cell_type": "code",
   "execution_count": 88,
   "id": "13a696e0-273c-49fe-bd2c-e78dfcce125b",
   "metadata": {},
   "outputs": [
    {
     "name": "stdout",
     "output_type": "stream",
     "text": [
      "['surprise', 2, 3] [1, 2, 3]\n"
     ]
    }
   ],
   "source": [
    "a=[1,2,3]\n",
    "b=a.copy()\n",
    "a[0]=\"surprise\"\n",
    "print(a,b)"
   ]
  },
  {
   "cell_type": "code",
   "execution_count": 89,
   "id": "de69a28c-b11c-4754-a874-f00bbc341b7e",
   "metadata": {},
   "outputs": [
    {
     "name": "stdout",
     "output_type": "stream",
     "text": [
      "['surprise', 2, 3] [1, 2, 3]\n"
     ]
    }
   ],
   "source": [
    "a=[1,2,3]\n",
    "c=a[:]\n",
    "a[0]=\"surprise\"\n",
    "print(a,c)"
   ]
  },
  {
   "cell_type": "code",
   "execution_count": 90,
   "id": "a4e63c6c-a25f-4f2e-934a-f00041d3b6ec",
   "metadata": {},
   "outputs": [
    {
     "name": "stdout",
     "output_type": "stream",
     "text": [
      "['surprise', 2, 3] [1, 2, 3]\n"
     ]
    }
   ],
   "source": [
    "a=[1,2,3]\n",
    "c=list(a)\n",
    "a[0]=\"surprise\"\n",
    "print(a,c)"
   ]
  },
  {
   "cell_type": "code",
   "execution_count": 93,
   "id": "2b3c2eab-4820-4e0b-9dc2-66b2a8907d42",
   "metadata": {},
   "outputs": [
    {
     "name": "stdout",
     "output_type": "stream",
     "text": [
      "[1, 2, ['surprise', 9]] [1, 2, ['surprise', 9]]\n"
     ]
    }
   ],
   "source": [
    "a=[1,2,[8,9]]\n",
    "b=a.copy()\n",
    "a[2][0]=\"surprise\"\n",
    "print(a,b)"
   ]
  },
  {
   "cell_type": "code",
   "execution_count": 97,
   "id": "4cfff1c0-851e-46ad-bc01-7b9642790963",
   "metadata": {},
   "outputs": [
    {
     "name": "stdout",
     "output_type": "stream",
     "text": [
      "[1, 2, ['surprise', 9]] [1, 2, [8, 9]]\n"
     ]
    }
   ],
   "source": [
    "#깊은 복사\n",
    "import copy\n",
    "a=[1,2,[8,9]]\n",
    "b=copy.deepcopy(a)\n",
    "a[2][0]=\"surprise\"\n",
    "print(a,b)"
   ]
  },
  {
   "cell_type": "code",
   "execution_count": 98,
   "id": "4bfaf349-ea35-4cf3-8910-8969db56a0da",
   "metadata": {},
   "outputs": [
    {
     "name": "stdout",
     "output_type": "stream",
     "text": [
      "1\n",
      "2\n",
      "[8, 9]\n"
     ]
    }
   ],
   "source": [
    "for x in b:\n",
    "    print(x)"
   ]
  },
  {
   "cell_type": "code",
   "execution_count": 99,
   "id": "1e7be2c2-dfa1-4c70-a5bf-b440864782fd",
   "metadata": {},
   "outputs": [
    {
     "name": "stdout",
     "output_type": "stream",
     "text": [
      "Monday banana coffee tiramisu\n",
      "Tuesday orange tea ice cream\n",
      "Wednseday peach beer pie\n"
     ]
    }
   ],
   "source": [
    "#zip() 여러 시퀀스 순회하기\n",
    "days=[\"Monday\",\"Tuesday\",\"Wednseday\"]\n",
    "fruits=[\"banana\",\"orange\",\"peach\"]\n",
    "drinks=[\"coffee\",\"tea\",\"beer\",\"wisky\"]\n",
    "desserts=[\"tiramisu\",\"ice cream\",\"pie\",\"pudding\"]\n",
    "for day, fruit,drink,dessert in zip(days,fruits,drinks,desserts):\n",
    "    print(day,fruit,drink,dessert)"
   ]
  },
  {
   "cell_type": "code",
   "execution_count": 100,
   "id": "8d9b3e55-9298-49be-9273-04a667c4c570",
   "metadata": {},
   "outputs": [
    {
     "data": {
      "text/plain": [
       "<zip at 0x29e9c722440>"
      ]
     },
     "execution_count": 100,
     "metadata": {},
     "output_type": "execute_result"
    }
   ],
   "source": [
    "zip(days,fruits)"
   ]
  },
  {
   "cell_type": "code",
   "execution_count": 101,
   "id": "51544b10-688b-426b-b8a1-bd4656a367dc",
   "metadata": {},
   "outputs": [
    {
     "data": {
      "text/plain": [
       "[('Monday', 'banana'), ('Tuesday', 'orange'), ('Wednseday', 'peach')]"
      ]
     },
     "execution_count": 101,
     "metadata": {},
     "output_type": "execute_result"
    }
   ],
   "source": [
    "list(zip(days,fruits))"
   ]
  },
  {
   "cell_type": "code",
   "execution_count": 102,
   "id": "aef818d1-4e9f-4714-a885-59e07844379a",
   "metadata": {},
   "outputs": [
    {
     "data": {
      "text/plain": [
       "{'Monday': 'banana', 'Tuesday': 'orange', 'Wednseday': 'peach'}"
      ]
     },
     "execution_count": 102,
     "metadata": {},
     "output_type": "execute_result"
    }
   ],
   "source": [
    "dict(zip(days,fruits))"
   ]
  },
  {
   "cell_type": "code",
   "execution_count": 1,
   "id": "0677f6c9-31c2-4a88-9d93-f5902191f66a",
   "metadata": {},
   "outputs": [
    {
     "data": {
      "text/plain": [
       "[1, 2, 3]"
      ]
     },
     "execution_count": 1,
     "metadata": {},
     "output_type": "execute_result"
    }
   ],
   "source": [
    "#리스트 컴프리헨션\n",
    "number_list=[1,2,3]\n",
    "number_list"
   ]
  },
  {
   "cell_type": "code",
   "execution_count": 3,
   "id": "7062e29c-f326-4f2a-8784-fa57d2726675",
   "metadata": {},
   "outputs": [],
   "source": [
    "number_list=[]\n",
    "number_list.append(1)\n",
    "number_list.append(2)\n",
    "number_list.append(3)"
   ]
  },
  {
   "cell_type": "code",
   "execution_count": 4,
   "id": "b204c3cc-de11-43d3-a5e2-49c7be7325c5",
   "metadata": {},
   "outputs": [
    {
     "data": {
      "text/plain": [
       "[1, 2, 3]"
      ]
     },
     "execution_count": 4,
     "metadata": {},
     "output_type": "execute_result"
    }
   ],
   "source": [
    "number_list"
   ]
  },
  {
   "cell_type": "code",
   "execution_count": 5,
   "id": "d4b3e6e4-25bc-4d80-94c3-540ef5a4010b",
   "metadata": {},
   "outputs": [
    {
     "data": {
      "text/plain": [
       "[0, 1, 2]"
      ]
     },
     "execution_count": 5,
     "metadata": {},
     "output_type": "execute_result"
    }
   ],
   "source": [
    "number_list=[]\n",
    "for number in range(0,3):\n",
    "    number_list.append(number)\n",
    "number_list"
   ]
  },
  {
   "cell_type": "code",
   "execution_count": 6,
   "id": "1de51148-3ccc-4870-bad1-18cc00bead4a",
   "metadata": {},
   "outputs": [
    {
     "data": {
      "text/plain": [
       "[0, 1, 2, 3, 4]"
      ]
     },
     "execution_count": 6,
     "metadata": {},
     "output_type": "execute_result"
    }
   ],
   "source": [
    "number_list=list(range(0,5))\n",
    "number_list"
   ]
  },
  {
   "cell_type": "code",
   "execution_count": 7,
   "id": "07c3b16a-3e89-413a-92e3-3e8324d49fbf",
   "metadata": {},
   "outputs": [
    {
     "data": {
      "text/plain": [
       "[1, 2, 3, 4, 5]"
      ]
     },
     "execution_count": 7,
     "metadata": {},
     "output_type": "execute_result"
    }
   ],
   "source": [
    "#{표현식 for 항목in 순화가능한객체 if 조건}\n",
    "number_list=[number for number in range(1,6)]\n",
    "number_list"
   ]
  },
  {
   "cell_type": "code",
   "execution_count": 8,
   "id": "13b1ce34-6e90-4767-ab91-215d39dd664d",
   "metadata": {},
   "outputs": [
    {
     "data": {
      "text/plain": [
       "[0, 1, 2, 3, 4]"
      ]
     },
     "execution_count": 8,
     "metadata": {},
     "output_type": "execute_result"
    }
   ],
   "source": [
    "number_list=[number-1 for number in range(1,6)]\n",
    "number_list"
   ]
  },
  {
   "cell_type": "code",
   "execution_count": 9,
   "id": "f7d7b4eb-db00-4002-bbbd-98fe6e1e450d",
   "metadata": {},
   "outputs": [
    {
     "data": {
      "text/plain": [
       "[1, 3, 5]"
      ]
     },
     "execution_count": 9,
     "metadata": {},
     "output_type": "execute_result"
    }
   ],
   "source": [
    "a_list=[number for number in range(1,6) if number%2==1]\n",
    "a_list"
   ]
  },
  {
   "cell_type": "code",
   "execution_count": 11,
   "id": "b62e1194-9099-423b-a908-60be59eea011",
   "metadata": {},
   "outputs": [
    {
     "data": {
      "text/plain": [
       "[1, 3, 5]"
      ]
     },
     "execution_count": 11,
     "metadata": {},
     "output_type": "execute_result"
    }
   ],
   "source": [
    "a_list=[]\n",
    "for number in range(1,6):\n",
    "    if number%2==1:\n",
    "        a_list.append(number)\n",
    "a_list"
   ]
  },
  {
   "cell_type": "code",
   "execution_count": 13,
   "id": "d36db4a8-cb7a-4bcb-b2c2-fefc42594a43",
   "metadata": {},
   "outputs": [
    {
     "name": "stdout",
     "output_type": "stream",
     "text": [
      "1 1\n",
      "1 2\n",
      "2 1\n",
      "2 2\n",
      "3 1\n",
      "3 2\n"
     ]
    }
   ],
   "source": [
    "rows=range(1,4)\n",
    "cols=range(1,3)\n",
    "for row in rows:\n",
    "    for col in cols:\n",
    "        print(row,col)\n",
    "        "
   ]
  },
  {
   "cell_type": "code",
   "execution_count": 15,
   "id": "1d6117d2-0e8c-4257-9a77-4802abee54f3",
   "metadata": {},
   "outputs": [
    {
     "name": "stdout",
     "output_type": "stream",
     "text": [
      "(1, 1)\n",
      "1 1\n",
      "(1, 2)\n",
      "1 2\n",
      "(2, 1)\n",
      "2 1\n",
      "(2, 2)\n",
      "2 2\n",
      "(3, 1)\n",
      "3 1\n",
      "(3, 2)\n",
      "3 2\n"
     ]
    }
   ],
   "source": [
    "rows=range(1,4)\n",
    "cols=range(1,3)\n",
    "cells=[(row,col) for row in rows for col in cols]\n",
    "for cell in cells:\n",
    "    row,col=cell\n",
    "    print(cell)\n",
    "    print(row,col)"
   ]
  },
  {
   "cell_type": "code",
   "execution_count": null,
   "id": "9107bbac-e057-4b95-97a7-8314632d672c",
   "metadata": {},
   "outputs": [],
   "source": []
  }
 ],
 "metadata": {
  "kernelspec": {
   "display_name": "Python 3 (ipykernel)",
   "language": "python",
   "name": "python3"
  },
  "language_info": {
   "codemirror_mode": {
    "name": "ipython",
    "version": 3
   },
   "file_extension": ".py",
   "mimetype": "text/x-python",
   "name": "python",
   "nbconvert_exporter": "python",
   "pygments_lexer": "ipython3",
   "version": "3.9.12"
  }
 },
 "nbformat": 4,
 "nbformat_minor": 5
}
