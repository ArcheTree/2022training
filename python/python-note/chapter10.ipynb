{
 "cells": [
  {
   "cell_type": "code",
   "execution_count": 1,
   "id": "549024a9-38c8-412c-8853-d3783d3d2e63",
   "metadata": {},
   "outputs": [],
   "source": [
    "class Cat():\n",
    "    pass\n",
    "\n",
    "#int[] intArr=new int[10]\n",
    "#class - 초기에 다양한 형태의 자료(json포함)를 가지는 묶음\n",
    "#json [{2:[]},{3:3},4,{\"ans\"},{5,0.1}]\n",
    "#클래스 - 부품-재사용성증가 (자동차처림 부품 교체처럼 일부분만 교체 등 수정이 용의함)\n",
    "#객체지향=재사용, 확장성 용의\n",
    "#웹에서 스프링이 좋은 이유 ->공공기간에서 ->전자정보 프레임워크 형태로 납품함\n",
    "#공공기관이 이러니 대기업,중소기업 모두 스프링사용"
   ]
  },
  {
   "cell_type": "code",
   "execution_count": 2,
   "id": "04f7c328-340a-4525-a4f5-48f542396c16",
   "metadata": {},
   "outputs": [
    {
     "name": "stdout",
     "output_type": "stream",
     "text": [
      "2113354028320 2113353934112\n"
     ]
    }
   ],
   "source": [
    "#인스턴스 만드는 법 (new필요없음)\n",
    "\n",
    "a_cats=Cat()\n",
    "another_cats=Cat()\n",
    "print(id(a_cats), id(another_cats))"
   ]
  },
  {
   "cell_type": "code",
   "execution_count": 3,
   "id": "d56fe2b0-01d2-4359-8503-e69bdae18399",
   "metadata": {},
   "outputs": [],
   "source": [
    "a_cats.age=3\n",
    "a_cats.name=\"Mr.Fuzzy\"\n",
    "a_cats.namesis=another_cats"
   ]
  },
  {
   "cell_type": "code",
   "execution_count": 4,
   "id": "f520fa31-2ef9-4027-8439-b17ac64703c5",
   "metadata": {},
   "outputs": [
    {
     "data": {
      "text/plain": [
       "3"
      ]
     },
     "execution_count": 4,
     "metadata": {},
     "output_type": "execute_result"
    }
   ],
   "source": [
    "a_cats.age"
   ]
  },
  {
   "cell_type": "code",
   "execution_count": 5,
   "id": "0eeb32c2-87bf-4461-b4d4-1908b0ca9a31",
   "metadata": {},
   "outputs": [
    {
     "data": {
      "text/plain": [
       "'Mr.Biggle'"
      ]
     },
     "execution_count": 5,
     "metadata": {},
     "output_type": "execute_result"
    }
   ],
   "source": [
    "a_cats.namesis.name=\"Mr.Biggle\"\n",
    "a_cats.namesis.name"
   ]
  },
  {
   "cell_type": "code",
   "execution_count": 6,
   "id": "f9649b12-36e4-4864-9f17-097a32af9f41",
   "metadata": {},
   "outputs": [
    {
     "data": {
      "text/plain": [
       "<__main__.Cat at 0x1ec0db5e520>"
      ]
     },
     "execution_count": 6,
     "metadata": {},
     "output_type": "execute_result"
    }
   ],
   "source": [
    "another_cats"
   ]
  },
  {
   "cell_type": "code",
   "execution_count": 15,
   "id": "9109f033-9dde-4477-ba11-83b08ec840e1",
   "metadata": {},
   "outputs": [],
   "source": [
    "class Cat():\n",
    "    def __init__(self,name):\n",
    "        self.name=name\n",
    "#self = java의 this 와 유사, \n",
    "#일종의 생성자 메소드역할"
   ]
  },
  {
   "cell_type": "code",
   "execution_count": 16,
   "id": "1c06d464-b229-44a6-801f-99dff616eb63",
   "metadata": {},
   "outputs": [],
   "source": [
    "furball=Cat(\"Grumpy\")"
   ]
  },
  {
   "cell_type": "code",
   "execution_count": 20,
   "id": "0f1e6eb3-5989-4990-b35b-f0dfef2970c7",
   "metadata": {},
   "outputs": [],
   "source": [
    "class Car():\n",
    "    def exclaim(self):\n",
    "        print(\"I'm a Car!\")\n",
    "class yugo(Car):\n",
    "    pass\n",
    "#클래스 상속법\n",
    "    "
   ]
  },
  {
   "cell_type": "code",
   "execution_count": 19,
   "id": "4708c0d6-8148-4479-925d-96f66b95a28a",
   "metadata": {},
   "outputs": [
    {
     "data": {
      "text/plain": [
       "True"
      ]
     },
     "execution_count": 19,
     "metadata": {},
     "output_type": "execute_result"
    }
   ],
   "source": [
    "issubclass(yugo,Car)"
   ]
  },
  {
   "cell_type": "code",
   "execution_count": 21,
   "id": "ec070389-6c78-4844-9b75-f55348b1a907",
   "metadata": {},
   "outputs": [
    {
     "name": "stdout",
     "output_type": "stream",
     "text": [
      "I'm a Car!\n"
     ]
    }
   ],
   "source": [
    "give_me_a_car=Car()\n",
    "give_me_a_yugo=yugo()\n",
    "give_me_a_car.exclaim()"
   ]
  },
  {
   "cell_type": "code",
   "execution_count": 22,
   "id": "f0277932-ec23-4878-b7f3-70c7ce9d36b7",
   "metadata": {},
   "outputs": [
    {
     "name": "stdout",
     "output_type": "stream",
     "text": [
      "I'm a Car!\n"
     ]
    }
   ],
   "source": [
    "give_me_a_yugo.exclaim()"
   ]
  },
  {
   "cell_type": "code",
   "execution_count": 23,
   "id": "3fb116df-1bb7-40d2-9bfd-983490a43148",
   "metadata": {},
   "outputs": [],
   "source": [
    "class Car():\n",
    "    def exclaim(self):\n",
    "        print(\"I'm a Car!\")\n",
    "class yugo(Car):\n",
    "    def exclaim(self):\n",
    "        print(\"I'm a Yugo!\")"
   ]
  },
  {
   "cell_type": "code",
   "execution_count": 24,
   "id": "2ac7f062-eb3c-453c-9629-8ab28cff5ba7",
   "metadata": {},
   "outputs": [
    {
     "name": "stdout",
     "output_type": "stream",
     "text": [
      "I'm a Car!\n"
     ]
    }
   ],
   "source": [
    "give_me_a_car.exclaim()"
   ]
  },
  {
   "cell_type": "code",
   "execution_count": 25,
   "id": "6481852d-70b2-4c60-a92c-859de4a21930",
   "metadata": {},
   "outputs": [
    {
     "name": "stdout",
     "output_type": "stream",
     "text": [
      "I'm a Car!\n"
     ]
    }
   ],
   "source": [
    "give_me_a_yugo.exclaim()"
   ]
  },
  {
   "cell_type": "code",
   "execution_count": 26,
   "id": "3d3528c6-93fe-4a90-ad05-27acffadaf9a",
   "metadata": {},
   "outputs": [],
   "source": [
    "give_me_a_car=Car()"
   ]
  },
  {
   "cell_type": "code",
   "execution_count": 27,
   "id": "3d9216af-d3cc-409f-accf-daf18f35508e",
   "metadata": {},
   "outputs": [],
   "source": [
    "give_me_a_yugo=yugo()"
   ]
  },
  {
   "cell_type": "code",
   "execution_count": 28,
   "id": "cba3f073-e6ac-4670-b80b-00a8d800a47c",
   "metadata": {},
   "outputs": [
    {
     "name": "stdout",
     "output_type": "stream",
     "text": [
      "I'm a Car!\n",
      "I'm a Yugo!\n"
     ]
    }
   ],
   "source": [
    "give_me_a_car.exclaim()\n",
    "give_me_a_yugo.exclaim()"
   ]
  },
  {
   "cell_type": "code",
   "execution_count": 34,
   "id": "a17e9e7c-16c4-4397-94ff-f51165734f52",
   "metadata": {},
   "outputs": [
    {
     "name": "stdout",
     "output_type": "stream",
     "text": [
      "Fudd Doctor.Fudd\n"
     ]
    }
   ],
   "source": [
    "class Person():\n",
    "    def __init__(self,name):\n",
    "        self.name=name\n",
    "class MDPerson(Person):\n",
    "    def __init__(self,name):\n",
    "        self.name=\"Doctor.\"+name\n",
    "person=Person(\"Fudd\")\n",
    "doctor=MDPerson(\"Fudd\")\n",
    "print(person.name, doctor.name)"
   ]
  },
  {
   "cell_type": "code",
   "execution_count": 35,
   "id": "aa520c60-db45-4654-b63c-9dc0a171681f",
   "metadata": {},
   "outputs": [],
   "source": [
    "class Car():\n",
    "    def exclaim(self):\n",
    "        print(\"I'm a Car!\")\n",
    "class yugo(Car):\n",
    "    def exclaim(self):\n",
    "        print(\"I'm a Yugo!\")\n",
    "    def need_a_push(self):\n",
    "        print(\"A little help here?\")"
   ]
  },
  {
   "cell_type": "code",
   "execution_count": 36,
   "id": "ed928200-cc49-49ae-98ad-1f233adf993b",
   "metadata": {},
   "outputs": [
    {
     "name": "stdout",
     "output_type": "stream",
     "text": [
      "A little help here?\n"
     ]
    }
   ],
   "source": [
    "a_yugo=yugo()\n",
    "a_yugo.need_a_push()"
   ]
  },
  {
   "cell_type": "code",
   "execution_count": 44,
   "id": "91a1eaa6-55af-4b94-984f-60b1c71f4ad6",
   "metadata": {},
   "outputs": [],
   "source": [
    "class Person():\n",
    "    def __init__(self,name):\n",
    "        self.name=name\n",
    "class EmailPerson(Person):\n",
    "    def __init__(self,name,email):\n",
    "        super().__init__(name)\n",
    "        self.email=email"
   ]
  },
  {
   "cell_type": "code",
   "execution_count": 45,
   "id": "a683a3d7-9277-48ba-a5bc-650a49f81260",
   "metadata": {},
   "outputs": [],
   "source": [
    "Bob = EmailPerson(\"Bob Frapples\", \"bob@hanmail.net\")"
   ]
  },
  {
   "cell_type": "code",
   "execution_count": 46,
   "id": "4486eb64-290c-4200-a9fd-11d9bdb3c700",
   "metadata": {},
   "outputs": [
    {
     "data": {
      "text/plain": [
       "'bob@hanmail.net'"
      ]
     },
     "execution_count": 46,
     "metadata": {},
     "output_type": "execute_result"
    }
   ],
   "source": [
    "Bob.name\n",
    "Bob.email"
   ]
  },
  {
   "cell_type": "code",
   "execution_count": 47,
   "id": "42ea827b-1568-4cd8-8c6a-d4addefe5726",
   "metadata": {},
   "outputs": [
    {
     "data": {
      "text/plain": [
       "'Bob Frapples'"
      ]
     },
     "execution_count": 47,
     "metadata": {},
     "output_type": "execute_result"
    }
   ],
   "source": [
    "Bob.name"
   ]
  },
  {
   "cell_type": "code",
   "execution_count": 50,
   "id": "e3076e0d-27b7-4a69-a0ee-7c2e9f24a41a",
   "metadata": {},
   "outputs": [
    {
     "data": {
      "text/plain": [
       "[__main__.Mul, __main__.Donkey, __main__.Horse, __main__.Animal, object]"
      ]
     },
     "execution_count": 50,
     "metadata": {},
     "output_type": "execute_result"
    }
   ],
   "source": [
    "class Animal:\n",
    "    def says(self):\n",
    "        return \"I speak!\"\n",
    "class Horse(Animal):\n",
    "    def says(self):\n",
    "        return \"Neigh!\"\n",
    "class Donkey(Animal):\n",
    "    def says(self):\n",
    "        return \"Hee-haw!\"\n",
    "class Mul(Donkey,Horse):\n",
    "    pass\n",
    "class Hinny(Horse,Donkey):\n",
    "    pass\n",
    "Mul.mro()"
   ]
  },
  {
   "cell_type": "code",
   "execution_count": 51,
   "id": "8eae74c5-7bf3-42b2-a647-a983b4c81a69",
   "metadata": {},
   "outputs": [
    {
     "data": {
      "text/plain": [
       "[__main__.Hinny, __main__.Horse, __main__.Donkey, __main__.Animal, object]"
      ]
     },
     "execution_count": 51,
     "metadata": {},
     "output_type": "execute_result"
    }
   ],
   "source": [
    "Hinny.mro()"
   ]
  },
  {
   "cell_type": "code",
   "execution_count": 53,
   "id": "1e39fc89-9769-488d-8d6a-54ee3462d41b",
   "metadata": {},
   "outputs": [
    {
     "data": {
      "text/plain": [
       "'Hee-haw!'"
      ]
     },
     "execution_count": 53,
     "metadata": {},
     "output_type": "execute_result"
    }
   ],
   "source": [
    "mul=Mul()\n",
    "hinny=Hinny()\n",
    "mul.says()"
   ]
  },
  {
   "cell_type": "code",
   "execution_count": 54,
   "id": "4eb57036-d5c9-4d80-81c6-a14effb92ad3",
   "metadata": {},
   "outputs": [
    {
     "data": {
      "text/plain": [
       "'Neigh!'"
      ]
     },
     "execution_count": 54,
     "metadata": {},
     "output_type": "execute_result"
    }
   ],
   "source": [
    "hinny.says()"
   ]
  },
  {
   "cell_type": "code",
   "execution_count": 55,
   "id": "aa881e7e-c16e-4646-acb8-dac483cfc86e",
   "metadata": {},
   "outputs": [],
   "source": [
    "#1.자신을 찾고 = 2.부모클래스 찾음 = 3.부모의 부모로 올라감 :순서찾는 함수, mro()"
   ]
  },
  {
   "cell_type": "code",
   "execution_count": 56,
   "id": "f3bc7913-cad1-49d3-b5d0-d4b6f5e1c42e",
   "metadata": {},
   "outputs": [
    {
     "name": "stdout",
     "output_type": "stream",
     "text": [
      "I'm a Car!\n"
     ]
    }
   ],
   "source": [
    "class Car():\n",
    "    def exclaim(self):\n",
    "        print(\"I'm a Car!\")\n",
    "a_car=Car()\n",
    "a_car.exclaim()\n",
    "#a_car 객채의 Car클래스를 찾는다 \n",
    "#a_car 객채를 Car클래스의 exclaim()메서드의 self 매개변에 전달한다.\n"
   ]
  },
  {
   "cell_type": "code",
   "execution_count": 57,
   "id": "67689270-71e2-4a56-a570-cd753915e1d2",
   "metadata": {},
   "outputs": [],
   "source": [
    "class Duck():\n",
    "    def __init__(self,input_name):\n",
    "        self.name=input_name\n"
   ]
  },
  {
   "cell_type": "code",
   "execution_count": 58,
   "id": "a54db625-ab34-482c-bcd4-24808ab8d37d",
   "metadata": {},
   "outputs": [
    {
     "data": {
      "text/plain": [
       "'Daffy'"
      ]
     },
     "execution_count": 58,
     "metadata": {},
     "output_type": "execute_result"
    }
   ],
   "source": [
    "fowl=Duck(\"Daffy\")\n",
    "fowl.name"
   ]
  },
  {
   "cell_type": "code",
   "execution_count": 59,
   "id": "77ca8ac1-8b58-4263-86d3-43a59a109bb5",
   "metadata": {},
   "outputs": [],
   "source": [
    "class Duck():\n",
    "    def __init__(self,input_name):\n",
    "        self.hidden_name=input_name\n",
    "    def get_name(self):\n",
    "        print(\"inside the getter\")\n",
    "        return self.hidden_name"
   ]
  },
  {
   "cell_type": "code",
   "execution_count": 60,
   "id": "1b372024-ef31-4c04-8948-2e97d4dcd861",
   "metadata": {},
   "outputs": [],
   "source": [
    "fowl=Duck(\"Daffy\")"
   ]
  },
  {
   "cell_type": "code",
   "execution_count": 61,
   "id": "6efc0e75-774f-4d7b-aee9-20b169be35b6",
   "metadata": {},
   "outputs": [
    {
     "name": "stdout",
     "output_type": "stream",
     "text": [
      "inside the getter\n"
     ]
    },
    {
     "data": {
      "text/plain": [
       "'Daffy'"
      ]
     },
     "execution_count": 61,
     "metadata": {},
     "output_type": "execute_result"
    }
   ],
   "source": [
    "fowl.get_name()"
   ]
  },
  {
   "cell_type": "code",
   "execution_count": 62,
   "id": "6f84512f-d68a-4c69-8e9d-b1b5b457ed78",
   "metadata": {},
   "outputs": [],
   "source": [
    "#fowl.hidden_name=\"foo\"  -> 직접적인 접근"
   ]
  },
  {
   "cell_type": "code",
   "execution_count": 63,
   "id": "b0f00a57-c982-4344-8f3a-42a874bcb787",
   "metadata": {},
   "outputs": [],
   "source": [
    "class Duck():\n",
    "    def __init__(self,input_name):\n",
    "        self.hidden_name=input_name\n",
    "    def get_name(self):\n",
    "        print(\"inside the getter\")\n",
    "        return self.hidden_name\n",
    "    def set_name(self, input_name):\n",
    "        print(\"inside the setter\")\n",
    "        self.hidden_name=input_name"
   ]
  },
  {
   "cell_type": "code",
   "execution_count": 64,
   "id": "b0d7db30-071e-4266-a39d-203028ab314d",
   "metadata": {},
   "outputs": [],
   "source": [
    "fowl=Duck(\"Daffy\")"
   ]
  },
  {
   "cell_type": "code",
   "execution_count": 65,
   "id": "ca45cb27-4b41-4f79-b4d5-557b31d8207a",
   "metadata": {},
   "outputs": [
    {
     "name": "stdout",
     "output_type": "stream",
     "text": [
      "inside the setter\n"
     ]
    }
   ],
   "source": [
    "fowl.set_name(\"foo\")"
   ]
  },
  {
   "cell_type": "code",
   "execution_count": 66,
   "id": "e192d76e-f1b3-4b5b-8fa4-0658f048bfcc",
   "metadata": {},
   "outputs": [
    {
     "name": "stdout",
     "output_type": "stream",
     "text": [
      "inside the getter\n"
     ]
    },
    {
     "data": {
      "text/plain": [
       "'foo'"
      ]
     },
     "execution_count": 66,
     "metadata": {},
     "output_type": "execute_result"
    }
   ],
   "source": [
    "fowl.get_name()"
   ]
  },
  {
   "cell_type": "code",
   "execution_count": 67,
   "id": "5f5a7e25-e290-4217-9166-1e0fe7c29661",
   "metadata": {},
   "outputs": [],
   "source": [
    "class Duck():\n",
    "    def __init__(self,input_name):\n",
    "        self.hidden_name=input_name\n",
    "    @property\n",
    "    def name(self):\n",
    "        print(\"inside the getter\")\n",
    "        return self.hidden_name\n",
    "    @name.setter\n",
    "    def name(self, input_name):\n",
    "        print(\"inside the setter\")\n",
    "        self.hidden_name=input_name\n",
    "    "
   ]
  },
  {
   "cell_type": "code",
   "execution_count": 69,
   "id": "efb613fa-9715-46a3-a0cd-a0674c947b7a",
   "metadata": {},
   "outputs": [
    {
     "name": "stdout",
     "output_type": "stream",
     "text": [
      "inside the getter\n"
     ]
    },
    {
     "data": {
      "text/plain": [
       "'Daffy'"
      ]
     },
     "execution_count": 69,
     "metadata": {},
     "output_type": "execute_result"
    }
   ],
   "source": [
    "fowl=Duck(\"Daffy\")\n",
    "fowl.name"
   ]
  },
  {
   "cell_type": "code",
   "execution_count": 71,
   "id": "e7b1b9af-b94a-48f9-884b-359c7189ca10",
   "metadata": {},
   "outputs": [],
   "source": [
    "class Duck():\n",
    "    def __init__(self,input_name):\n",
    "        self.hidden_name=input_name\n",
    "    def get_name(self):\n",
    "        print(\"inside the getter\")\n",
    "        return self.hidden_name\n",
    "    def set_name(self, input_name):\n",
    "        print(\"inside the setter\")\n",
    "        self.hidden_name=input_name\n",
    "    name=property(get_name,set_name)"
   ]
  },
  {
   "cell_type": "code",
   "execution_count": 72,
   "id": "afbff77c-1e51-442c-910b-50b5e72d4d88",
   "metadata": {},
   "outputs": [
    {
     "name": "stdout",
     "output_type": "stream",
     "text": [
      "inside the getter\n"
     ]
    },
    {
     "data": {
      "text/plain": [
       "'Daffy'"
      ]
     },
     "execution_count": 72,
     "metadata": {},
     "output_type": "execute_result"
    }
   ],
   "source": [
    "fowl=Duck(\"Daffy\")\n",
    "fowl.name"
   ]
  },
  {
   "cell_type": "code",
   "execution_count": 73,
   "id": "bfdbaeae-8722-49f7-b64e-1c6a9b4433c3",
   "metadata": {},
   "outputs": [],
   "source": [
    "class Animal:\n",
    "    def says(self):\n",
    "        return \"I speak!\"\n",
    "class Horse(Animal):\n",
    "    def says(self):\n",
    "        return \"Neigh!\"\n",
    "class Donkey(Animal):\n",
    "    def says(self):\n",
    "        return \"Hee-haw!\"\n",
    "class Duck():\n",
    "    def says(self):\n",
    "        return \"quacke!\""
   ]
  },
  {
   "cell_type": "code",
   "execution_count": 75,
   "id": "cd3c088f-28dc-4dd6-86f3-94f00eef65bb",
   "metadata": {},
   "outputs": [
    {
     "name": "stdout",
     "output_type": "stream",
     "text": [
      "I speak!\n",
      "Neigh!\n",
      "Hee-haw!\n",
      "quacke!\n"
     ]
    }
   ],
   "source": [
    "animal=Animal()\n",
    "horse=Horse()\n",
    "donkey=Donkey()\n",
    "duc=Duck()\n",
    "ani_family=[animal,horse,donkey,duc]\n",
    "for ani in ani_family:\n",
    "    print(ani.says())"
   ]
  },
  {
   "cell_type": "code",
   "execution_count": null,
   "id": "64a059b3-1d50-4185-ba8e-36decb90062e",
   "metadata": {},
   "outputs": [],
   "source": []
  }
 ],
 "metadata": {
  "kernelspec": {
   "display_name": "Python 3 (ipykernel)",
   "language": "python",
   "name": "python3"
  },
  "language_info": {
   "codemirror_mode": {
    "name": "ipython",
    "version": 3
   },
   "file_extension": ".py",
   "mimetype": "text/x-python",
   "name": "python",
   "nbconvert_exporter": "python",
   "pygments_lexer": "ipython3",
   "version": "3.9.12"
  }
 },
 "nbformat": 4,
 "nbformat_minor": 5
}
