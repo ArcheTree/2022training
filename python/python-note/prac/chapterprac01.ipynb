{
 "cells": [
  {
   "cell_type": "code",
   "execution_count": 1,
   "id": "669c38fc-936b-4108-a397-3894bdd2eea7",
   "metadata": {},
   "outputs": [
    {
     "data": {
      "text/plain": [
       "99"
      ]
     },
     "execution_count": 1,
     "metadata": {},
     "output_type": "execute_result"
    }
   ],
   "source": [
    "prince = 99\n",
    "prince"
   ]
  },
  {
   "cell_type": "code",
   "execution_count": 2,
   "id": "593caf46-f5ec-4d0b-bc76-15720d13bf56",
   "metadata": {},
   "outputs": [
    {
     "data": {
      "text/plain": [
       "int"
      ]
     },
     "execution_count": 2,
     "metadata": {},
     "output_type": "execute_result"
    }
   ],
   "source": [
    "type(5)"
   ]
  },
  {
   "cell_type": "code",
   "execution_count": 3,
   "id": "b3f372b5-1dbc-43a0-a19e-74503829a5c7",
   "metadata": {},
   "outputs": [
    {
     "data": {
      "text/plain": [
       "float"
      ]
     },
     "execution_count": 3,
     "metadata": {},
     "output_type": "execute_result"
    }
   ],
   "source": [
    "type(2.0)"
   ]
  },
  {
   "cell_type": "code",
   "execution_count": 4,
   "id": "6fd11507-6992-431c-ac68-cc2b6db4442c",
   "metadata": {},
   "outputs": [
    {
     "data": {
      "text/plain": [
       "float"
      ]
     },
     "execution_count": 4,
     "metadata": {},
     "output_type": "execute_result"
    }
   ],
   "source": [
    "type(5+2.0)"
   ]
  },
  {
   "cell_type": "code",
   "execution_count": 5,
   "id": "bf02b641-b210-486c-95a6-71858e314e92",
   "metadata": {},
   "outputs": [
    {
     "data": {
      "text/plain": [
       "3600"
      ]
     },
     "execution_count": 5,
     "metadata": {},
     "output_type": "execute_result"
    }
   ],
   "source": [
    "sum = 60*60\n",
    "sum"
   ]
  },
  {
   "cell_type": "code",
   "execution_count": 6,
   "id": "fe7881c7-94ff-4c94-8872-ab88eeb17d57",
   "metadata": {},
   "outputs": [
    {
     "data": {
      "text/plain": [
       "86400"
      ]
     },
     "execution_count": 6,
     "metadata": {},
     "output_type": "execute_result"
    }
   ],
   "source": [
    "seconds_per_hour = 3600\n",
    "24*seconds_per_hour"
   ]
  },
  {
   "cell_type": "code",
   "execution_count": 7,
   "id": "e5f245d7-5efc-4b18-8bc8-ad31de62e436",
   "metadata": {},
   "outputs": [
    {
     "data": {
      "text/plain": [
       "24.0"
      ]
     },
     "execution_count": 7,
     "metadata": {},
     "output_type": "execute_result"
    }
   ],
   "source": [
    "seconds_per_day=24*seconds_per_hour\n",
    "seconds_per_day/seconds_per_hour"
   ]
  },
  {
   "cell_type": "code",
   "execution_count": 9,
   "id": "da0e2c22-07df-494a-884f-b5f51f7a565c",
   "metadata": {},
   "outputs": [
    {
     "data": {
      "text/plain": [
       "24"
      ]
     },
     "execution_count": 9,
     "metadata": {},
     "output_type": "execute_result"
    }
   ],
   "source": [
    "seconds_per_day//seconds_per_hour"
   ]
  },
  {
   "cell_type": "code",
   "execution_count": 1,
   "id": "ebacafe4-2fa8-4c42-a295-e635092230ea",
   "metadata": {},
   "outputs": [],
   "source": [
    "secret = 8\n",
    "guess=3"
   ]
  },
  {
   "cell_type": "code",
   "execution_count": 3,
   "id": "3eaaa6fa-157a-4879-8d16-63d4655f063b",
   "metadata": {},
   "outputs": [
    {
     "name": "stdout",
     "output_type": "stream",
     "text": [
      "too high\n"
     ]
    }
   ],
   "source": [
    "if guess>secret:\n",
    "    print(\"too low\")\n",
    "elif guess<secret:\n",
    "    print(\"too high\")\n",
    "else:\n",
    "    print(\"just right\")"
   ]
  },
  {
   "cell_type": "code",
   "execution_count": 4,
   "id": "5745a7c7-ba55-4550-b507-995e0ecd8fe8",
   "metadata": {},
   "outputs": [],
   "source": [
    "small = True\n",
    "green = False"
   ]
  },
  {
   "cell_type": "code",
   "execution_count": 7,
   "id": "ad1507f8-e1fc-47ce-b9ab-7fd38f584f1e",
   "metadata": {},
   "outputs": [
    {
     "name": "stdout",
     "output_type": "stream",
     "text": [
      "수박\n"
     ]
    }
   ],
   "source": [
    "if small:\n",
    "    if green:\n",
    "        print(\"완두콩\")\n",
    "    else:\n",
    "        print(\"수박\")\n",
    "else:\n",
    "    if green:\n",
    "        print(\"호박\")\n",
    "    else:\n",
    "        print(\"체리\")"
   ]
  },
  {
   "cell_type": "code",
   "execution_count": null,
   "id": "77df6d4a-be42-4afd-8535-a1e8137b1ffa",
   "metadata": {},
   "outputs": [],
   "source": []
  }
 ],
 "metadata": {
  "kernelspec": {
   "display_name": "Python 3 (ipykernel)",
   "language": "python",
   "name": "python3"
  },
  "language_info": {
   "codemirror_mode": {
    "name": "ipython",
    "version": 3
   },
   "file_extension": ".py",
   "mimetype": "text/x-python",
   "name": "python",
   "nbconvert_exporter": "python",
   "pygments_lexer": "ipython3",
   "version": "3.9.12"
  }
 },
 "nbformat": 4,
 "nbformat_minor": 5
}
