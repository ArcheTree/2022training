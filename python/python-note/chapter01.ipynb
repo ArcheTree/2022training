{
 "cells": [
  {
   "cell_type": "code",
   "execution_count": 2,
   "id": "e66c3db5-184d-4178-bece-843c243cae2a",
   "metadata": {},
   "outputs": [
    {
     "name": "stdout",
     "output_type": "stream",
     "text": [
      "Hello World\n"
     ]
    }
   ],
   "source": [
    "print(\"Hello World\")"
   ]
  },
  {
   "cell_type": "code",
   "execution_count": 3,
   "id": "2930d195-a79b-4907-9954-3114dcc82162",
   "metadata": {},
   "outputs": [],
   "source": [
    "# python 90년대 귄도 반 로섬이 만듬"
   ]
  },
  {
   "cell_type": "code",
   "execution_count": 4,
   "id": "e48358d5-68dd-4ee6-8871-a833b65b4c01",
   "metadata": {},
   "outputs": [
    {
     "name": "stdout",
     "output_type": "stream",
     "text": [
      "The Zen of Python, by Tim Peters\n",
      "\n",
      "Beautiful is better than ugly.\n",
      "Explicit is better than implicit.\n",
      "Simple is better than complex.\n",
      "Complex is better than complicated.\n",
      "Flat is better than nested.\n",
      "Sparse is better than dense.\n",
      "Readability counts.\n",
      "Special cases aren't special enough to break the rules.\n",
      "Although practicality beats purity.\n",
      "Errors should never pass silently.\n",
      "Unless explicitly silenced.\n",
      "In the face of ambiguity, refuse the temptation to guess.\n",
      "There should be one-- and preferably only one --obvious way to do it.\n",
      "Although that way may not be obvious at first unless you're Dutch.\n",
      "Now is better than never.\n",
      "Although never is often better than *right* now.\n",
      "If the implementation is hard to explain, it's a bad idea.\n",
      "If the implementation is easy to explain, it may be a good idea.\n",
      "Namespaces are one honking great idea -- let's do more of those!\n"
     ]
    }
   ],
   "source": [
    "import this"
   ]
  },
  {
   "cell_type": "code",
   "execution_count": 5,
   "id": "8d0aa5c7-f4df-4b25-bd25-d897a733c1ea",
   "metadata": {},
   "outputs": [
    {
     "data": {
      "text/plain": [
       "['False',\n",
       " 'None',\n",
       " 'True',\n",
       " '__peg_parser__',\n",
       " 'and',\n",
       " 'as',\n",
       " 'assert',\n",
       " 'async',\n",
       " 'await',\n",
       " 'break',\n",
       " 'class',\n",
       " 'continue',\n",
       " 'def',\n",
       " 'del',\n",
       " 'elif',\n",
       " 'else',\n",
       " 'except',\n",
       " 'finally',\n",
       " 'for',\n",
       " 'from',\n",
       " 'global',\n",
       " 'if',\n",
       " 'import',\n",
       " 'in',\n",
       " 'is',\n",
       " 'lambda',\n",
       " 'nonlocal',\n",
       " 'not',\n",
       " 'or',\n",
       " 'pass',\n",
       " 'raise',\n",
       " 'return',\n",
       " 'try',\n",
       " 'while',\n",
       " 'with',\n",
       " 'yield']"
      ]
     },
     "execution_count": 5,
     "metadata": {},
     "output_type": "execute_result"
    }
   ],
   "source": [
    "import keyword\n",
    "keyword.kwlist"
   ]
  },
  {
   "cell_type": "code",
   "execution_count": 6,
   "id": "051604d1-c11e-490a-a22a-4c11994f82e1",
   "metadata": {},
   "outputs": [
    {
     "data": {
      "text/plain": [
       "12"
      ]
     },
     "execution_count": 6,
     "metadata": {},
     "output_type": "execute_result"
    }
   ],
   "source": [
    "y=12\n",
    "y"
   ]
  },
  {
   "cell_type": "code",
   "execution_count": 7,
   "id": "a8ad11e4-9347-4acb-962a-383565d62d82",
   "metadata": {},
   "outputs": [],
   "source": [
    "x=5"
   ]
  },
  {
   "cell_type": "code",
   "execution_count": 9,
   "id": "5676c997-d6e6-4c1a-83f8-18a1d9e8a926",
   "metadata": {},
   "outputs": [],
   "source": [
    "z=6"
   ]
  },
  {
   "cell_type": "code",
   "execution_count": 10,
   "id": "0c444df2-ccc2-4605-a3f5-7eaba85f0838",
   "metadata": {},
   "outputs": [
    {
     "name": "stdout",
     "output_type": "stream",
     "text": [
      "5\n"
     ]
    },
    {
     "data": {
      "text/plain": [
       "17"
      ]
     },
     "execution_count": 10,
     "metadata": {},
     "output_type": "execute_result"
    }
   ],
   "source": [
    "y=x+12\n",
    "print(x)\n",
    "y"
   ]
  },
  {
   "cell_type": "code",
   "execution_count": 11,
   "id": "9fb68bb6-9f76-4af6-abc5-408c6fdcd2d7",
   "metadata": {},
   "outputs": [
    {
     "data": {
      "text/plain": [
       "int"
      ]
     },
     "execution_count": 11,
     "metadata": {},
     "output_type": "execute_result"
    }
   ],
   "source": [
    "type(7)"
   ]
  },
  {
   "cell_type": "code",
   "execution_count": 12,
   "id": "262f610e-e2fc-4002-8d63-0e267dec69f1",
   "metadata": {},
   "outputs": [
    {
     "data": {
      "text/plain": [
       "True"
      ]
     },
     "execution_count": 12,
     "metadata": {},
     "output_type": "execute_result"
    }
   ],
   "source": [
    "type(7)==int"
   ]
  },
  {
   "cell_type": "code",
   "execution_count": 16,
   "id": "e19231b4-89d6-4864-8019-853a4f60e280",
   "metadata": {},
   "outputs": [
    {
     "data": {
      "text/plain": [
       "True"
      ]
     },
     "execution_count": 16,
     "metadata": {},
     "output_type": "execute_result"
    }
   ],
   "source": [
    "a=7\n",
    "isinstance(a,int)"
   ]
  },
  {
   "cell_type": "code",
   "execution_count": 17,
   "id": "6717771d-aed9-480e-8d5f-2a3118d0deee",
   "metadata": {},
   "outputs": [
    {
     "name": "stdout",
     "output_type": "stream",
     "text": [
      "2 2 2\n"
     ]
    }
   ],
   "source": [
    "two=deux=zwei=2\n",
    "print(two,deux,zwei)"
   ]
  },
  {
   "cell_type": "code",
   "execution_count": 20,
   "id": "0c997c72-e8b6-466f-a7c6-0743c6cd0f10",
   "metadata": {},
   "outputs": [
    {
     "data": {
      "text/plain": [
       "5"
      ]
     },
     "execution_count": 20,
     "metadata": {},
     "output_type": "execute_result"
    }
   ],
   "source": [
    "#변수는 깊은 복사가 된다.\n",
    "x=5\n",
    "y=x\n",
    "x=29\n",
    "y"
   ]
  },
  {
   "cell_type": "code",
   "execution_count": 19,
   "id": "7a22f0d5-4aec-43d2-b9df-13f6df903419",
   "metadata": {},
   "outputs": [
    {
     "name": "stdout",
     "output_type": "stream",
     "text": [
      "[99, 4, 6] [99, 4, 6]\n"
     ]
    }
   ],
   "source": [
    "#리스트(배열)은 얕은 복사가 된다.\n",
    "a=[2,4,6]\n",
    "b=a\n",
    "a[0]=99\n",
    "print(a,b)"
   ]
  },
  {
   "cell_type": "code",
   "execution_count": 21,
   "id": "d278ae6c-e8fc-43ce-addb-945223b8a059",
   "metadata": {},
   "outputs": [
    {
     "data": {
      "text/plain": [
       "True"
      ]
     },
     "execution_count": 21,
     "metadata": {},
     "output_type": "execute_result"
    }
   ],
   "source": [
    "# bool() - 파이썬 데이터 타입을 불리언으로 변환\n",
    "bool(True)"
   ]
  },
  {
   "cell_type": "code",
   "execution_count": 22,
   "id": "7d211966-a161-41d4-bb51-8e837c0f9724",
   "metadata": {},
   "outputs": [
    {
     "data": {
      "text/plain": [
       "True"
      ]
     },
     "execution_count": 22,
     "metadata": {},
     "output_type": "execute_result"
    }
   ],
   "source": [
    "bool(1)"
   ]
  },
  {
   "cell_type": "code",
   "execution_count": 23,
   "id": "3b089eb6-be78-4493-a3f8-08f18169b5f3",
   "metadata": {},
   "outputs": [
    {
     "ename": "NameError",
     "evalue": "name 'false' is not defined",
     "output_type": "error",
     "traceback": [
      "\u001b[1;31m---------------------------------------------------------------------------\u001b[0m",
      "\u001b[1;31mNameError\u001b[0m                                 Traceback (most recent call last)",
      "Input \u001b[1;32mIn [23]\u001b[0m, in \u001b[0;36m<cell line: 1>\u001b[1;34m()\u001b[0m\n\u001b[1;32m----> 1\u001b[0m \u001b[38;5;28mbool\u001b[39m(\u001b[43mfalse\u001b[49m)\n",
      "\u001b[1;31mNameError\u001b[0m: name 'false' is not defined"
     ]
    }
   ],
   "source": [
    "bool(false)"
   ]
  },
  {
   "cell_type": "code",
   "execution_count": 24,
   "id": "e1e48bd7-7a9a-43b3-b3ab-8e5d5e68c627",
   "metadata": {},
   "outputs": [
    {
     "data": {
      "text/plain": [
       "False"
      ]
     },
     "execution_count": 24,
     "metadata": {},
     "output_type": "execute_result"
    }
   ],
   "source": [
    "bool(False)"
   ]
  },
  {
   "cell_type": "code",
   "execution_count": 25,
   "id": "2a63bf8e-5d27-46cb-97bd-86e9fcc3ae43",
   "metadata": {},
   "outputs": [
    {
     "data": {
      "text/plain": [
       "False"
      ]
     },
     "execution_count": 25,
     "metadata": {},
     "output_type": "execute_result"
    }
   ],
   "source": [
    "bool(0)"
   ]
  },
  {
   "cell_type": "code",
   "execution_count": 26,
   "id": "d42a8b40-1f9d-498d-914a-88413d1b8a36",
   "metadata": {},
   "outputs": [
    {
     "data": {
      "text/plain": [
       "True"
      ]
     },
     "execution_count": 26,
     "metadata": {},
     "output_type": "execute_result"
    }
   ],
   "source": [
    "bool(-22)"
   ]
  },
  {
   "cell_type": "code",
   "execution_count": 27,
   "id": "bacb8c47-2472-46f4-9b61-2f794757fe68",
   "metadata": {},
   "outputs": [
    {
     "data": {
      "text/plain": [
       "False"
      ]
     },
     "execution_count": 27,
     "metadata": {},
     "output_type": "execute_result"
    }
   ],
   "source": [
    "bool(0.0)"
   ]
  },
  {
   "cell_type": "code",
   "execution_count": 28,
   "id": "c79fea77-519b-419b-868e-662e3a0ad0fb",
   "metadata": {},
   "outputs": [],
   "source": [
    "# +,-,*,/,%,**(지수),//(소주점이하 버림)"
   ]
  },
  {
   "cell_type": "code",
   "execution_count": 29,
   "id": "21c92285-a249-4535-ae74-a0a731f11ed9",
   "metadata": {},
   "outputs": [
    {
     "data": {
      "text/plain": [
       "1.8"
      ]
     },
     "execution_count": 29,
     "metadata": {},
     "output_type": "execute_result"
    }
   ],
   "source": [
    "9/5"
   ]
  },
  {
   "cell_type": "code",
   "execution_count": 30,
   "id": "603aa598-8825-485b-90ed-0b9241239204",
   "metadata": {},
   "outputs": [
    {
     "data": {
      "text/plain": [
       "1"
      ]
     },
     "execution_count": 30,
     "metadata": {},
     "output_type": "execute_result"
    }
   ],
   "source": [
    "9//5"
   ]
  },
  {
   "cell_type": "code",
   "execution_count": 31,
   "id": "7e3de7b4-03bb-47f5-9772-a0207431def4",
   "metadata": {},
   "outputs": [
    {
     "data": {
      "text/plain": [
       "34359738368"
      ]
     },
     "execution_count": 31,
     "metadata": {},
     "output_type": "execute_result"
    }
   ],
   "source": [
    "2**35"
   ]
  },
  {
   "cell_type": "code",
   "execution_count": 32,
   "id": "6f54cbd4-12cf-4ee3-bd64-0819a608d57b",
   "metadata": {},
   "outputs": [
    {
     "data": {
      "text/plain": [
       "20"
      ]
     },
     "execution_count": 32,
     "metadata": {},
     "output_type": "execute_result"
    }
   ],
   "source": [
    "2*10"
   ]
  },
  {
   "cell_type": "code",
   "execution_count": 33,
   "id": "1edd1dda-d180-49da-b2bf-f1420a4749b9",
   "metadata": {},
   "outputs": [
    {
     "data": {
      "text/plain": [
       "1024"
      ]
     },
     "execution_count": 33,
     "metadata": {},
     "output_type": "execute_result"
    }
   ],
   "source": [
    "2**10"
   ]
  },
  {
   "cell_type": "code",
   "execution_count": 34,
   "id": "b9989d00-4ab2-48be-9140-4d26695af494",
   "metadata": {},
   "outputs": [
    {
     "data": {
      "text/plain": [
       "(1, 4)"
      ]
     },
     "execution_count": 34,
     "metadata": {},
     "output_type": "execute_result"
    }
   ],
   "source": [
    "#divmod() 몫과 나머지를 동시에 기록\n",
    "divmod(9,5)"
   ]
  },
  {
   "cell_type": "code",
   "execution_count": 35,
   "id": "4db68675-5834-4e1b-8ceb-49fee4ec41e2",
   "metadata": {},
   "outputs": [
    {
     "name": "stdout",
     "output_type": "stream",
     "text": [
      "1\n"
     ]
    }
   ],
   "source": [
    "#int() 정수로 변환\n",
    "print(int(True))"
   ]
  },
  {
   "cell_type": "code",
   "execution_count": 36,
   "id": "263487be-4d31-4d69-b9c0-48926c75d2b9",
   "metadata": {},
   "outputs": [
    {
     "name": "stdout",
     "output_type": "stream",
     "text": [
      "0\n"
     ]
    }
   ],
   "source": [
    "print(int(False))"
   ]
  },
  {
   "cell_type": "code",
   "execution_count": 37,
   "id": "e9d45ab0-5b5e-4e73-b4d1-f8dd1b7c3e38",
   "metadata": {},
   "outputs": [
    {
     "name": "stdout",
     "output_type": "stream",
     "text": [
      "98\n"
     ]
    }
   ],
   "source": [
    "print(int(98.32))"
   ]
  },
  {
   "cell_type": "code",
   "execution_count": 38,
   "id": "5dbcb303-7c26-4f47-afa7-c246ea33c49f",
   "metadata": {},
   "outputs": [
    {
     "name": "stdout",
     "output_type": "stream",
     "text": [
      "2\n"
     ]
    }
   ],
   "source": [
    "print(int('10',2))"
   ]
  },
  {
   "cell_type": "code",
   "execution_count": 41,
   "id": "f686902c-3cde-4f13-a64d-e64d7b8aadf6",
   "metadata": {},
   "outputs": [
    {
     "name": "stdout",
     "output_type": "stream",
     "text": [
      "38\n",
      "8\n",
      "1048848\n",
      "16\n"
     ]
    }
   ],
   "source": [
    "print(int('100110',2))\n",
    "#8진수를 정수로\n",
    "print(int('10',8))\n",
    "#16진수를 정수로\n",
    "print(int('100110',16))\n",
    "print(int('10',16))"
   ]
  },
  {
   "cell_type": "code",
   "execution_count": 43,
   "id": "c24dcf4c-ce32-4db8-a5a0-4a897063fcf5",
   "metadata": {},
   "outputs": [
    {
     "data": {
      "text/plain": [
       "10000000000000000000000000000000000000000000000000000000000000000000000000000000000000000000000000000"
      ]
     },
     "execution_count": 43,
     "metadata": {},
     "output_type": "execute_result"
    }
   ],
   "source": [
    "#파이선의 변수 저장공간은 유동적이다\n",
    "googol=10**100\n",
    "googol"
   ]
  },
  {
   "cell_type": "code",
   "execution_count": 44,
   "id": "d5d6a1bb-3a5f-4ee7-b841-43a8d205bb99",
   "metadata": {},
   "outputs": [
    {
     "data": {
      "text/plain": [
       "4294967296"
      ]
     },
     "execution_count": 44,
     "metadata": {},
     "output_type": "execute_result"
    }
   ],
   "source": [
    "# 자바int는 4byte(32bit)임 2**32-주소선 계산-의 경우의수 -21억~+21억 정도만 표현가능\n",
    "2**32"
   ]
  },
  {
   "cell_type": "code",
   "execution_count": 46,
   "id": "02d7fc91-653f-4ec7-b4b8-ddef6e226129",
   "metadata": {},
   "outputs": [
    {
     "data": {
      "text/plain": [
       "92.0"
      ]
     },
     "execution_count": 46,
     "metadata": {},
     "output_type": "execute_result"
    }
   ],
   "source": [
    "#부동 소주점\n",
    "float(92)"
   ]
  },
  {
   "cell_type": "code",
   "execution_count": 47,
   "id": "df52986a-2e97-4fd3-b374-ab71b0a93fa1",
   "metadata": {},
   "outputs": [
    {
     "data": {
      "text/plain": [
       "95.2"
      ]
     },
     "execution_count": 47,
     "metadata": {},
     "output_type": "execute_result"
    }
   ],
   "source": [
    "float('95.2')"
   ]
  },
  {
   "cell_type": "code",
   "execution_count": 48,
   "id": "79cb9af1-ea30-4bff-8622-053659192836",
   "metadata": {},
   "outputs": [
    {
     "name": "stdout",
     "output_type": "stream",
     "text": [
      "#asd\n"
     ]
    }
   ],
   "source": [
    "# 파이썬에서 주석은 해시태그 뿐\n",
    "print('#asd')"
   ]
  },
  {
   "cell_type": "code",
   "execution_count": 49,
   "id": "1de1297c-3554-46a6-9478-35f6128913a7",
   "metadata": {},
   "outputs": [
    {
     "data": {
      "text/plain": [
       "3"
      ]
     },
     "execution_count": 49,
     "metadata": {},
     "output_type": "execute_result"
    }
   ],
   "source": [
    "sum=0\n",
    "sum+=1\n",
    "sum+=2\n",
    "sum"
   ]
  },
  {
   "cell_type": "code",
   "execution_count": 51,
   "id": "86bd9211-0627-45c9-a358-9ded674e79a9",
   "metadata": {},
   "outputs": [
    {
     "data": {
      "text/plain": [
       "15"
      ]
     },
     "execution_count": 51,
     "metadata": {},
     "output_type": "execute_result"
    }
   ],
   "source": [
    "#문장이 끝나느 표시로 ; 을 써도 ,생략해도 된다.\n",
    "# 단, 2줄이상을 하나의 로직으로 하고 싶을때 \\ <-백 슬러시 로 표시\n",
    "sum2=1+2\\\n",
    "+3+4+5\n",
    "sum2"
   ]
  },
  {
   "cell_type": "code",
   "execution_count": 52,
   "id": "852655b9-5c15-4a55-860b-193d28655026",
   "metadata": {},
   "outputs": [
    {
     "data": {
      "text/plain": [
       "41"
      ]
     },
     "execution_count": 52,
     "metadata": {},
     "output_type": "execute_result"
    }
   ],
   "source": [
    "sum3=(1+23+3\n",
    "      +5+9)\n",
    "sum3"
   ]
  },
  {
   "cell_type": "code",
   "execution_count": 53,
   "id": "7af7f122-a896-4e59-923a-0e85dae15ab1",
   "metadata": {},
   "outputs": [
    {
     "name": "stdout",
     "output_type": "stream",
     "text": [
      "If.Woe!\n",
      "If.Woe2!\n",
      "If.Woe3!\n"
     ]
    }
   ],
   "source": [
    "#if  - 블럭 들여쓰기 여부로 문장 완료 여부 구분\n",
    "disaster=True\n",
    "if disaster:\n",
    "    print(\"If.Woe!\")\n",
    "    print(\"If.Woe2!\")\n",
    "    print(\"If.Woe3!\")"
   ]
  },
  {
   "cell_type": "code",
   "execution_count": 55,
   "id": "b978ae6e-2461-49ce-8772-eaef8756f395",
   "metadata": {},
   "outputs": [
    {
     "name": "stdout",
     "output_type": "stream",
     "text": [
      "If.Woe3!\n"
     ]
    }
   ],
   "source": [
    "disaster=False\n",
    "if disaster:\n",
    "    print(\"If.Woe!\")\n",
    "    print(\"If.Woe2!\")\n",
    "print(\"If.Woe3!\")"
   ]
  },
  {
   "cell_type": "code",
   "execution_count": 58,
   "id": "12de6585-b9a2-4c29-a176-67dfb261ae5e",
   "metadata": {},
   "outputs": [
    {
     "ename": "IndentationError",
     "evalue": "unexpected indent (1042738485.py, line 4)",
     "output_type": "error",
     "traceback": [
      "\u001b[1;36m  Input \u001b[1;32mIn [58]\u001b[1;36m\u001b[0m\n\u001b[1;33m    print(\"If.Woe3!\")\u001b[0m\n\u001b[1;37m    ^\u001b[0m\n\u001b[1;31mIndentationError\u001b[0m\u001b[1;31m:\u001b[0m unexpected indent\n"
     ]
    }
   ],
   "source": [
    "if disaster:\n",
    "    print(\"If.Woe!\")\n",
    "print(\"If.Woe2!\")\n",
    "    print(\"If.Woe3!\")"
   ]
  },
  {
   "cell_type": "code",
   "execution_count": 59,
   "id": "0d65e54d-51cd-44f7-92af-07271cb1da40",
   "metadata": {},
   "outputs": [
    {
     "name": "stdout",
     "output_type": "stream",
     "text": [
      "Woe1!\n"
     ]
    }
   ],
   "source": [
    "disaster = True\n",
    "if disaster:\n",
    "    print(\"Woe1!\")\n",
    "else:\n",
    "    print(\"whee!!@!\")"
   ]
  },
  {
   "cell_type": "code",
   "execution_count": 60,
   "id": "27e5e434-f3ec-4d0f-b4af-73f1f0e66e6f",
   "metadata": {},
   "outputs": [
    {
     "name": "stdout",
     "output_type": "stream",
     "text": [
      "whee!!@!\n"
     ]
    }
   ],
   "source": [
    "disaster = False\n",
    "if disaster:\n",
    "    print(\"Woe1!\")\n",
    "else:\n",
    "    print(\"whee!!@!\")"
   ]
  },
  {
   "cell_type": "code",
   "execution_count": 61,
   "id": "211fa3b7-28aa-4b41-869b-b43185b03945",
   "metadata": {},
   "outputs": [
    {
     "name": "stdout",
     "output_type": "stream",
     "text": [
      "It's a yeti\n"
     ]
    }
   ],
   "source": [
    "furry=True\n",
    "large=True\n",
    "if furry:\n",
    "    if large:\n",
    "        print(\"It's a yeti\")\n",
    "    else:\n",
    "        print(\"It's a cat\")\n",
    "else:\n",
    "    if large:\n",
    "        print(\"It's a whale!\")\n",
    "    else:\n",
    "        print(\"It's a human?\")"
   ]
  },
  {
   "cell_type": "code",
   "execution_count": 62,
   "id": "fc38a24c-4f04-4a77-b771-91132ee31292",
   "metadata": {},
   "outputs": [
    {
     "name": "stdout",
     "output_type": "stream",
     "text": [
      "never heard of color mauve\n"
     ]
    }
   ],
   "source": [
    "color=\"mauve\"\n",
    "if color == \"red\":\n",
    "    print(\"tomato\")\n",
    "elif color == \"green\":\n",
    "    print(\"pimang\")\n",
    "elif color ==\"bee purple\":\n",
    "    print(\"check eyes\")\n",
    "else:\n",
    "    print(\"never heard of color\",color)"
   ]
  },
  {
   "cell_type": "code",
   "execution_count": 63,
   "id": "5379f432-4513-4881-96c2-af37e834e362",
   "metadata": {},
   "outputs": [
    {
     "data": {
      "text/plain": [
       "False"
      ]
     },
     "execution_count": 63,
     "metadata": {},
     "output_type": "execute_result"
    }
   ],
   "source": [
    "x=7\n",
    "x==5"
   ]
  },
  {
   "cell_type": "code",
   "execution_count": 64,
   "id": "2690bdab-f45e-4a6c-a0dc-7058c2356e2d",
   "metadata": {},
   "outputs": [
    {
     "data": {
      "text/plain": [
       "True"
      ]
     },
     "execution_count": 64,
     "metadata": {},
     "output_type": "execute_result"
    }
   ],
   "source": [
    "x==7"
   ]
  },
  {
   "cell_type": "code",
   "execution_count": 65,
   "id": "171eb70f-5cef-4b1d-aaa2-22d232c3e87e",
   "metadata": {},
   "outputs": [
    {
     "data": {
      "text/plain": [
       "True"
      ]
     },
     "execution_count": 65,
     "metadata": {},
     "output_type": "execute_result"
    }
   ],
   "source": [
    "5<x"
   ]
  },
  {
   "cell_type": "code",
   "execution_count": 66,
   "id": "53041cbd-e86a-4482-85ba-a1fd3f536c23",
   "metadata": {},
   "outputs": [
    {
     "data": {
      "text/plain": [
       "True"
      ]
     },
     "execution_count": 66,
     "metadata": {},
     "output_type": "execute_result"
    }
   ],
   "source": [
    "x<10"
   ]
  },
  {
   "cell_type": "code",
   "execution_count": 67,
   "id": "e0e75924-1e4b-42ac-8d8c-f07da0dd5032",
   "metadata": {},
   "outputs": [
    {
     "data": {
      "text/plain": [
       "True"
      ]
     },
     "execution_count": 67,
     "metadata": {},
     "output_type": "execute_result"
    }
   ],
   "source": [
    "5<x and x<10"
   ]
  },
  {
   "cell_type": "code",
   "execution_count": 68,
   "id": "48e870f4-7176-4d9e-be25-f10b1e86a5bd",
   "metadata": {},
   "outputs": [
    {
     "data": {
      "text/plain": [
       "True"
      ]
     },
     "execution_count": 68,
     "metadata": {},
     "output_type": "execute_result"
    }
   ],
   "source": [
    "5<x or x<10"
   ]
  },
  {
   "cell_type": "code",
   "execution_count": 69,
   "id": "40fbb7fc-1c33-40fc-9f5c-9094e5bd2a13",
   "metadata": {},
   "outputs": [
    {
     "data": {
      "text/plain": [
       "False"
      ]
     },
     "execution_count": 69,
     "metadata": {},
     "output_type": "execute_result"
    }
   ],
   "source": [
    "5<x and x>10"
   ]
  },
  {
   "cell_type": "code",
   "execution_count": 70,
   "id": "c9a709cb-1051-41d0-9e2c-4f73ce07b87c",
   "metadata": {},
   "outputs": [
    {
     "data": {
      "text/plain": [
       "True"
      ]
     },
     "execution_count": 70,
     "metadata": {},
     "output_type": "execute_result"
    }
   ],
   "source": [
    "5<x and not x>10"
   ]
  },
  {
   "cell_type": "code",
   "execution_count": 71,
   "id": "6703dd80-6b65-4469-969a-fd36d38d49b0",
   "metadata": {},
   "outputs": [
    {
     "data": {
      "text/plain": [
       "True"
      ]
     },
     "execution_count": 71,
     "metadata": {},
     "output_type": "execute_result"
    }
   ],
   "source": [
    "5>x or not x>10"
   ]
  },
  {
   "cell_type": "code",
   "execution_count": 72,
   "id": "fbf94efa-5517-4c34-b04d-907c9c56e45d",
   "metadata": {},
   "outputs": [],
   "source": [
    "#false : \n",
    "#null, 0, 0.0, '',[],{},(),set()  -> 이거 제외 모두 True"
   ]
  },
  {
   "cell_type": "code",
   "execution_count": 73,
   "id": "ce7800a3-1fad-4067-bcd3-39a64ade11a9",
   "metadata": {},
   "outputs": [
    {
     "name": "stdout",
     "output_type": "stream",
     "text": [
      "empty\n"
     ]
    }
   ],
   "source": [
    "some_list=[]\n",
    "if some_list:\n",
    "    pirnt(\"something\")\n",
    "else:\n",
    "    print(\"empty\")"
   ]
  },
  {
   "cell_type": "code",
   "execution_count": 76,
   "id": "5d867fa6-95f0-4af7-835b-a1dcfe1a1a4c",
   "metadata": {},
   "outputs": [
    {
     "data": {
      "text/plain": [
       "'letter'"
      ]
     },
     "execution_count": 76,
     "metadata": {},
     "output_type": "execute_result"
    }
   ],
   "source": [
    "l2=\"letter\"\n",
    "l2"
   ]
  },
  {
   "cell_type": "code",
   "execution_count": 78,
   "id": "777e0bf5-706c-4df9-9e5c-5b86f26427ee",
   "metadata": {},
   "outputs": [
    {
     "data": {
      "text/plain": [
       "True"
      ]
     },
     "execution_count": 78,
     "metadata": {},
     "output_type": "execute_result"
    }
   ],
   "source": [
    "# in 멤버십 연상자\n",
    "l in l2"
   ]
  },
  {
   "cell_type": "code",
   "execution_count": 79,
   "id": "9cdbce6f-0f77-4336-8077-4007bc658132",
   "metadata": {},
   "outputs": [
    {
     "name": "stdout",
     "output_type": "stream",
     "text": [
      "include\n"
     ]
    }
   ],
   "source": [
    "if 'e' in l2:\n",
    "    print(\"include\")\n",
    "else:\n",
    "    print(\"nothing\")"
   ]
  },
  {
   "cell_type": "code",
   "execution_count": 80,
   "id": "6f3634d3-e721-4b23-a26f-aed53e748d2c",
   "metadata": {},
   "outputs": [],
   "source": [
    "# := 바다코끼리 연산자 \n",
    "# 이름 := 표현식"
   ]
  },
  {
   "cell_type": "code",
   "execution_count": 81,
   "id": "ef266d5e-1125-49c9-8fb5-5c1f9064618b",
   "metadata": {},
   "outputs": [
    {
     "name": "stdout",
     "output_type": "stream",
     "text": [
      "A fitting tweet\n"
     ]
    }
   ],
   "source": [
    "tweet_limit=280\n",
    "tweet_string='Blah'*50\n",
    "diff=tweet_limit - len(tweet_string)\n",
    "if diff>=0:\n",
    "    print(\"A fitting tweet\")\n",
    "else:\n",
    "    print(\"Went over by\",ags(diff))"
   ]
  },
  {
   "cell_type": "code",
   "execution_count": 82,
   "id": "39716cea-be56-444f-8330-615bd4003bf1",
   "metadata": {},
   "outputs": [
    {
     "name": "stdout",
     "output_type": "stream",
     "text": [
      "A fitting tweet\n"
     ]
    }
   ],
   "source": [
    "tweet_limit=280\n",
    "tweet_string='Blah'*50\n",
    "#diff=tweet_limit - len(tweet_string)\n",
    "#if diff>=0:\n",
    "if diff:=tweet_limit-len(tweet_string)>=0:\n",
    "    print(\"A fitting tweet\")\n",
    "else:\n",
    "    print(\"Went over by\",ags(diff))"
   ]
  },
  {
   "cell_type": "code",
   "execution_count": null,
   "id": "024f74cb-812a-4519-a93a-fda75a145b5a",
   "metadata": {},
   "outputs": [],
   "source": []
  }
 ],
 "metadata": {
  "kernelspec": {
   "display_name": "Python 3 (ipykernel)",
   "language": "python",
   "name": "python3"
  },
  "language_info": {
   "codemirror_mode": {
    "name": "ipython",
    "version": 3
   },
   "file_extension": ".py",
   "mimetype": "text/x-python",
   "name": "python",
   "nbconvert_exporter": "python",
   "pygments_lexer": "ipython3",
   "version": "3.9.12"
  }
 },
 "nbformat": 4,
 "nbformat_minor": 5
}
