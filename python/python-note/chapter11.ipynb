{
 "cells": [
  {
   "cell_type": "code",
   "execution_count": 1,
   "id": "bc65c329-b636-4582-a330-6d08bfcd06b3",
   "metadata": {},
   "outputs": [
    {
     "data": {
      "text/plain": [
       "['McDonalds', 'KFC', 'BurgerKing', 'Taco Bell', 'Wendys', 'Ardys', 'Pizza Hut']"
      ]
     },
     "execution_count": 1,
     "metadata": {},
     "output_type": "execute_result"
    }
   ],
   "source": [
    "from random import choice\n",
    "#import random\n",
    "place=[\"McDonalds\",\"KFC\",\"BurgerKing\",\"Taco Bell\",\"Wendys\",\"Ardys\",\"Pizza Hut\"]\n",
    "place"
   ]
  },
  {
   "cell_type": "code",
   "execution_count": 2,
   "id": "1ead293b-80db-4eca-b2b3-771bfa63af54",
   "metadata": {},
   "outputs": [
    {
     "data": {
      "text/plain": [
       "'Ardys'"
      ]
     },
     "execution_count": 2,
     "metadata": {},
     "output_type": "execute_result"
    }
   ],
   "source": [
    "def pick():\n",
    "    return choice(place)\n",
    "pick()"
   ]
  },
  {
   "cell_type": "code",
   "execution_count": 1,
   "id": "0526256b-bb7f-4788-9995-2b673b550439",
   "metadata": {},
   "outputs": [
    {
     "data": {
      "text/plain": [
       "'1.4.4'"
      ]
     },
     "execution_count": 1,
     "metadata": {},
     "output_type": "execute_result"
    }
   ],
   "source": [
    "import pandas as pd  #pd쓰는거는 거의 지정된 룰임\n",
    "pd.__version__"
   ]
  },
  {
   "cell_type": "code",
   "execution_count": 2,
   "id": "8e12b631-564e-4a35-86dc-59b1cc601783",
   "metadata": {},
   "outputs": [
    {
     "data": {
      "text/plain": [
       "<re.Match object; span=(0, 3), match='You'>"
      ]
     },
     "execution_count": 2,
     "metadata": {},
     "output_type": "execute_result"
    }
   ],
   "source": [
    "import re\n",
    "result=re.match(\"You\",\"Young Frankenstein\") # match(찾으려는 변수, 소스모음)\n",
    "result"
   ]
  },
  {
   "cell_type": "code",
   "execution_count": 4,
   "id": "4a97fb45-667f-4d7b-928d-10ffe966283b",
   "metadata": {},
   "outputs": [
    {
     "data": {
      "text/plain": [
       "<re.Match object; span=(0, 3), match='You'>"
      ]
     },
     "execution_count": 4,
     "metadata": {},
     "output_type": "execute_result"
    }
   ],
   "source": [
    "youpattern = re.compile(\"You\")\n",
    "result = youpattern.match(\"Young Frankenstein\")\n",
    "result"
   ]
  },
  {
   "cell_type": "code",
   "execution_count": 5,
   "id": "2ef26578-7923-4105-9c59-7c97b6ead5e1",
   "metadata": {},
   "outputs": [
    {
     "name": "stdout",
     "output_type": "stream",
     "text": [
      "You\n"
     ]
    }
   ],
   "source": [
    "source=\"Young Frankenstein\"\n",
    "m=re.match(\"You\",source)\n",
    "if m:\n",
    "    print(m.group())"
   ]
  },
  {
   "cell_type": "code",
   "execution_count": 6,
   "id": "4b39ed31-391f-4f9c-a013-ed13787a1b22",
   "metadata": {},
   "outputs": [
    {
     "name": "stdout",
     "output_type": "stream",
     "text": [
      "Frank\n"
     ]
    }
   ],
   "source": [
    "m=re.search(\"Frank\",source)\n",
    "if m:\n",
    "    print(m.group())"
   ]
  },
  {
   "cell_type": "code",
   "execution_count": 7,
   "id": "dd9a4f64-7814-4a7b-9a3f-c40e6fbad5bc",
   "metadata": {},
   "outputs": [
    {
     "data": {
      "text/plain": [
       "['Frank']"
      ]
     },
     "execution_count": 7,
     "metadata": {},
     "output_type": "execute_result"
    }
   ],
   "source": [
    "m=re.findall(\"Frank\",source)\n",
    "m"
   ]
  },
  {
   "cell_type": "code",
   "execution_count": 8,
   "id": "38109a02-0e18-48cf-bcfe-f341bd3207ab",
   "metadata": {},
   "outputs": [
    {
     "data": {
      "text/plain": [
       "['You', 'g Fra', 'ke', 'stei', '']"
      ]
     },
     "execution_count": 8,
     "metadata": {},
     "output_type": "execute_result"
    }
   ],
   "source": [
    "m=re.split(\"n\",source)\n",
    "m"
   ]
  },
  {
   "cell_type": "code",
   "execution_count": 9,
   "id": "68c8a388-bc8a-43fb-a8fd-b82e807c976a",
   "metadata": {},
   "outputs": [
    {
     "data": {
      "text/plain": [
       "'You?g Fra?ke?stei?'"
      ]
     },
     "execution_count": 9,
     "metadata": {},
     "output_type": "execute_result"
    }
   ],
   "source": [
    "m=re.sub(\"n\",\"?\",source)\n",
    "m"
   ]
  },
  {
   "cell_type": "code",
   "execution_count": 11,
   "id": "dcf6c68d-6ce3-4c9e-b5ff-1767e6e75e3e",
   "metadata": {},
   "outputs": [
    {
     "data": {
      "text/plain": [
       "'0123456789abcdefghijklmnopqrstuvwxyzABCDEFGHIJKLMNOPQRSTUVWXYZ!\"#$%&\\'()*+,-./:;<=>?@[\\\\]^_`{|}~ \\t\\n\\r\\x0b\\x0c'"
      ]
     },
     "execution_count": 11,
     "metadata": {},
     "output_type": "execute_result"
    }
   ],
   "source": [
    "#<a href=\n",
    "import string\n",
    "printable=string.printable\n",
    "printable"
   ]
  },
  {
   "cell_type": "code",
   "execution_count": 12,
   "id": "1f08f97f-57c2-42cd-8289-23097c7ea26c",
   "metadata": {},
   "outputs": [
    {
     "data": {
      "text/plain": [
       "['0', '1', '2', '3', '4', '5', '6', '7', '8', '9']"
      ]
     },
     "execution_count": 12,
     "metadata": {},
     "output_type": "execute_result"
    }
   ],
   "source": [
    "re.findall(\"\\d\",printable)"
   ]
  },
  {
   "cell_type": "code",
   "execution_count": 13,
   "id": "504f2394-2b0e-43a9-b8e5-ed619c3fbe23",
   "metadata": {},
   "outputs": [
    {
     "data": {
      "text/plain": [
       "['0',\n",
       " '1',\n",
       " '2',\n",
       " '3',\n",
       " '4',\n",
       " '5',\n",
       " '6',\n",
       " '7',\n",
       " '8',\n",
       " '9',\n",
       " 'a',\n",
       " 'b',\n",
       " 'c',\n",
       " 'd',\n",
       " 'e',\n",
       " 'f',\n",
       " 'g',\n",
       " 'h',\n",
       " 'i',\n",
       " 'j',\n",
       " 'k',\n",
       " 'l',\n",
       " 'm',\n",
       " 'n',\n",
       " 'o',\n",
       " 'p',\n",
       " 'q',\n",
       " 'r',\n",
       " 's',\n",
       " 't',\n",
       " 'u',\n",
       " 'v',\n",
       " 'w',\n",
       " 'x',\n",
       " 'y',\n",
       " 'z',\n",
       " 'A',\n",
       " 'B',\n",
       " 'C',\n",
       " 'D',\n",
       " 'E',\n",
       " 'F',\n",
       " 'G',\n",
       " 'H',\n",
       " 'I',\n",
       " 'J',\n",
       " 'K',\n",
       " 'L',\n",
       " 'M',\n",
       " 'N',\n",
       " 'O',\n",
       " 'P',\n",
       " 'Q',\n",
       " 'R',\n",
       " 'S',\n",
       " 'T',\n",
       " 'U',\n",
       " 'V',\n",
       " 'W',\n",
       " 'X',\n",
       " 'Y',\n",
       " 'Z',\n",
       " '_']"
      ]
     },
     "execution_count": 13,
     "metadata": {},
     "output_type": "execute_result"
    }
   ],
   "source": [
    "#324페이지\n",
    "re.findall(\"\\w\",printable)"
   ]
  },
  {
   "cell_type": "code",
   "execution_count": 14,
   "id": "95657915-90ae-48c8-8e48-7dcad2ea338b",
   "metadata": {},
   "outputs": [
    {
     "data": {
      "text/plain": [
       "[' ', '\\t', '\\n', '\\r', '\\x0b', '\\x0c']"
      ]
     },
     "execution_count": 14,
     "metadata": {},
     "output_type": "execute_result"
    }
   ],
   "source": [
    "re.findall(\"\\s\",printable)"
   ]
  },
  {
   "cell_type": "code",
   "execution_count": 21,
   "id": "cfe8a310-c2ed-4817-b7c0-a00a481f73b3",
   "metadata": {},
   "outputs": [
    {
     "data": {
      "text/plain": [
       "['wish', 'wish']"
      ]
     },
     "execution_count": 21,
     "metadata": {},
     "output_type": "execute_result"
    }
   ],
   "source": [
    "#326페이지\n",
    "source=\"\"\"I wish I may, I wish I might\n",
    "    Have a dish of fish tonight.\"\"\"\n",
    "re.findall(\"wish\",source)"
   ]
  },
  {
   "cell_type": "code",
   "execution_count": 16,
   "id": "97b90880-78fd-4459-a849-6d869b87012f",
   "metadata": {},
   "outputs": [
    {
     "ename": "TypeError",
     "evalue": "unsupported operand type(s) for |: 'str' and 'str'",
     "output_type": "error",
     "traceback": [
      "\u001b[1;31m---------------------------------------------------------------------------\u001b[0m",
      "\u001b[1;31mTypeError\u001b[0m                                 Traceback (most recent call last)",
      "Input \u001b[1;32mIn [16]\u001b[0m, in \u001b[0;36m<cell line: 1>\u001b[1;34m()\u001b[0m\n\u001b[1;32m----> 1\u001b[0m re\u001b[38;5;241m.\u001b[39mfindall(\u001b[38;5;124;43m\"\u001b[39;49m\u001b[38;5;124;43mwish\u001b[39;49m\u001b[38;5;124;43m\"\u001b[39;49m\u001b[38;5;241;43m|\u001b[39;49m\u001b[38;5;124;43m\"\u001b[39;49m\u001b[38;5;124;43mfish\u001b[39;49m\u001b[38;5;124;43m\"\u001b[39;49m,source)\n",
      "\u001b[1;31mTypeError\u001b[0m: unsupported operand type(s) for |: 'str' and 'str'"
     ]
    }
   ],
   "source": [
    "re.findall(\"wish\"|\"fish\",source)"
   ]
  },
  {
   "cell_type": "code",
   "execution_count": 17,
   "id": "aba1c67c-b292-49a1-8c02-0cbb78a4d6e0",
   "metadata": {},
   "outputs": [
    {
     "data": {
      "text/plain": [
       "['wish', 'wish', 'fish']"
      ]
     },
     "execution_count": 17,
     "metadata": {},
     "output_type": "execute_result"
    }
   ],
   "source": [
    "re.findall(\"wish|fish\",source)"
   ]
  },
  {
   "cell_type": "code",
   "execution_count": 18,
   "id": "8bb59c9d-bbef-4cf7-a7dd-9678256e87c8",
   "metadata": {},
   "outputs": [
    {
     "data": {
      "text/plain": [
       "[]"
      ]
     },
     "execution_count": 18,
     "metadata": {},
     "output_type": "execute_result"
    }
   ],
   "source": [
    "#wish로 시작하는 것만 검색하고싶으면 ^를 붙힘\n",
    "re.findall(\"^wish\",source)"
   ]
  },
  {
   "cell_type": "code",
   "execution_count": 19,
   "id": "05d50967-2d9b-4321-9964-ab417b28f928",
   "metadata": {},
   "outputs": [
    {
     "data": {
      "text/plain": [
       "['I']"
      ]
     },
     "execution_count": 19,
     "metadata": {},
     "output_type": "execute_result"
    }
   ],
   "source": [
    "re.findall(\"^I\",source)"
   ]
  },
  {
   "cell_type": "code",
   "execution_count": 22,
   "id": "1f5ae9da-2cb9-4aaf-ba8f-0dedc0a87391",
   "metadata": {},
   "outputs": [
    {
     "data": {
      "text/plain": [
       "['tonight.']"
      ]
     },
     "execution_count": 22,
     "metadata": {},
     "output_type": "execute_result"
    }
   ],
   "source": [
    "re.findall(\"tonight.$\",source)"
   ]
  },
  {
   "cell_type": "code",
   "execution_count": 23,
   "id": "caa728a9-5646-4072-b512-2a1fd6cb6264",
   "metadata": {},
   "outputs": [
    {
     "data": {
      "text/plain": [
       "['wish', 'wish', 'fish']"
      ]
     },
     "execution_count": 23,
     "metadata": {},
     "output_type": "execute_result"
    }
   ],
   "source": [
    "re.findall(\"[wf]ish\",source) # 'w' or 'f' 로 시작하고 ish 로 끝나는 단어 찾기"
   ]
  },
  {
   "cell_type": "code",
   "execution_count": 24,
   "id": "972cd762-2ce6-4bf2-b798-d95749d3ddb4",
   "metadata": {},
   "outputs": [
    {
     "data": {
      "text/plain": [
       "['w', 'sh', 'w', 'sh', 'h', 'sh', 'sh', 'h']"
      ]
     },
     "execution_count": 24,
     "metadata": {},
     "output_type": "execute_result"
    }
   ],
   "source": [
    "re.findall(\"[wsh]+\",source)  # 조합 찾아오기"
   ]
  },
  {
   "cell_type": "code",
   "execution_count": 25,
   "id": "18c242e5-1081-484e-8aab-c9caf1a6b5c6",
   "metadata": {},
   "outputs": [
    {
     "data": {
      "text/plain": [
       "['ght\\n', 'ght.']"
      ]
     },
     "execution_count": 25,
     "metadata": {},
     "output_type": "execute_result"
    }
   ],
   "source": [
    "re.findall(\"ght\\W\",source) #ght에 특수문자가 붙은 경우만 불러오는것"
   ]
  },
  {
   "cell_type": "code",
   "execution_count": 27,
   "id": "d8083f1f-63bf-425e-b1b4-4a4d980a85b4",
   "metadata": {},
   "outputs": [
    {
     "data": {
      "text/plain": [
       "['I ', 'I ']"
      ]
     },
     "execution_count": 27,
     "metadata": {},
     "output_type": "execute_result"
    }
   ],
   "source": [
    "re.findall(\"I (?=wish)\",source)"
   ]
  },
  {
   "cell_type": "code",
   "execution_count": 28,
   "id": "7d34da8c-3cd9-4bb2-8b7e-5f0e183814c2",
   "metadata": {},
   "outputs": [
    {
     "data": {
      "text/plain": [
       "[' wish', ' wish']"
      ]
     },
     "execution_count": 28,
     "metadata": {},
     "output_type": "execute_result"
    }
   ],
   "source": [
    "re.findall(\"(?<=I) wish\",source)"
   ]
  },
  {
   "cell_type": "code",
   "execution_count": 29,
   "id": "63bbea95-4144-4a96-9cea-e14b38608e45",
   "metadata": {},
   "outputs": [],
   "source": [
    "pages='''\n",
    "<div class=\"atcmp_alert _alert\">\n",
    "<div class=\"dsc_election\">\n",
    "<p class=\"dsc\">\n",
    "<i class=\"imsc ico_election\"></i><span class=\"_alert_passage\"></span>\n",
    "</p>\n",
    "<span class=\"dsc_inner\">\n",
    "<!-- [AU] _alert_passage2 클래스를 추가해주세요. -->\n",
    "<span class=\"_alert_passage2\"></span>\n",
    "<!-- [AU] _alert_link 클래스를 추가해주세요. -->\n",
    "<a href=\"#\" class=\"link _alert_link\" target=\"_blank\">자세히보기</a>\n",
    "</span>\n",
    "</div>\n",
    "</div>\n",
    "<!-- [AU] _plus 클래스를 추가해주세요. -->\n",
    "<div class=\"atcmp_plus _plus\">\n",
    "<div class=\"dsc_plus\">\n",
    "<a href=\"https://help.naver.com/support/alias/search/word/word_16.naver\" class=\"link_dsc\" data-clk=\"sug.cxhelp\" target=\"_blank\">관심사를 반영한 컨텍스트 자동완성<i class=\"imsc ico_help\">도움말</i></a>\n",
    "</div>\n",
    "<div class=\"switch\">\n",
    "<!-- [D] 선택시 aria-pressed=\"ture/false\" -->\n",
    "<!-- [AU] _plus_btn 클래스를 추가해주세요. -->\n",
    "<a role=\"button\" href=\"#\" class=\"bt_switch active _plus_btn\" aria-pressed=\"false\"><i class=\"imsc ico_option\">컨텍스트 자동완성</i></a>\n",
    "</div>\n",
    "<!-- [AU] _plus_layer 클래스를 추가해주세요. -->\n",
    "<div class=\"layer_plus _plus_layer\">\n",
    "<strong class=\"tit\">컨텍스트 자동완성</strong>\n",
    "<!-- [AU] _plus_layer_isloggedin 클래스를 추가해주세요. -->\n",
    "<!-- [AU] style=\"display:none\" 추가해주세요. -->\n",
    "<div class=\"_plus_layer_isloggedin\" style=\"display:none\">\n",
    "<p class=\"dsc\">ON/OFF 설정은<br>해당기기(브라우저)에 저장됩니다.</p>\n",
    "<div class=\"btn_area\">\n",
    "<a href=\"https://help.naver.com/support/alias/search/word/word_16.naver\" class=\"btn btn_view\" data-clk=\"sug.cxlink\" target=\"_blank\">자세히</a>\n",
    "</div>\n",
    "</div>\n",
    "<!-- [AU] _plus_layer_isnotloggedin 클래스를 추가해주세요. -->\n",
    "<!-- [AU] style=\"display:none\" 추가해주세요. -->\n",
    "<div class=\"_plus_layer_isnotloggedin\" style=\"display:none\">\n",
    "<p class=\"dsc\"><em class=\"txt\">동일한 시간대/연령/남녀별</em> 사용자 그룹의<br>관심사에 맞춰 자동완성을 제공합니다.</p>\n",
    "<div class=\"btn_area\">\n",
    "<a href=\"https://nid.naver.com/nidlogin.login\" class=\"btn btn_login\" data-clk=\"sug.cxlogin\">로그인</a>\n",
    "<a href=\"https://help.naver.com/support/alias/search/word/word_16.naver\" class=\"btn btn_view\" data-clk=\"sug.cxlink\" target=\"_blank\">자세히</a>\n",
    "</div>\n",
    "</div>\n",
    "<!-- [AU] _plus_layer_close 클래스를 추가해주세요. -->\n",
    "<a href=\"#\" role=\"button\" class=\"btn_close _plus_layer_close\"><i class=\"imsc ico_close\">컨텍스트 자동완성 레이어 닫기</i></a>\n",
    "</div>\n",
    "</div>\n",
    "</div>\n",
    "<div class=\"atcmp_footer\">\n",
    "<span class=\"side_opt_area\">\n",
    "<span class=\"opt_item\"><a href=\"https://help.naver.com/support/service/main.help?serviceNo=605&categoryNo=1987\" data-clk=\"sug.help\" target=\"_blank\">도움말</a></span>\n",
    "<span class=\"opt_item\"><a href=\"https://help.naver.com/support/contents/contents.help?serviceNo=605&categoryNo=18215\" class=\"report\" data-clk=\"sug.report\" target=\"_blank\">신고</a></span>\n",
    "</span>\n",
    "<span class=\"rside_opt_area\">\n",
    "<span class=\"opt_item\">\n",
    "<!-- [AU] _suggestOnOff 클래스를 추가해주세요. -->\n",
    "<a href=\"#\" class=\"close _suggestOnOff\">자동완성 끄기</a>\n",
    "</span>\n",
    "</span>\n",
    "'''"
   ]
  },
  {
   "cell_type": "code",
   "execution_count": 30,
   "id": "60fe7ff2-0da9-4350-bd76-21895a381c9b",
   "metadata": {},
   "outputs": [
    {
     "data": {
      "text/plain": [
       "['#\" class=\"link _alert_link\" target=\"_blank',\n",
       " 'https://help.naver.com/support/alias/search/word/word_16.naver\" class=\"link_dsc\" data-clk=\"sug.cxhelp\" target=\"_blank',\n",
       " 'https://help.naver.com/support/alias/search/word/word_16.naver\" class=\"btn btn_view\" data-clk=\"sug.cxlink\" target=\"_blank',\n",
       " 'https://nid.naver.com/nidlogin.login\" class=\"btn btn_login\" data-clk=\"sug.cxlogin',\n",
       " 'https://help.naver.com/support/alias/search/word/word_16.naver\" class=\"btn btn_view\" data-clk=\"sug.cxlink\" target=\"_blank',\n",
       " '#\" role=\"button\" class=\"btn_close _plus_layer_close',\n",
       " 'https://help.naver.com/support/service/main.help?serviceNo=605&categoryNo=1987\" data-clk=\"sug.help\" target=\"_blank',\n",
       " 'https://help.naver.com/support/contents/contents.help?serviceNo=605&categoryNo=18215\" class=\"report\" data-clk=\"sug.report\" target=\"_blank',\n",
       " '#\" class=\"close _suggestOnOff']"
      ]
     },
     "execution_count": 30,
     "metadata": {},
     "output_type": "execute_result"
    }
   ],
   "source": [
    "re.findall('<a href=\"(.*?)\">',pages)"
   ]
  },
  {
   "cell_type": "code",
   "execution_count": null,
   "id": "98bb66ca-e8fc-48ce-b0f6-0b02779ebe5a",
   "metadata": {},
   "outputs": [],
   "source": []
  }
 ],
 "metadata": {
  "kernelspec": {
   "display_name": "Python 3 (ipykernel)",
   "language": "python",
   "name": "python3"
  },
  "language_info": {
   "codemirror_mode": {
    "name": "ipython",
    "version": 3
   },
   "file_extension": ".py",
   "mimetype": "text/x-python",
   "name": "python",
   "nbconvert_exporter": "python",
   "pygments_lexer": "ipython3",
   "version": "3.9.12"
  }
 },
 "nbformat": 4,
 "nbformat_minor": 5
}
