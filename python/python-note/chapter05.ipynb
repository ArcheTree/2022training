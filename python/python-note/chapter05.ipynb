{
 "cells": [
  {
   "cell_type": "code",
   "execution_count": 1,
   "id": "d2cc3989-8698-4d12-83d5-18fa2df185a8",
   "metadata": {},
   "outputs": [
    {
     "name": "stdout",
     "output_type": "stream",
     "text": [
      "Hello World\n"
     ]
    }
   ],
   "source": [
    "print(\"Hello World\")"
   ]
  },
  {
   "cell_type": "code",
   "execution_count": 2,
   "id": "959a31ac-ee4b-4550-8ab7-f7f8b32ecedd",
   "metadata": {},
   "outputs": [
    {
     "data": {
      "text/plain": [
       "'nay! said'"
      ]
     },
     "execution_count": 2,
     "metadata": {},
     "output_type": "execute_result"
    }
   ],
   "source": [
    "\"nay! said\""
   ]
  },
  {
   "cell_type": "code",
   "execution_count": 3,
   "id": "62042c8c-cc34-47eb-a3d6-714e488fbc8d",
   "metadata": {},
   "outputs": [
    {
     "data": {
      "text/plain": [
       "'A \"two by foru\" is actually'"
      ]
     },
     "execution_count": 3,
     "metadata": {},
     "output_type": "execute_result"
    }
   ],
   "source": [
    "'A \"two by foru\" is actually'"
   ]
  },
  {
   "cell_type": "code",
   "execution_count": 4,
   "id": "5e2382d7-d61f-4a1c-9ca8-a5e42f0c1331",
   "metadata": {},
   "outputs": [
    {
     "ename": "SyntaxError",
     "evalue": "EOF while scanning triple-quoted string literal (4125503148.py, line 2)",
     "output_type": "error",
     "traceback": [
      "\u001b[1;36m  Input \u001b[1;32mIn [4]\u001b[1;36m\u001b[0m\n\u001b[1;33m    됬음?\u001b[0m\n\u001b[1;37m       \n^\u001b[0m\n\u001b[1;31mSyntaxError\u001b[0m\u001b[1;31m:\u001b[0m EOF while scanning triple-quoted string literal\n"
     ]
    }
   ],
   "source": [
    "pome=바라봐라\"\"\"\n",
    "됬음?"
   ]
  },
  {
   "cell_type": "code",
   "execution_count": 5,
   "id": "7219c24f-ad12-4389-9c99-53ace3508a98",
   "metadata": {},
   "outputs": [
    {
     "data": {
      "text/plain": [
       "'there was a yong lady of Norway\\nwho wkq?'"
      ]
     },
     "execution_count": 5,
     "metadata": {},
     "output_type": "execute_result"
    }
   ],
   "source": [
    "pome=\"\"\"there was a yong lady of Norway\n",
    "who wkq?\"\"\"\n",
    "pome"
   ]
  },
  {
   "cell_type": "code",
   "execution_count": 6,
   "id": "9be06457-d507-4d70-be75-72a6f5521480",
   "metadata": {},
   "outputs": [
    {
     "data": {
      "text/plain": [
       "'There was a Young Lady of Norway,\\nWho casually sat in a doorway,\\nWhen the door squeezed her flat,\\nShe exclaimed, \"What of that?\"\\nThis Courageous Young Lady of Norway.'"
      ]
     },
     "execution_count": 6,
     "metadata": {},
     "output_type": "execute_result"
    }
   ],
   "source": [
    "poem=\"\"\"There was a Young Lady of Norway,\n",
    "Who casually sat in a doorway,\n",
    "When the door squeezed her flat,\n",
    "She exclaimed, \"What of that?\"\n",
    "This Courageous Young Lady of Norway.\"\"\"\n",
    "poem"
   ]
  },
  {
   "cell_type": "code",
   "execution_count": 7,
   "id": "c524cd33-bb87-4cba-895d-f25dfbcd8fe9",
   "metadata": {},
   "outputs": [
    {
     "name": "stdout",
     "output_type": "stream",
     "text": [
      "There was a Young Lady of Norway,\n",
      "Who casually sat in a doorway,\n",
      "When the door squeezed her flat,\n",
      "She exclaimed, \"What of that?\"\n",
      "This Courageous Young Lady of Norway.\n"
     ]
    }
   ],
   "source": [
    "print(poem)"
   ]
  },
  {
   "cell_type": "code",
   "execution_count": 8,
   "id": "92cd752f-d3ce-4af0-8bf7-b70633114b23",
   "metadata": {},
   "outputs": [
    {
     "data": {
      "text/plain": [
       "'28.6'"
      ]
     },
     "execution_count": 8,
     "metadata": {},
     "output_type": "execute_result"
    }
   ],
   "source": [
    "#str():데이터 타입을 문자열로 변환\n",
    "str(28.6)"
   ]
  },
  {
   "cell_type": "code",
   "execution_count": 9,
   "id": "b1a9c4d7-e3de-4b57-be83-566c4f09e1e5",
   "metadata": {},
   "outputs": [
    {
     "data": {
      "text/plain": [
       "'10000.0'"
      ]
     },
     "execution_count": 9,
     "metadata": {},
     "output_type": "execute_result"
    }
   ],
   "source": [
    "str(1.0e4)"
   ]
  },
  {
   "cell_type": "code",
   "execution_count": 10,
   "id": "90755cc4-b390-46ae-94ad-8c42c0aa3a31",
   "metadata": {},
   "outputs": [
    {
     "name": "stdout",
     "output_type": "stream",
     "text": [
      "A man, \n",
      " plan, \n",
      "A canal:\n",
      "Panama.\n"
     ]
    }
   ],
   "source": [
    "#이스케이프 문자 \\n-줄바꿈\n",
    "palindrome=\"A man, \\n plan, \\nA canal:\\nPanama.\"\n",
    "print(palindrome)"
   ]
  },
  {
   "cell_type": "code",
   "execution_count": 11,
   "id": "fe418800-9cca-4030-9c35-e9789582e213",
   "metadata": {},
   "outputs": [
    {
     "name": "stdout",
     "output_type": "stream",
     "text": [
      "\tabc\n"
     ]
    }
   ],
   "source": [
    "#\\t = tab키(간격)\n",
    "print(\"\\tabc\")"
   ]
  },
  {
   "cell_type": "code",
   "execution_count": 12,
   "id": "77bc6ddb-7141-407c-928a-90c477bb0c9e",
   "metadata": {},
   "outputs": [
    {
     "name": "stdout",
     "output_type": "stream",
     "text": [
      "a\tbc\n",
      "ab\tc\n"
     ]
    }
   ],
   "source": [
    "print(\"a\\tbc\")\n",
    "print(\"ab\\tc\")"
   ]
  },
  {
   "cell_type": "code",
   "execution_count": 13,
   "id": "1233224c-cf22-494f-8005-acf2c85264fc",
   "metadata": {},
   "outputs": [
    {
     "name": "stdout",
     "output_type": "stream",
     "text": [
      "\"I did noting\" he said\n"
     ]
    }
   ],
   "source": [
    "testimony=\"\\\"I did noting\\\" he said\"  =>쌍따옴표 자체를 문자열로\n",
    "print(testimony)"
   ]
  },
  {
   "cell_type": "code",
   "execution_count": 14,
   "id": "ac34057e-49d0-4cbd-8bbd-c5e3c724fff5",
   "metadata": {},
   "outputs": [],
   "source": [
    "#\\\\"
   ]
  },
  {
   "cell_type": "code",
   "execution_count": 15,
   "id": "a2278fff-3f84-474e-8d65-854ca4ca81df",
   "metadata": {},
   "outputs": [
    {
     "data": {
      "text/plain": [
       "'Release the kraken!No, wait!'"
      ]
     },
     "execution_count": 15,
     "metadata": {},
     "output_type": "execute_result"
    }
   ],
   "source": [
    "\"Release the kraken!\"+\"No, wait!\""
   ]
  },
  {
   "cell_type": "code",
   "execution_count": 16,
   "id": "8198a7cd-2527-474e-aa5a-ca954134de71",
   "metadata": {},
   "outputs": [
    {
     "data": {
      "text/plain": [
       "'My word! A gentleman caller!'"
      ]
     },
     "execution_count": 16,
     "metadata": {},
     "output_type": "execute_result"
    }
   ],
   "source": [
    "\"My word! \"\"A gentleman caller!\""
   ]
  },
  {
   "cell_type": "code",
   "execution_count": 17,
   "id": "0c647777-0e13-4b08-92e7-a1a4a8f59bac",
   "metadata": {},
   "outputs": [
    {
     "data": {
      "text/plain": [
       "'aeiou'"
      ]
     },
     "execution_count": 17,
     "metadata": {},
     "output_type": "execute_result"
    }
   ],
   "source": [
    "vowels=('a'\"e\"'''i''''o'\"\"\"u\"\"\")\n",
    "vowels"
   ]
  },
  {
   "cell_type": "code",
   "execution_count": 18,
   "id": "5c9c6258-b3ed-4100-bf81-dbda51cfa34e",
   "metadata": {},
   "outputs": [
    {
     "name": "stdout",
     "output_type": "stream",
     "text": [
      "aeiou\n"
     ]
    }
   ],
   "source": [
    "print(vowels)"
   ]
  },
  {
   "cell_type": "code",
   "execution_count": 19,
   "id": "e1f97f16-1d9b-4465-9274-ee45894fb758",
   "metadata": {},
   "outputs": [
    {
     "data": {
      "text/plain": [
       "'DuckDuckGray Duck!'"
      ]
     },
     "execution_count": 19,
     "metadata": {},
     "output_type": "execute_result"
    }
   ],
   "source": [
    "a=\"Duck\"\n",
    "b=a\n",
    "c=\"Gray Duck!\"\n",
    "a+b+c"
   ]
  },
  {
   "cell_type": "code",
   "execution_count": 20,
   "id": "060eb01a-e767-4bbd-a558-8a69bca77dd6",
   "metadata": {},
   "outputs": [],
   "source": [
    "#따옴표로 이었을때 + 생략되나 변수끼리는 '+'를 꼭 붙혀야함"
   ]
  },
  {
   "cell_type": "code",
   "execution_count": 21,
   "id": "51bc6a63-b301-46c6-b321-91163d269e8d",
   "metadata": {},
   "outputs": [
    {
     "name": "stdout",
     "output_type": "stream",
     "text": [
      "Duck Duck Gray Duck!\n"
     ]
    }
   ],
   "source": [
    "print(a,b,c)"
   ]
  },
  {
   "cell_type": "code",
   "execution_count": 24,
   "id": "b5a77225-1fbb-46f8-8bf8-64382ef624a1",
   "metadata": {},
   "outputs": [
    {
     "name": "stdout",
     "output_type": "stream",
     "text": [
      "NaNaNaNa\n",
      "Hey Hey Hey \n",
      "goodbye.\n"
     ]
    }
   ],
   "source": [
    "start=\"Na\"*4+\"\\n\"\n",
    "middle=\"Hey \"*3+\"\\n\"\n",
    "end=\"goodbye.\"\n",
    "print(start+ middle+ end)"
   ]
  },
  {
   "cell_type": "code",
   "execution_count": 25,
   "id": "280f9fca-8869-4c74-8d11-fc8d01b7d014",
   "metadata": {},
   "outputs": [
    {
     "data": {
      "text/plain": [
       "'a'"
      ]
     },
     "execution_count": 25,
     "metadata": {},
     "output_type": "execute_result"
    }
   ],
   "source": [
    "letters=\"asdfqr\"\n",
    "letters[0]"
   ]
  },
  {
   "cell_type": "code",
   "execution_count": 26,
   "id": "db8b4c94-5879-4ce8-b9c7-5d64e2cb7be4",
   "metadata": {},
   "outputs": [
    {
     "ename": "NameError",
     "evalue": "name 'latters' is not defined",
     "output_type": "error",
     "traceback": [
      "\u001b[1;31m---------------------------------------------------------------------------\u001b[0m",
      "\u001b[1;31mNameError\u001b[0m                                 Traceback (most recent call last)",
      "Input \u001b[1;32mIn [26]\u001b[0m, in \u001b[0;36m<cell line: 1>\u001b[1;34m()\u001b[0m\n\u001b[1;32m----> 1\u001b[0m \u001b[43mlatters\u001b[49m[\u001b[38;5;241m1\u001b[39m]\n",
      "\u001b[1;31mNameError\u001b[0m: name 'latters' is not defined"
     ]
    }
   ],
   "source": [
    "latters[1]"
   ]
  },
  {
   "cell_type": "code",
   "execution_count": 27,
   "id": "aa1af12c-9869-4961-83b1-d750bdb21cd8",
   "metadata": {},
   "outputs": [
    {
     "data": {
      "text/plain": [
       "'s'"
      ]
     },
     "execution_count": 27,
     "metadata": {},
     "output_type": "execute_result"
    }
   ],
   "source": [
    "letters[1]"
   ]
  },
  {
   "cell_type": "code",
   "execution_count": 28,
   "id": "599bc69c-be00-4407-b5eb-7920973d20f8",
   "metadata": {},
   "outputs": [
    {
     "data": {
      "text/plain": [
       "'r'"
      ]
     },
     "execution_count": 28,
     "metadata": {},
     "output_type": "execute_result"
    }
   ],
   "source": [
    "letters[-1]"
   ]
  },
  {
   "cell_type": "code",
   "execution_count": 29,
   "id": "2ff56463-e5e2-46f7-86a1-223263c8903d",
   "metadata": {},
   "outputs": [
    {
     "data": {
      "text/plain": [
       "'q'"
      ]
     },
     "execution_count": 29,
     "metadata": {},
     "output_type": "execute_result"
    }
   ],
   "source": [
    "letters[-2]"
   ]
  },
  {
   "cell_type": "code",
   "execution_count": 30,
   "id": "a9c9e25b-145f-4274-9795-d5d0875b6df5",
   "metadata": {},
   "outputs": [
    {
     "ename": "TypeError",
     "evalue": "'str' object does not support item assignment",
     "output_type": "error",
     "traceback": [
      "\u001b[1;31m---------------------------------------------------------------------------\u001b[0m",
      "\u001b[1;31mTypeError\u001b[0m                                 Traceback (most recent call last)",
      "Input \u001b[1;32mIn [30]\u001b[0m, in \u001b[0;36m<cell line: 2>\u001b[1;34m()\u001b[0m\n\u001b[0;32m      1\u001b[0m name\u001b[38;5;241m=\u001b[39m\u001b[38;5;124m\"\u001b[39m\u001b[38;5;124mHenny\u001b[39m\u001b[38;5;124m\"\u001b[39m\n\u001b[1;32m----> 2\u001b[0m \u001b[43mname\u001b[49m\u001b[43m[\u001b[49m\u001b[38;5;241;43m0\u001b[39;49m\u001b[43m]\u001b[49m\u001b[38;5;241m=\u001b[39m\u001b[38;5;124m\"\u001b[39m\u001b[38;5;124mp\u001b[39m\u001b[38;5;124m\"\u001b[39m\n",
      "\u001b[1;31mTypeError\u001b[0m: 'str' object does not support item assignment"
     ]
    }
   ],
   "source": [
    "name=\"Henny\"\n",
    "name[0]=\"p\""
   ]
  },
  {
   "cell_type": "code",
   "execution_count": 31,
   "id": "3ccd9c97-da64-4870-9c5e-804207a4657c",
   "metadata": {},
   "outputs": [],
   "source": [
    "#문자열은 배열처럼 나눌수는 있으나 일반 배열처럼 변경은 불가함(상수나 js의 const 라고 생각하면됨)"
   ]
  },
  {
   "cell_type": "code",
   "execution_count": 33,
   "id": "34b982ea-3c21-446b-9930-c5dacfcd112f",
   "metadata": {},
   "outputs": [
    {
     "data": {
      "text/plain": [
       "'penny'"
      ]
     },
     "execution_count": 33,
     "metadata": {},
     "output_type": "execute_result"
    }
   ],
   "source": [
    "name=name.replace(\"H\",\"p\")\n",
    "name"
   ]
  },
  {
   "cell_type": "code",
   "execution_count": 34,
   "id": "d034c100-1ad3-416e-8def-2ff4a452ac6d",
   "metadata": {},
   "outputs": [],
   "source": [
    "#[a:b:c]\n",
    "#a이상 b미만 c 스텝"
   ]
  },
  {
   "cell_type": "code",
   "execution_count": 35,
   "id": "8273abc9-5d7e-4386-82d0-820b6eba36fb",
   "metadata": {},
   "outputs": [
    {
     "data": {
      "text/plain": [
       "'asdfqr'"
      ]
     },
     "execution_count": 35,
     "metadata": {},
     "output_type": "execute_result"
    }
   ],
   "source": [
    "letters[:]"
   ]
  },
  {
   "cell_type": "code",
   "execution_count": 36,
   "id": "5b7cf7cf-3160-4f52-ae38-13effbe333ad",
   "metadata": {},
   "outputs": [
    {
     "data": {
      "text/plain": [
       "'qr'"
      ]
     },
     "execution_count": 36,
     "metadata": {},
     "output_type": "execute_result"
    }
   ],
   "source": [
    "letters[4:]"
   ]
  },
  {
   "cell_type": "code",
   "execution_count": 37,
   "id": "72c064c0-daca-4094-9416-35c920a0cf3e",
   "metadata": {},
   "outputs": [
    {
     "ename": "SyntaxError",
     "evalue": "closing parenthesis '}' does not match opening parenthesis '[' (2359247541.py, line 1)",
     "output_type": "error",
     "traceback": [
      "\u001b[1;36m  Input \u001b[1;32mIn [37]\u001b[1;36m\u001b[0m\n\u001b[1;33m    leter[2:5}\u001b[0m\n\u001b[1;37m             ^\u001b[0m\n\u001b[1;31mSyntaxError\u001b[0m\u001b[1;31m:\u001b[0m closing parenthesis '}' does not match opening parenthesis '['\n"
     ]
    }
   ],
   "source": [
    "leter[2:5}"
   ]
  },
  {
   "cell_type": "code",
   "execution_count": 38,
   "id": "ce6f64a2-1d13-46af-a0b4-2ae8c1fd3dc8",
   "metadata": {},
   "outputs": [
    {
     "ename": "NameError",
     "evalue": "name 'letter' is not defined",
     "output_type": "error",
     "traceback": [
      "\u001b[1;31m---------------------------------------------------------------------------\u001b[0m",
      "\u001b[1;31mNameError\u001b[0m                                 Traceback (most recent call last)",
      "Input \u001b[1;32mIn [38]\u001b[0m, in \u001b[0;36m<cell line: 1>\u001b[1;34m()\u001b[0m\n\u001b[1;32m----> 1\u001b[0m \u001b[43mletter\u001b[49m[\u001b[38;5;241m2\u001b[39m:\u001b[38;5;241m5\u001b[39m]\n",
      "\u001b[1;31mNameError\u001b[0m: name 'letter' is not defined"
     ]
    }
   ],
   "source": [
    "letter[2:5]"
   ]
  },
  {
   "cell_type": "code",
   "execution_count": 39,
   "id": "0bd56058-b0f4-45e4-be4e-5570aeaca70a",
   "metadata": {},
   "outputs": [
    {
     "data": {
      "text/plain": [
       "'dfq'"
      ]
     },
     "execution_count": 39,
     "metadata": {},
     "output_type": "execute_result"
    }
   ],
   "source": [
    "letters[2:5]"
   ]
  },
  {
   "cell_type": "code",
   "execution_count": 40,
   "id": "756fefb8-99e9-4fc6-8ed5-04498124808b",
   "metadata": {},
   "outputs": [
    {
     "ename": "NameError",
     "evalue": "name 'letter' is not defined",
     "output_type": "error",
     "traceback": [
      "\u001b[1;31m---------------------------------------------------------------------------\u001b[0m",
      "\u001b[1;31mNameError\u001b[0m                                 Traceback (most recent call last)",
      "Input \u001b[1;32mIn [40]\u001b[0m, in \u001b[0;36m<cell line: 1>\u001b[1;34m()\u001b[0m\n\u001b[1;32m----> 1\u001b[0m \u001b[43mletter\u001b[49m[\u001b[38;5;241m3\u001b[39m:\u001b[38;5;241m-\u001b[39m\u001b[38;5;241m1\u001b[39m]\n",
      "\u001b[1;31mNameError\u001b[0m: name 'letter' is not defined"
     ]
    }
   ],
   "source": [
    "letter[3:-1]"
   ]
  },
  {
   "cell_type": "code",
   "execution_count": 41,
   "id": "a2a45628-32f7-4357-ab12-1efbd705e2c4",
   "metadata": {},
   "outputs": [
    {
     "data": {
      "text/plain": [
       "'f'"
      ]
     },
     "execution_count": 41,
     "metadata": {},
     "output_type": "execute_result"
    }
   ],
   "source": [
    "letters[3:-2]"
   ]
  },
  {
   "cell_type": "code",
   "execution_count": 42,
   "id": "d87dc71f-b3eb-45c4-9f47-1d11e87f2d7a",
   "metadata": {},
   "outputs": [
    {
     "data": {
      "text/plain": [
       "'ar'"
      ]
     },
     "execution_count": 42,
     "metadata": {},
     "output_type": "execute_result"
    }
   ],
   "source": [
    "letters[::5]"
   ]
  },
  {
   "cell_type": "code",
   "execution_count": 43,
   "id": "5c3c2e66-4ee6-4c2f-9f93-abd92c1a1f06",
   "metadata": {},
   "outputs": [
    {
     "ename": "NameError",
     "evalue": "name 'letter' is not defined",
     "output_type": "error",
     "traceback": [
      "\u001b[1;31m---------------------------------------------------------------------------\u001b[0m",
      "\u001b[1;31mNameError\u001b[0m                                 Traceback (most recent call last)",
      "Input \u001b[1;32mIn [43]\u001b[0m, in \u001b[0;36m<cell line: 1>\u001b[1;34m()\u001b[0m\n\u001b[1;32m----> 1\u001b[0m \u001b[43mletter\u001b[49m[::\u001b[38;5;241m2\u001b[39m]\n",
      "\u001b[1;31mNameError\u001b[0m: name 'letter' is not defined"
     ]
    }
   ],
   "source": [
    "letter[::2]"
   ]
  },
  {
   "cell_type": "code",
   "execution_count": 44,
   "id": "7cd8e73b-930a-41f0-b0ee-9d295e0fa6a9",
   "metadata": {},
   "outputs": [
    {
     "data": {
      "text/plain": [
       "'adq'"
      ]
     },
     "execution_count": 44,
     "metadata": {},
     "output_type": "execute_result"
    }
   ],
   "source": [
    "letters[::2]"
   ]
  },
  {
   "cell_type": "code",
   "execution_count": 45,
   "id": "7533e3a7-3176-4ede-9959-69f97a2ce63c",
   "metadata": {},
   "outputs": [],
   "source": [
    "letters=\"abcdefghijk\""
   ]
  },
  {
   "cell_type": "code",
   "execution_count": 46,
   "id": "6100494c-0c16-4e1d-96a5-3af35e332e59",
   "metadata": {},
   "outputs": [
    {
     "data": {
      "text/plain": [
       "'e'"
      ]
     },
     "execution_count": 46,
     "metadata": {},
     "output_type": "execute_result"
    }
   ],
   "source": [
    "letters[4:6:3]"
   ]
  },
  {
   "cell_type": "code",
   "execution_count": 47,
   "id": "5a885371-2bd4-41bd-bd72-8ada99fb1479",
   "metadata": {},
   "outputs": [
    {
     "data": {
      "text/plain": [
       "'kheb'"
      ]
     },
     "execution_count": 47,
     "metadata": {},
     "output_type": "execute_result"
    }
   ],
   "source": [
    "letters[::-3]"
   ]
  },
  {
   "cell_type": "code",
   "execution_count": 48,
   "id": "3b22fbd9-7cd6-4621-ad23-a95a3180c3b5",
   "metadata": {},
   "outputs": [
    {
     "data": {
      "text/plain": [
       "11"
      ]
     },
     "execution_count": 48,
     "metadata": {},
     "output_type": "execute_result"
    }
   ],
   "source": [
    "len(letters)"
   ]
  },
  {
   "cell_type": "code",
   "execution_count": 49,
   "id": "044add5a-5f00-41bd-bb24-d72ed6b35ff0",
   "metadata": {},
   "outputs": [
    {
     "data": {
      "text/plain": [
       "['get gloves', ' get mask', ' gice cat']"
      ]
     },
     "execution_count": 49,
     "metadata": {},
     "output_type": "execute_result"
    }
   ],
   "source": [
    "#split() 구분자를 기준으로 리스트(배열)로 나눔\n",
    "#기본 구분자 - 줄바꿈, 스페이스, 탭\n",
    "tasks=\"get gloves, get mask, gice cat\"\n",
    "tasks.split(\",\")"
   ]
  },
  {
   "cell_type": "code",
   "execution_count": 50,
   "id": "382b2224-c529-44d2-9e19-cf925a7d7159",
   "metadata": {},
   "outputs": [
    {
     "ename": "NameError",
     "evalue": "name 'tiem' is not defined",
     "output_type": "error",
     "traceback": [
      "\u001b[1;31m---------------------------------------------------------------------------\u001b[0m",
      "\u001b[1;31mNameError\u001b[0m                                 Traceback (most recent call last)",
      "Input \u001b[1;32mIn [50]\u001b[0m, in \u001b[0;36m<cell line: 2>\u001b[1;34m()\u001b[0m\n\u001b[0;32m      1\u001b[0m time\u001b[38;5;241m=\u001b[39m\u001b[38;5;124m\"\u001b[39m\u001b[38;5;124m2022-08-03\u001b[39m\u001b[38;5;124m\"\u001b[39m\n\u001b[1;32m----> 2\u001b[0m \u001b[43mtiem\u001b[49m\u001b[38;5;241m.\u001b[39msplit(\u001b[38;5;124m\"\u001b[39m\u001b[38;5;124m-\u001b[39m\u001b[38;5;124m\"\u001b[39m)\n",
      "\u001b[1;31mNameError\u001b[0m: name 'tiem' is not defined"
     ]
    }
   ],
   "source": [
    "time=\"2022-08-03\"\n",
    "tiem.split(\"-\")"
   ]
  },
  {
   "cell_type": "code",
   "execution_count": 51,
   "id": "0df775f7-d8a4-41ae-84aa-a781a0c3a8f8",
   "metadata": {},
   "outputs": [
    {
     "data": {
      "text/plain": [
       "['2022', '08', '03']"
      ]
     },
     "execution_count": 51,
     "metadata": {},
     "output_type": "execute_result"
    }
   ],
   "source": [
    "time.split(\"-\")"
   ]
  },
  {
   "cell_type": "code",
   "execution_count": 52,
   "id": "1c5b63a2-98a8-4303-aae9-fa2f250bb42d",
   "metadata": {},
   "outputs": [
    {
     "data": {
      "text/plain": [
       "['Yeti', 'Bigfoot', 'Loch Ness Monster']"
      ]
     },
     "execution_count": 52,
     "metadata": {},
     "output_type": "execute_result"
    }
   ],
   "source": [
    "#join()-문자열 결합\n",
    "cypto_list=['Yeti','Bigfoot','Loch Ness Monster']\n",
    "cypto_list"
   ]
  },
  {
   "cell_type": "code",
   "execution_count": 54,
   "id": "ded32964-22d8-4a22-b357-7de551f34086",
   "metadata": {},
   "outputs": [
    {
     "data": {
      "text/plain": [
       "'Yeti, Bigfoot, Loch Ness Monster'"
      ]
     },
     "execution_count": 54,
     "metadata": {},
     "output_type": "execute_result"
    }
   ],
   "source": [
    "cypto_string = \", \".join(cypto_list)\n",
    "cypto_string"
   ]
  },
  {
   "cell_type": "code",
   "execution_count": 55,
   "id": "74f3586a-c0dc-4397-ae8f-0f252622746f",
   "metadata": {},
   "outputs": [
    {
     "data": {
      "text/plain": [
       "'a marmoset goes into a bar...'"
      ]
     },
     "execution_count": 55,
     "metadata": {},
     "output_type": "execute_result"
    }
   ],
   "source": [
    "#replace() 문자여 ㄹ대체하기\n",
    "setup=\"a duck goes into a bar...\"\n",
    "setup.replace('duck','marmoset')"
   ]
  },
  {
   "cell_type": "code",
   "execution_count": 56,
   "id": "039a1f15-c075-4f87-82b5-0a77aa87a6d4",
   "metadata": {},
   "outputs": [
    {
     "data": {
      "text/plain": [
       "'a famous duck goes into a bar...'"
      ]
     },
     "execution_count": 56,
     "metadata": {},
     "output_type": "execute_result"
    }
   ],
   "source": [
    "setup.replace(\"a \",\"a famous \",1)"
   ]
  },
  {
   "cell_type": "code",
   "execution_count": 57,
   "id": "32a79a30-301d-4d12-aa77-858f498c28a3",
   "metadata": {},
   "outputs": [
    {
     "data": {
      "text/plain": [
       "'a famous duck goes into a famous bar...'"
      ]
     },
     "execution_count": 57,
     "metadata": {},
     "output_type": "execute_result"
    }
   ],
   "source": [
    "setup.replace(\"a \",\"a famous \",2)"
   ]
  },
  {
   "cell_type": "code",
   "execution_count": 58,
   "id": "9281d741-7695-4bdf-ba6a-df2bb3edff9a",
   "metadata": {},
   "outputs": [
    {
     "data": {
      "text/plain": [
       "'earth'"
      ]
     },
     "execution_count": 58,
     "metadata": {},
     "output_type": "execute_result"
    }
   ],
   "source": [
    "# strip() - 여백 또는 공백 제거(padding 지우기)\n",
    "world = \" earth \"\n",
    "world.strip()"
   ]
  },
  {
   "cell_type": "code",
   "execution_count": 59,
   "id": "2f06a5e1-27b7-4a15-9af2-672cee264226",
   "metadata": {},
   "outputs": [
    {
     "data": {
      "text/plain": [
       "' earth '"
      ]
     },
     "execution_count": 59,
     "metadata": {},
     "output_type": "execute_result"
    }
   ],
   "source": [
    "world.strip('')"
   ]
  },
  {
   "cell_type": "code",
   "execution_count": 60,
   "id": "a0870ee0-8157-4f9b-8b64-49556d90477f",
   "metadata": {},
   "outputs": [
    {
     "data": {
      "text/plain": [
       "'earth'"
      ]
     },
     "execution_count": 60,
     "metadata": {},
     "output_type": "execute_result"
    }
   ],
   "source": [
    "world.strip(' ')"
   ]
  },
  {
   "cell_type": "code",
   "execution_count": 61,
   "id": "38fea0d8-b62e-44cf-9125-7738c130ab39",
   "metadata": {},
   "outputs": [
    {
     "data": {
      "text/plain": [
       "'earth '"
      ]
     },
     "execution_count": 61,
     "metadata": {},
     "output_type": "execute_result"
    }
   ],
   "source": [
    "world.lstrip()"
   ]
  },
  {
   "cell_type": "code",
   "execution_count": 62,
   "id": "bf53cb14-0210-418a-b273-d6ee457432e0",
   "metadata": {},
   "outputs": [
    {
     "data": {
      "text/plain": [
       "' earth'"
      ]
     },
     "execution_count": 62,
     "metadata": {},
     "output_type": "execute_result"
    }
   ],
   "source": [
    "world.rstrip()"
   ]
  },
  {
   "cell_type": "code",
   "execution_count": 63,
   "id": "a1d65251-4d5d-4a0c-90ce-0a17709842f0",
   "metadata": {},
   "outputs": [
    {
     "data": {
      "text/plain": [
       "'What the'"
      ]
     },
     "execution_count": 63,
     "metadata": {},
     "output_type": "execute_result"
    }
   ],
   "source": [
    "blurt = \"What the...!!?\"\n",
    "blurt.strip('.?!')"
   ]
  },
  {
   "cell_type": "code",
   "execution_count": 64,
   "id": "4b3a8f18-c08d-4c43-b927-5e97be31832f",
   "metadata": {},
   "outputs": [
    {
     "data": {
      "text/plain": [
       "' \\t\\n\\r\\x0b\\x0c'"
      ]
     },
     "execution_count": 64,
     "metadata": {},
     "output_type": "execute_result"
    }
   ],
   "source": [
    "import string\n",
    "string.whitespace"
   ]
  },
  {
   "cell_type": "code",
   "execution_count": 65,
   "id": "688a8485-cabd-4474-a217-0525a6922f1f",
   "metadata": {},
   "outputs": [
    {
     "data": {
      "text/plain": [
       "'!\"#$%&\\'()*+,-./:;<=>?@[\\\\]^_`{|}~'"
      ]
     },
     "execution_count": 65,
     "metadata": {},
     "output_type": "execute_result"
    }
   ],
   "source": [
    "string.punctuation"
   ]
  },
  {
   "cell_type": "code",
   "execution_count": 66,
   "id": "8a1a94ff-b06b-461d-81cd-a5ed1185507d",
   "metadata": {},
   "outputs": [
    {
     "ename": "NameError",
     "evalue": "name 'punctuation' is not defined",
     "output_type": "error",
     "traceback": [
      "\u001b[1;31m---------------------------------------------------------------------------\u001b[0m",
      "\u001b[1;31mNameError\u001b[0m                                 Traceback (most recent call last)",
      "Input \u001b[1;32mIn [66]\u001b[0m, in \u001b[0;36m<cell line: 1>\u001b[1;34m()\u001b[0m\n\u001b[1;32m----> 1\u001b[0m blurt\u001b[38;5;241m.\u001b[39mstrip(\u001b[43mpunctuation\u001b[49m)\n",
      "\u001b[1;31mNameError\u001b[0m: name 'punctuation' is not defined"
     ]
    }
   ],
   "source": [
    "blurt.strip(punctuation)"
   ]
  },
  {
   "cell_type": "code",
   "execution_count": 67,
   "id": "866f179d-64e9-4387-b870-58abb2530fde",
   "metadata": {},
   "outputs": [
    {
     "data": {
      "text/plain": [
       "'What the'"
      ]
     },
     "execution_count": 67,
     "metadata": {},
     "output_type": "execute_result"
    }
   ],
   "source": [
    "blurt.strip(string.punctuation)"
   ]
  },
  {
   "cell_type": "code",
   "execution_count": 69,
   "id": "eb72703c-c996-412b-8941-d1232dd3c8e6",
   "metadata": {},
   "outputs": [
    {
     "data": {
      "text/plain": [
       "'p style>What in tarnation'"
      ]
     },
     "execution_count": 69,
     "metadata": {},
     "output_type": "execute_result"
    }
   ],
   "source": [
    "prospector=\"<p style>What in tarnation ...??!!\"\n",
    "prospector.strip(string.whitespace + string.punctuation)"
   ]
  },
  {
   "cell_type": "code",
   "execution_count": 70,
   "id": "0d21415d-fd7f-490b-b691-c6f69884889c",
   "metadata": {},
   "outputs": [
    {
     "data": {
      "text/plain": [
       "'There was a Y'"
      ]
     },
     "execution_count": 70,
     "metadata": {},
     "output_type": "execute_result"
    }
   ],
   "source": [
    "poem[:13]"
   ]
  },
  {
   "cell_type": "code",
   "execution_count": 71,
   "id": "b5c5644e-3a44-49a7-8775-98c20ff2ce78",
   "metadata": {},
   "outputs": [
    {
     "ename": "AttributeError",
     "evalue": "'str' object has no attribute 'stratwith'",
     "output_type": "error",
     "traceback": [
      "\u001b[1;31m---------------------------------------------------------------------------\u001b[0m",
      "\u001b[1;31mAttributeError\u001b[0m                            Traceback (most recent call last)",
      "Input \u001b[1;32mIn [71]\u001b[0m, in \u001b[0;36m<cell line: 1>\u001b[1;34m()\u001b[0m\n\u001b[1;32m----> 1\u001b[0m \u001b[43mpoem\u001b[49m\u001b[38;5;241;43m.\u001b[39;49m\u001b[43mstratwith\u001b[49m(\u001b[38;5;124m'\u001b[39m\u001b[38;5;124mAll\u001b[39m\u001b[38;5;124m'\u001b[39m)\n",
      "\u001b[1;31mAttributeError\u001b[0m: 'str' object has no attribute 'stratwith'"
     ]
    }
   ],
   "source": [
    "poem.stratwith('All')"
   ]
  },
  {
   "cell_type": "code",
   "execution_count": 72,
   "id": "e8515870-6e3e-4a62-9c08-d7b43bb306dd",
   "metadata": {},
   "outputs": [
    {
     "ename": "NameError",
     "evalue": "name 'peom' is not defined",
     "output_type": "error",
     "traceback": [
      "\u001b[1;31m---------------------------------------------------------------------------\u001b[0m",
      "\u001b[1;31mNameError\u001b[0m                                 Traceback (most recent call last)",
      "Input \u001b[1;32mIn [72]\u001b[0m, in \u001b[0;36m<cell line: 1>\u001b[1;34m()\u001b[0m\n\u001b[1;32m----> 1\u001b[0m \u001b[43mpeom\u001b[49m\u001b[38;5;241m.\u001b[39mstartwith(\u001b[38;5;124m'\u001b[39m\u001b[38;5;124mAll\u001b[39m\u001b[38;5;124m'\u001b[39m)\n",
      "\u001b[1;31mNameError\u001b[0m: name 'peom' is not defined"
     ]
    }
   ],
   "source": [
    "peom.startwith('All')"
   ]
  },
  {
   "cell_type": "code",
   "execution_count": 73,
   "id": "b06c4c7b-0eab-4aa0-8c50-27e8e1a9f636",
   "metadata": {},
   "outputs": [
    {
     "ename": "NameError",
     "evalue": "name 'peom' is not defined",
     "output_type": "error",
     "traceback": [
      "\u001b[1;31m---------------------------------------------------------------------------\u001b[0m",
      "\u001b[1;31mNameError\u001b[0m                                 Traceback (most recent call last)",
      "Input \u001b[1;32mIn [73]\u001b[0m, in \u001b[0;36m<cell line: 1>\u001b[1;34m()\u001b[0m\n\u001b[1;32m----> 1\u001b[0m \u001b[43mpeom\u001b[49m\u001b[38;5;241m.\u001b[39mstartwith(\u001b[38;5;124m'\u001b[39m\u001b[38;5;124mAll\u001b[39m\u001b[38;5;124m'\u001b[39m)\n",
      "\u001b[1;31mNameError\u001b[0m: name 'peom' is not defined"
     ]
    }
   ],
   "source": [
    "peom.startwith('All')"
   ]
  },
  {
   "cell_type": "code",
   "execution_count": 74,
   "id": "82af1451-8cf5-40a1-9a2e-f8a3609c7209",
   "metadata": {},
   "outputs": [
    {
     "data": {
      "text/plain": [
       "False"
      ]
     },
     "execution_count": 74,
     "metadata": {},
     "output_type": "execute_result"
    }
   ],
   "source": [
    "poem.startswith('All')"
   ]
  },
  {
   "cell_type": "code",
   "execution_count": 75,
   "id": "9c83dd19-f48b-4e55-b48c-6624e40e2e4c",
   "metadata": {},
   "outputs": [],
   "source": [
    "#검색\n",
    "#없을 경우\n",
    "#find() -1\n",
    "#index()에러"
   ]
  },
  {
   "cell_type": "code",
   "execution_count": 76,
   "id": "4763d48d-5041-41a3-ac63-09dfca4de6b6",
   "metadata": {},
   "outputs": [
    {
     "data": {
      "text/plain": [
       "12"
      ]
     },
     "execution_count": 76,
     "metadata": {},
     "output_type": "execute_result"
    }
   ],
   "source": [
    "poem.index(\"Young\")"
   ]
  },
  {
   "cell_type": "code",
   "execution_count": 77,
   "id": "1c652999-7a9e-4124-adfb-3e9b3bac6290",
   "metadata": {},
   "outputs": [
    {
     "ename": "NameError",
     "evalue": "name 'peom' is not defined",
     "output_type": "error",
     "traceback": [
      "\u001b[1;31m---------------------------------------------------------------------------\u001b[0m",
      "\u001b[1;31mNameError\u001b[0m                                 Traceback (most recent call last)",
      "Input \u001b[1;32mIn [77]\u001b[0m, in \u001b[0;36m<cell line: 2>\u001b[1;34m()\u001b[0m\n\u001b[0;32m      1\u001b[0m word\u001b[38;5;241m=\u001b[39m\u001b[38;5;124m\"\u001b[39m\u001b[38;5;124mduck\u001b[39m\u001b[38;5;124m\"\u001b[39m\n\u001b[1;32m----> 2\u001b[0m \u001b[43mpeom\u001b[49m\u001b[38;5;241m.\u001b[39mfind(word)\n",
      "\u001b[1;31mNameError\u001b[0m: name 'peom' is not defined"
     ]
    }
   ],
   "source": [
    "word=\"duck\"\n",
    "peom.find(word)"
   ]
  },
  {
   "cell_type": "code",
   "execution_count": 78,
   "id": "6aba4e20-351b-4301-9209-8bef161e5e0b",
   "metadata": {},
   "outputs": [
    {
     "data": {
      "text/plain": [
       "-1"
      ]
     },
     "execution_count": 78,
     "metadata": {},
     "output_type": "execute_result"
    }
   ],
   "source": [
    "poem.find(word)"
   ]
  },
  {
   "cell_type": "code",
   "execution_count": 79,
   "id": "21bf7d67-8dad-4849-b1e5-04bd3eabda4f",
   "metadata": {},
   "outputs": [
    {
     "ename": "ValueError",
     "evalue": "substring not found",
     "output_type": "error",
     "traceback": [
      "\u001b[1;31m---------------------------------------------------------------------------\u001b[0m",
      "\u001b[1;31mValueError\u001b[0m                                Traceback (most recent call last)",
      "Input \u001b[1;32mIn [79]\u001b[0m, in \u001b[0;36m<cell line: 1>\u001b[1;34m()\u001b[0m\n\u001b[1;32m----> 1\u001b[0m \u001b[43mpoem\u001b[49m\u001b[38;5;241;43m.\u001b[39;49m\u001b[43mindex\u001b[49m\u001b[43m(\u001b[49m\u001b[43mword\u001b[49m\u001b[43m)\u001b[49m\n",
      "\u001b[1;31mValueError\u001b[0m: substring not found"
     ]
    }
   ],
   "source": [
    "poem.index(word)"
   ]
  },
  {
   "cell_type": "code",
   "execution_count": 80,
   "id": "934dad32-ced5-4e79-a101-05032aa576de",
   "metadata": {},
   "outputs": [
    {
     "ename": "NameError",
     "evalue": "name 'peom' is not defined",
     "output_type": "error",
     "traceback": [
      "\u001b[1;31m---------------------------------------------------------------------------\u001b[0m",
      "\u001b[1;31mNameError\u001b[0m                                 Traceback (most recent call last)",
      "Input \u001b[1;32mIn [80]\u001b[0m, in \u001b[0;36m<cell line: 1>\u001b[1;34m()\u001b[0m\n\u001b[1;32m----> 1\u001b[0m result \u001b[38;5;241m=\u001b[39m \u001b[43mpeom\u001b[49m\u001b[38;5;241m.\u001b[39mfind(word)\n\u001b[0;32m      2\u001b[0m \u001b[38;5;28;01mif\u001b[39;00m result\u001b[38;5;241m<\u001b[39m\u001b[38;5;241m0\u001b[39m:\n\u001b[0;32m      3\u001b[0m     \u001b[38;5;28mprint\u001b[39m(\u001b[38;5;124m\"\u001b[39m\u001b[38;5;124m못찾음\u001b[39m\u001b[38;5;124m\"\u001b[39m)\n",
      "\u001b[1;31mNameError\u001b[0m: name 'peom' is not defined"
     ]
    }
   ],
   "source": [
    "result = peom.find(word)\n",
    "if result<0:\n",
    "    print(\"못찾음\")"
   ]
  },
  {
   "cell_type": "code",
   "execution_count": 81,
   "id": "560bc004-1f07-47ef-85be-448f87327899",
   "metadata": {},
   "outputs": [
    {
     "name": "stdout",
     "output_type": "stream",
     "text": [
      "못찾음\n"
     ]
    }
   ],
   "source": [
    "result = poem.find(word)\n",
    "if result<0:\n",
    "    print(\"못찾음\")"
   ]
  },
  {
   "cell_type": "code",
   "execution_count": 82,
   "id": "951510f2-8963-4dbb-ab72-99a262456fd7",
   "metadata": {},
   "outputs": [
    {
     "data": {
      "text/plain": [
       "'A duck goes into a bar...'"
      ]
     },
     "execution_count": 82,
     "metadata": {},
     "output_type": "execute_result"
    }
   ],
   "source": [
    "# 대소문자\n",
    "# 첫 번째 단어를 대문자 capitalize()\n",
    "setup.capitalize()"
   ]
  },
  {
   "cell_type": "code",
   "execution_count": 83,
   "id": "1fbdde8e-9e3a-4ef4-bf3f-bd145a04d745",
   "metadata": {},
   "outputs": [
    {
     "data": {
      "text/plain": [
       "'A Duck Goes Into A Bar...'"
      ]
     },
     "execution_count": 83,
     "metadata": {},
     "output_type": "execute_result"
    }
   ],
   "source": [
    "#모든 단어의 첫 글자를 대문자 title()\n",
    "setup.title()"
   ]
  },
  {
   "cell_type": "code",
   "execution_count": 84,
   "id": "be348c39-2c67-4bd3-aa31-e253432fa035",
   "metadata": {},
   "outputs": [
    {
     "data": {
      "text/plain": [
       "'a duck goes into a bar...'"
      ]
     },
     "execution_count": 84,
     "metadata": {},
     "output_type": "execute_result"
    }
   ],
   "source": [
    "#모두 대문자 upper()\n",
    "#모두 소문자 lower()\n",
    "setup.upper()\n",
    "setup.lower()"
   ]
  },
  {
   "cell_type": "code",
   "execution_count": 85,
   "id": "8c1a7e43-2f1e-4acd-9c3e-3c118bd39408",
   "metadata": {},
   "outputs": [
    {
     "data": {
      "text/plain": [
       "'A DUCK GOES INTO A BAR...'"
      ]
     },
     "execution_count": 85,
     "metadata": {},
     "output_type": "execute_result"
    }
   ],
   "source": [
    "#대문자-> 소문자, 소문자->대문자 swapcase()\n",
    "setup.swapcase()"
   ]
  },
  {
   "cell_type": "code",
   "execution_count": 86,
   "id": "949d4744-4b66-4f08-958c-8db9f86248df",
   "metadata": {},
   "outputs": [
    {
     "data": {
      "text/plain": [
       "'a duck goes into a bar...'"
      ]
     },
     "execution_count": 86,
     "metadata": {},
     "output_type": "execute_result"
    }
   ],
   "source": [
    "setup.lower()"
   ]
  },
  {
   "cell_type": "code",
   "execution_count": 87,
   "id": "48076316-5b63-4764-a630-accfa7b78611",
   "metadata": {},
   "outputs": [
    {
     "data": {
      "text/plain": [
       "'A Duck Goes Into A Bar...'"
      ]
     },
     "execution_count": 87,
     "metadata": {},
     "output_type": "execute_result"
    }
   ],
   "source": [
    "setup.title()"
   ]
  },
  {
   "cell_type": "code",
   "execution_count": 88,
   "id": "901a8639-73e1-4ae6-834a-8c1453799709",
   "metadata": {},
   "outputs": [
    {
     "data": {
      "text/plain": [
       "'A DUCK GOES INTO A BAR...'"
      ]
     },
     "execution_count": 88,
     "metadata": {},
     "output_type": "execute_result"
    }
   ],
   "source": [
    "setup.swapcase()"
   ]
  },
  {
   "cell_type": "code",
   "execution_count": 89,
   "id": "7d0f8bd7-86b4-4f7d-8b05-1593d1c3c738",
   "metadata": {},
   "outputs": [
    {
     "name": "stdout",
     "output_type": "stream",
     "text": [
      "1\n",
      "2\n",
      "3\n",
      "4\n",
      "5\n"
     ]
    }
   ],
   "source": [
    "count=1\n",
    "while count<=5:\n",
    "    print(count)\n",
    "    count +=1"
   ]
  },
  {
   "cell_type": "code",
   "execution_count": 93,
   "id": "a6b34610-18a3-4e8f-a167-8ce712d42029",
   "metadata": {},
   "outputs": [
    {
     "name": "stdin",
     "output_type": "stream",
     "text": [
      "String to capitalize [type q to quit]:  e\n"
     ]
    },
    {
     "name": "stdout",
     "output_type": "stream",
     "text": [
      "E\n"
     ]
    },
    {
     "name": "stdin",
     "output_type": "stream",
     "text": [
      "String to capitalize [type q to quit]:  q\n"
     ]
    }
   ],
   "source": [
    "while True:\n",
    "    stuff = input(\"String to capitalize [type q to quit]: \")\n",
    "    if stuff == \"q\":\n",
    "          break\n",
    "    print(stuff.capitalize())"
   ]
  },
  {
   "cell_type": "code",
   "execution_count": 97,
   "id": "ec456872-b594-4325-bf77-9bbe7ec650ee",
   "metadata": {},
   "outputs": [
    {
     "name": "stdin",
     "output_type": "stream",
     "text": [
      "Integer, please [ q to quit]:  q\n"
     ]
    }
   ],
   "source": [
    "while True:\n",
    "    stuff = input(\"Integer, please [ q to quit]: \")\n",
    "    if stuff == \"q\":\n",
    "          break\n",
    "    number =int(stuff)\n",
    "    if number%2==0:\n",
    "        continue\n",
    "    print(stuff,\"squared is\",number*number)"
   ]
  },
  {
   "cell_type": "code",
   "execution_count": 98,
   "id": "39850a6e-781c-4c4d-8e76-8068eee5ab42",
   "metadata": {},
   "outputs": [
    {
     "name": "stdout",
     "output_type": "stream",
     "text": [
      "1\n",
      "3\n",
      "5\n"
     ]
    }
   ],
   "source": [
    "numbers=[1,3,5]\n",
    "position=0\n",
    "while position<len(numbers):\n",
    "    print(numbers[position])\n",
    "    position +=1"
   ]
  },
  {
   "cell_type": "code",
   "execution_count": 99,
   "id": "50574f1f-950b-4597-814c-c00c864ebe3d",
   "metadata": {},
   "outputs": [
    {
     "name": "stdout",
     "output_type": "stream",
     "text": [
      "No even number found\n"
     ]
    }
   ],
   "source": [
    "numbers=[1,3,5]\n",
    "position=0\n",
    "while position<len(numbers):\n",
    "    number=numbers[position]\n",
    "    if number%2==0:\n",
    "        print(\"found even numver\",number)\n",
    "        break\n",
    "    position +=1\n",
    "else:\n",
    "    print(\"No even number found\")"
   ]
  },
  {
   "cell_type": "code",
   "execution_count": 1,
   "id": "a299cc7d-cf35-469c-a766-2c2fb38707cd",
   "metadata": {},
   "outputs": [
    {
     "name": "stdout",
     "output_type": "stream",
     "text": [
      "t\n",
      "h\n",
      "u\n",
      "d\n"
     ]
    }
   ],
   "source": [
    "word=\"thud\"\n",
    "offset=0\n",
    "while offset<len(word):\n",
    "    print(word[offset])\n",
    "    offset+=1\n",
    "    "
   ]
  },
  {
   "cell_type": "code",
   "execution_count": 2,
   "id": "b30e5b02-03d4-4d31-a66d-5fd4658806c3",
   "metadata": {},
   "outputs": [
    {
     "name": "stdout",
     "output_type": "stream",
     "text": [
      "t\n",
      "h\n",
      "u\n",
      "d\n"
     ]
    }
   ],
   "source": [
    "for letter in word:\n",
    "    print(letter)"
   ]
  },
  {
   "cell_type": "code",
   "execution_count": 3,
   "id": "56f1947d-8ca2-4838-a0be-8b52344cb43d",
   "metadata": {},
   "outputs": [],
   "source": [
    "# for in = break, continue 사용 else사용"
   ]
  },
  {
   "cell_type": "code",
   "execution_count": 4,
   "id": "cab3397a-3a56-415f-bb30-2e2da2c3ce45",
   "metadata": {},
   "outputs": [],
   "source": [
    "# 숫자 시퀀스 생성 range()\n",
    "# range(start,stop,step)"
   ]
  },
  {
   "cell_type": "code",
   "execution_count": 6,
   "id": "f37c57bb-4b94-4245-900b-e2f55af69820",
   "metadata": {},
   "outputs": [
    {
     "name": "stdout",
     "output_type": "stream",
     "text": [
      "0\n",
      "1\n",
      "2\n"
     ]
    }
   ],
   "source": [
    "for x in range(0,3):\n",
    "    print(x)"
   ]
  },
  {
   "cell_type": "code",
   "execution_count": 7,
   "id": "b49df62f-d254-4e99-a215-83ac60284f1c",
   "metadata": {},
   "outputs": [
    {
     "data": {
      "text/plain": [
       "[0, 1, 2]"
      ]
     },
     "execution_count": 7,
     "metadata": {},
     "output_type": "execute_result"
    }
   ],
   "source": [
    "list(range(0,3))"
   ]
  },
  {
   "cell_type": "code",
   "execution_count": 11,
   "id": "ec7c4e5c-520d-4003-ad3d-e2848cece570",
   "metadata": {},
   "outputs": [
    {
     "data": {
      "text/plain": [
       "range(0, 5)"
      ]
     },
     "execution_count": 11,
     "metadata": {},
     "output_type": "execute_result"
    }
   ],
   "source": [
    "numbers=[0,1,2,3,4]\n",
    "numbers2=range(0,5)\n",
    "numbers2"
   ]
  },
  {
   "cell_type": "code",
   "execution_count": 9,
   "id": "be9514c7-4210-4189-8f77-cccdf5630c0c",
   "metadata": {},
   "outputs": [
    {
     "name": "stdout",
     "output_type": "stream",
     "text": [
      "0\n",
      "1\n",
      "2\n",
      "3\n",
      "4\n"
     ]
    }
   ],
   "source": [
    "for n in numbers2:\n",
    "    print(n)"
   ]
  },
  {
   "cell_type": "code",
   "execution_count": 12,
   "id": "d10b3eb8-01a9-4e3f-9500-be57349c3bbc",
   "metadata": {},
   "outputs": [
    {
     "data": {
      "text/plain": [
       "[0, 2, 4, 6, 8, 10]"
      ]
     },
     "execution_count": 12,
     "metadata": {},
     "output_type": "execute_result"
    }
   ],
   "source": [
    "list(range(0,11,2))"
   ]
  },
  {
   "cell_type": "code",
   "execution_count": null,
   "id": "a66a0e86-387e-471e-b02d-5a14ebb38495",
   "metadata": {},
   "outputs": [],
   "source": []
  }
 ],
 "metadata": {
  "kernelspec": {
   "display_name": "Python 3 (ipykernel)",
   "language": "python",
   "name": "python3"
  },
  "language_info": {
   "codemirror_mode": {
    "name": "ipython",
    "version": 3
   },
   "file_extension": ".py",
   "mimetype": "text/x-python",
   "name": "python",
   "nbconvert_exporter": "python",
   "pygments_lexer": "ipython3",
   "version": "3.9.12"
  }
 },
 "nbformat": 4,
 "nbformat_minor": 5
}
