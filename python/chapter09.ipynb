{
 "cells": [
  {
   "cell_type": "markdown",
   "id": "0ebe59cc-1819-49f7-9c50-83ecfc4a8d6f",
   "metadata": {},
   "source": [
    "# chapter09 (마크다운+#)"
   ]
  },
  {
   "cell_type": "code",
   "execution_count": 1,
   "id": "d488cbd3-1a73-4eda-a90e-60b74c67df9f",
   "metadata": {},
   "outputs": [
    {
     "data": {
      "text/plain": [
       "<function __main__.make_a_sound()>"
      ]
     },
     "execution_count": 1,
     "metadata": {},
     "output_type": "execute_result"
    }
   ],
   "source": [
    "def make_a_sound():\n",
    "    print(\"quack\")\n",
    "make_a_sound"
   ]
  },
  {
   "cell_type": "code",
   "execution_count": 2,
   "id": "1b4ff823-1dd6-47e1-88e5-5f32867e70bd",
   "metadata": {},
   "outputs": [
    {
     "name": "stdout",
     "output_type": "stream",
     "text": [
      "quack\n"
     ]
    }
   ],
   "source": [
    "make_a_sound()"
   ]
  },
  {
   "cell_type": "code",
   "execution_count": 3,
   "id": "1fe42fa0-d007-4799-be55-bfb357db7bcb",
   "metadata": {},
   "outputs": [
    {
     "data": {
      "text/plain": [
       "<function __main__.agree()>"
      ]
     },
     "execution_count": 3,
     "metadata": {},
     "output_type": "execute_result"
    }
   ],
   "source": [
    "def agree():\n",
    "    return True\n",
    "agree"
   ]
  },
  {
   "cell_type": "code",
   "execution_count": 4,
   "id": "69808821-d33f-4de3-aed2-14668af298f0",
   "metadata": {},
   "outputs": [
    {
     "data": {
      "text/plain": [
       "True"
      ]
     },
     "execution_count": 4,
     "metadata": {},
     "output_type": "execute_result"
    }
   ],
   "source": [
    "agree()"
   ]
  },
  {
   "cell_type": "code",
   "execution_count": 8,
   "id": "aa86602d-a25f-4d84-a6c1-a7ec1aa9696b",
   "metadata": {},
   "outputs": [
    {
     "data": {
      "text/plain": [
       "True"
      ]
     },
     "execution_count": 8,
     "metadata": {},
     "output_type": "execute_result"
    }
   ],
   "source": [
    "def agree():\n",
    "    return True\n",
    "agree()"
   ]
  },
  {
   "cell_type": "code",
   "execution_count": 9,
   "id": "e7b186e5-0445-44f8-9c70-d977c95f923e",
   "metadata": {},
   "outputs": [
    {
     "name": "stdout",
     "output_type": "stream",
     "text": [
      "S\n"
     ]
    }
   ],
   "source": [
    "if agree():\n",
    "    print(\"S\")\n",
    "else:\n",
    "    print(\"T\")"
   ]
  },
  {
   "cell_type": "code",
   "execution_count": 10,
   "id": "4236209e-05f7-4138-aee2-4eae65b7b6f0",
   "metadata": {},
   "outputs": [
    {
     "data": {
      "text/plain": [
       "False"
      ]
     },
     "execution_count": 10,
     "metadata": {},
     "output_type": "execute_result"
    }
   ],
   "source": [
    "bool(\"\")"
   ]
  },
  {
   "cell_type": "code",
   "execution_count": 14,
   "id": "1a6976bf-02a1-4b20-bfa7-8d87d5858822",
   "metadata": {},
   "outputs": [
    {
     "data": {
      "text/plain": [
       "'Rumplestiltskin Rumplestiltskin'"
      ]
     },
     "execution_count": 14,
     "metadata": {},
     "output_type": "execute_result"
    }
   ],
   "source": [
    "def echo(anything):\n",
    "    return anything + \" \" + anything\n",
    "echo(\"Rumplestiltskin\")"
   ]
  },
  {
   "cell_type": "code",
   "execution_count": 15,
   "id": "868929df-5694-4219-87f4-163dd2936fc4",
   "metadata": {},
   "outputs": [],
   "source": [
    "def do_nothing():\n",
    "    pass\n",
    "do_nothing()"
   ]
  },
  {
   "cell_type": "code",
   "execution_count": 17,
   "id": "2fda84b4-d505-46bd-a58d-338860788391",
   "metadata": {},
   "outputs": [
    {
     "name": "stdout",
     "output_type": "stream",
     "text": [
      "None\n"
     ]
    }
   ],
   "source": [
    "print(do_nothing())"
   ]
  },
  {
   "cell_type": "code",
   "execution_count": 18,
   "id": "4116597d-ca95-40d2-80dd-07d7c94f9edc",
   "metadata": {},
   "outputs": [
    {
     "name": "stdout",
     "output_type": "stream",
     "text": [
      "no Thing\n"
     ]
    }
   ],
   "source": [
    "#None 아무것도 없다\n",
    "thing=None\n",
    "if thing:\n",
    "    print(\"some Thing\")\n",
    "else:\n",
    "    print(\"no Thing\")\n",
    "    "
   ]
  },
  {
   "cell_type": "code",
   "execution_count": 19,
   "id": "af4745fe-9671-4f5d-acd4-12edc4fce2f8",
   "metadata": {},
   "outputs": [
    {
     "name": "stdout",
     "output_type": "stream",
     "text": [
      "not Thing\n"
     ]
    }
   ],
   "source": [
    "if thing is None:\n",
    "    print(\"not Thing\")\n",
    "else:\n",
    "    print(\"some Thing\")"
   ]
  },
  {
   "cell_type": "code",
   "execution_count": 20,
   "id": "5699106c-59f7-4f69-8709-4e0547d29d8e",
   "metadata": {},
   "outputs": [],
   "source": [
    "def whatis(thing):\n",
    "    if thing is None:\n",
    "        print(thing,\"is None\")\n",
    "    elif thing:\n",
    "        print(thing,\"is True\")\n",
    "    else:\n",
    "        print(thing,\"is False\")"
   ]
  },
  {
   "cell_type": "code",
   "execution_count": 21,
   "id": "f3f4c56b-b815-4685-8c75-3694e5934718",
   "metadata": {},
   "outputs": [
    {
     "name": "stdout",
     "output_type": "stream",
     "text": [
      "None is None\n"
     ]
    }
   ],
   "source": [
    "whatis(do_nothing())"
   ]
  },
  {
   "cell_type": "code",
   "execution_count": 22,
   "id": "dcc0ae48-a5b1-4e35-ab47-2fe3a478c39a",
   "metadata": {},
   "outputs": [
    {
     "name": "stdout",
     "output_type": "stream",
     "text": [
      "None is None\n"
     ]
    }
   ],
   "source": [
    "whatis(None)"
   ]
  },
  {
   "cell_type": "code",
   "execution_count": 23,
   "id": "933f51c7-0086-4b23-8577-99ca9d0d607d",
   "metadata": {},
   "outputs": [
    {
     "name": "stdout",
     "output_type": "stream",
     "text": [
      "[1] is True\n"
     ]
    }
   ],
   "source": [
    "whatis([1])"
   ]
  },
  {
   "cell_type": "code",
   "execution_count": 24,
   "id": "bf12d0f2-5cbd-49ef-a9db-7cb80a04b39c",
   "metadata": {},
   "outputs": [
    {
     "name": "stdout",
     "output_type": "stream",
     "text": [
      "1 is True\n"
     ]
    }
   ],
   "source": [
    "whatis(1)"
   ]
  },
  {
   "cell_type": "code",
   "execution_count": 25,
   "id": "5965e6f6-d864-4990-8ad0-f62dfaf7fde6",
   "metadata": {},
   "outputs": [
    {
     "name": "stdout",
     "output_type": "stream",
     "text": [
      "0 is False\n"
     ]
    }
   ],
   "source": [
    "whatis(0)"
   ]
  },
  {
   "cell_type": "code",
   "execution_count": 26,
   "id": "7ade8ff1-0eb9-476f-a5e4-cff93c269e6c",
   "metadata": {},
   "outputs": [
    {
     "name": "stdout",
     "output_type": "stream",
     "text": [
      "A\n",
      "A B\n"
     ]
    }
   ],
   "source": [
    "print(\"A\")\n",
    "print(\"A\",\"B\")"
   ]
  },
  {
   "cell_type": "code",
   "execution_count": 30,
   "id": "724daf0c-4815-4bf2-9e58-e519d9a3db69",
   "metadata": {},
   "outputs": [],
   "source": [
    "def menu(wine, entree,dessert):\n",
    "    return{\"wine\":wine,\"entree\":entree,\"dessert\":dessert}"
   ]
  },
  {
   "cell_type": "code",
   "execution_count": 31,
   "id": "5cc1308d-f7e3-420d-84bd-717552fc587a",
   "metadata": {},
   "outputs": [
    {
     "data": {
      "text/plain": [
       "{'wine': 'w', 'entree': 'e', 'dessert': 'd'}"
      ]
     },
     "execution_count": 31,
     "metadata": {},
     "output_type": "execute_result"
    }
   ],
   "source": [
    "#위치인수\n",
    "menu(\"w\",\"e\",\"d\")"
   ]
  },
  {
   "cell_type": "code",
   "execution_count": 32,
   "id": "547b51b0-8b37-4907-9b87-17d410e667bb",
   "metadata": {},
   "outputs": [
    {
     "data": {
      "text/plain": [
       "{'wine': 't', 'entree': 'a', 'dessert': 'p'}"
      ]
     },
     "execution_count": 32,
     "metadata": {},
     "output_type": "execute_result"
    }
   ],
   "source": [
    "#키워드인수\n",
    "menu(entree=\"a\",wine=\"t\",dessert=\"p\")"
   ]
  },
  {
   "cell_type": "code",
   "execution_count": 33,
   "id": "e80312c8-ff58-4816-ae3e-6d33dbb0cf5e",
   "metadata": {},
   "outputs": [],
   "source": [
    "#sort(reverse=True)"
   ]
  },
  {
   "cell_type": "code",
   "execution_count": 34,
   "id": "af9c400e-65c2-44c5-8ed9-5ec197bf3209",
   "metadata": {},
   "outputs": [
    {
     "data": {
      "text/plain": [
       "{'wine': 'forn', 'entree': 'crap', 'dessert': 'pie'}"
      ]
     },
     "execution_count": 34,
     "metadata": {},
     "output_type": "execute_result"
    }
   ],
   "source": [
    "menu(\"forn\",dessert=\"pie\",entree=\"crap\")"
   ]
  },
  {
   "cell_type": "code",
   "execution_count": 35,
   "id": "8d62363f-ef59-4750-980a-1cc81eee35f8",
   "metadata": {},
   "outputs": [
    {
     "data": {
      "text/plain": [
       "{'wine': 'dunkel', 'entree': 'duck', 'dessert': 'doughnut'}"
      ]
     },
     "execution_count": 35,
     "metadata": {},
     "output_type": "execute_result"
    }
   ],
   "source": [
    "def menu(wine, entree,dessert=\"padding\"):\n",
    "    return{\"wine\":wine,\"entree\":entree,\"dessert\":dessert}\n",
    "menu(\"dunkel\",\"duck\",\"doughnut\")"
   ]
  },
  {
   "cell_type": "code",
   "execution_count": 36,
   "id": "a9f013a6-a56b-4448-9b62-ea388d27632d",
   "metadata": {},
   "outputs": [
    {
     "data": {
      "text/plain": [
       "{'wine': 'dunkel', 'entree': 'duck', 'dessert': 'padding'}"
      ]
     },
     "execution_count": 36,
     "metadata": {},
     "output_type": "execute_result"
    }
   ],
   "source": [
    "menu(\"dunkel\",\"duck\")"
   ]
  },
  {
   "cell_type": "code",
   "execution_count": 37,
   "id": "fc427f0e-a3fe-4c6b-a812-03b4e3deb000",
   "metadata": {},
   "outputs": [
    {
     "name": "stdout",
     "output_type": "stream",
     "text": [
      "['a']\n"
     ]
    }
   ],
   "source": [
    "def buggy(arg,result=[]):\n",
    "    result.append(arg)\n",
    "    print(result)\n",
    "buggy(\"a\")"
   ]
  },
  {
   "cell_type": "code",
   "execution_count": 38,
   "id": "64e1ae21-19eb-4ded-ad31-612cba3194bb",
   "metadata": {},
   "outputs": [
    {
     "name": "stdout",
     "output_type": "stream",
     "text": [
      "['a', 'b']\n"
     ]
    }
   ],
   "source": [
    "buggy(\"b\")"
   ]
  },
  {
   "cell_type": "code",
   "execution_count": 39,
   "id": "7e5ac5f5-dff5-44ac-be90-d6bdb8417df4",
   "metadata": {},
   "outputs": [
    {
     "name": "stdout",
     "output_type": "stream",
     "text": [
      "['e']\n"
     ]
    }
   ],
   "source": [
    "def buggy2(arg):\n",
    "    resultw=[]\n",
    "    resultw.append(arg)\n",
    "    print(resultw)\n",
    "buggy2(\"e\")"
   ]
  },
  {
   "cell_type": "code",
   "execution_count": 40,
   "id": "5a06c9ba-3a0c-41b8-9fc9-11f41f22f28d",
   "metadata": {},
   "outputs": [
    {
     "name": "stdout",
     "output_type": "stream",
     "text": [
      "['u']\n"
     ]
    }
   ],
   "source": [
    "buggy2(\"u\")"
   ]
  },
  {
   "cell_type": "code",
   "execution_count": 41,
   "id": "e722d974-25c8-4f48-8de6-8ef659071d90",
   "metadata": {},
   "outputs": [
    {
     "name": "stdout",
     "output_type": "stream",
     "text": [
      "['a']\n"
     ]
    }
   ],
   "source": [
    "#None ->불변\n",
    "def nonbuggy(arg,result=None):\n",
    "    if result is None:\n",
    "        result=[]\n",
    "    result.append(arg)\n",
    "    print(result)\n",
    "nonbuggy(\"a\")"
   ]
  },
  {
   "cell_type": "code",
   "execution_count": 42,
   "id": "90f215bc-5278-4b27-980a-2e2296f4c203",
   "metadata": {},
   "outputs": [
    {
     "name": "stdout",
     "output_type": "stream",
     "text": [
      "['v']\n"
     ]
    }
   ],
   "source": [
    "nonbuggy(\"v\")"
   ]
  },
  {
   "cell_type": "code",
   "execution_count": 4,
   "id": "7e78641e-6a93-47d1-8145-1369e92d0b3a",
   "metadata": {},
   "outputs": [],
   "source": [
    "# 에스터리스크 *\n",
    "def print_arges(*args):\n",
    "    print(\"Positional tuple\",args)\n",
    "    print(args[0])\n",
    "    args_list=list(args)\n",
    "    print(args_list)\n",
    "#튜플,터플-상수형 배열"
   ]
  },
  {
   "cell_type": "markdown",
   "id": "3c89f718-5125-40a8-912a-89bc5bfdac03",
   "metadata": {},
   "source": [
    "print(\"Hello\")"
   ]
  },
  {
   "cell_type": "code",
   "execution_count": 5,
   "id": "b0d639c0-a57f-4209-8ef4-9f9882a93336",
   "metadata": {},
   "outputs": [
    {
     "name": "stdout",
     "output_type": "stream",
     "text": [
      "Positional tuple (3, 4, 1, 'wait', 'uh....')\n",
      "3\n",
      "[3, 4, 1, 'wait', 'uh....']\n"
     ]
    }
   ],
   "source": [
    "print_arges(3,4,1,\"wait\",\"uh....\")"
   ]
  },
  {
   "cell_type": "code",
   "execution_count": 6,
   "id": "80eb99d3-302e-43b0-ae95-de1c6f8c734f",
   "metadata": {},
   "outputs": [],
   "source": [
    "def print_more(required1,*args):\n",
    "    pass"
   ]
  },
  {
   "cell_type": "code",
   "execution_count": 8,
   "id": "09272789-f66b-45df-bb05-30825bb0906f",
   "metadata": {},
   "outputs": [],
   "source": [
    "def print_kwargs(**kwargs):\n",
    "    print(\"keyword arguments:\",kwargs)"
   ]
  },
  {
   "cell_type": "code",
   "execution_count": 9,
   "id": "74a05283-eb02-45d8-a3c9-5390b487cad6",
   "metadata": {},
   "outputs": [
    {
     "name": "stdout",
     "output_type": "stream",
     "text": [
      "keyword arguments: {'wine': 'merlat'}\n"
     ]
    }
   ],
   "source": [
    "print_kwargs(wine=\"merlat\")"
   ]
  },
  {
   "cell_type": "code",
   "execution_count": 11,
   "id": "7ac08aad-38ca-4d8c-b312-4c18c1430681",
   "metadata": {},
   "outputs": [
    {
     "name": "stdout",
     "output_type": "stream",
     "text": [
      "keyword arguments: {'wine': 'merlot', 'entree': 'mutton'}\n"
     ]
    }
   ],
   "source": [
    "print_kwargs(wine=\"merlot\",entree=\"mutton\")"
   ]
  },
  {
   "cell_type": "code",
   "execution_count": 12,
   "id": "32c71d64-2265-44cd-9c92-1abd430562b6",
   "metadata": {},
   "outputs": [],
   "source": [
    "#독스트링\n",
    "def echo(anything):\n",
    "    \"echo returns tis onpuyt argumentn\"\n",
    "    return anything"
   ]
  },
  {
   "cell_type": "code",
   "execution_count": 13,
   "id": "e43c8579-c169-4db1-a6d7-cf1087677bd0",
   "metadata": {},
   "outputs": [
    {
     "name": "stdout",
     "output_type": "stream",
     "text": [
      "Help on function echo in module __main__:\n",
      "\n",
      "echo(anything)\n",
      "    echo returns tis onpuyt argumentn\n",
      "\n"
     ]
    }
   ],
   "source": [
    "help(echo)"
   ]
  },
  {
   "cell_type": "code",
   "execution_count": 14,
   "id": "c4fd96f3-a37e-46f0-878f-1236f2215142",
   "metadata": {},
   "outputs": [
    {
     "name": "stdout",
     "output_type": "stream",
     "text": [
      "Help on built-in function print in module builtins:\n",
      "\n",
      "print(...)\n",
      "    print(value, ..., sep=' ', end='\\n', file=sys.stdout, flush=False)\n",
      "    \n",
      "    Prints the values to a stream, or to sys.stdout by default.\n",
      "    Optional keyword arguments:\n",
      "    file:  a file-like object (stream); defaults to the current sys.stdout.\n",
      "    sep:   string inserted between values, default a space.\n",
      "    end:   string appended after the last value, default a newline.\n",
      "    flush: whether to forcibly flush the stream.\n",
      "\n"
     ]
    }
   ],
   "source": [
    "doc=\"echo returns tis onpuyt argumentn\"\n",
    "help(print)"
   ]
  },
  {
   "cell_type": "code",
   "execution_count": 15,
   "id": "e8973eba-6f0d-4822-8f45-24a6cbb02ed5",
   "metadata": {},
   "outputs": [
    {
     "name": "stdout",
     "output_type": "stream",
     "text": [
      "echo returns tis onpuyt argumentn\n"
     ]
    }
   ],
   "source": [
    "print(echo.__doc__)"
   ]
  },
  {
   "cell_type": "code",
   "execution_count": 16,
   "id": "c8c16c0f-890b-4c76-b73e-a9eea6c21df5",
   "metadata": {},
   "outputs": [],
   "source": [
    "# 객채-일등시만-함수\n",
    "# 자바의 모든 객체는 기복적으로 object를 상속해서\n",
    "#__번수__ -> 파이썬 자체에서 가진 변수(함수) 실행방법"
   ]
  },
  {
   "cell_type": "code",
   "execution_count": 17,
   "id": "61b55668-d34c-4081-a828-cb93448a07ad",
   "metadata": {},
   "outputs": [],
   "source": [
    "#callback함수\n",
    "def run_something(function):\n",
    "    function()"
   ]
  },
  {
   "cell_type": "code",
   "execution_count": 18,
   "id": "5493e436-1b52-4c3f-b0b5-b2f70cc302ea",
   "metadata": {},
   "outputs": [],
   "source": [
    "#클로져\n",
    "#함수 변수"
   ]
  },
  {
   "cell_type": "code",
   "execution_count": 19,
   "id": "f203bec3-b90c-47b9-b428-bfe708f826c7",
   "metadata": {},
   "outputs": [],
   "source": [
    "def print_some(anything):\n",
    "    print(anything)"
   ]
  },
  {
   "cell_type": "code",
   "execution_count": 20,
   "id": "bcbf8ef2-aef1-4736-9cc1-b2c924c6c2d8",
   "metadata": {},
   "outputs": [
    {
     "name": "stdout",
     "output_type": "stream",
     "text": [
      "1\n"
     ]
    }
   ],
   "source": [
    "num=1\n",
    "print_some(num)"
   ]
  },
  {
   "cell_type": "code",
   "execution_count": 21,
   "id": "b4999330-eaa3-4d3b-b14e-3823e470b52b",
   "metadata": {},
   "outputs": [
    {
     "name": "stdout",
     "output_type": "stream",
     "text": [
      "1\n"
     ]
    }
   ],
   "source": [
    "print_some(1)"
   ]
  },
  {
   "cell_type": "code",
   "execution_count": 22,
   "id": "efb324d0-6d6a-4104-ba09-379f342adb48",
   "metadata": {},
   "outputs": [],
   "source": [
    "def callback_func(func):\n",
    "    func()"
   ]
  },
  {
   "cell_type": "code",
   "execution_count": 23,
   "id": "aed84753-330e-406a-bf79-f42898709e27",
   "metadata": {},
   "outputs": [],
   "source": [
    "def func1():\n",
    "    print(\"func1\")"
   ]
  },
  {
   "cell_type": "code",
   "execution_count": 24,
   "id": "677439da-f3e6-4407-963b-309f21c18964",
   "metadata": {},
   "outputs": [
    {
     "name": "stdout",
     "output_type": "stream",
     "text": [
      "func1\n"
     ]
    }
   ],
   "source": [
    "callback_func(func1)"
   ]
  },
  {
   "cell_type": "code",
   "execution_count": 27,
   "id": "fd70a3a0-55f3-4966-a4cd-76eba86d595e",
   "metadata": {},
   "outputs": [
    {
     "name": "stdout",
     "output_type": "stream",
     "text": [
      "func1\n"
     ]
    }
   ],
   "source": [
    "callback_func(lambda:print(\"func1\"))"
   ]
  },
  {
   "cell_type": "code",
   "execution_count": 29,
   "id": "351f5242-9493-49c5-a101-9ffada4a5586",
   "metadata": {},
   "outputs": [
    {
     "name": "stdout",
     "output_type": "stream",
     "text": [
      "inside print_flobal: fruitbat\n"
     ]
    }
   ],
   "source": [
    "#전역변수\n",
    "animal=\"fruitbat\"\n",
    "def print_global():\n",
    "    print(\"inside print_flobal:\",animal)\n",
    "print_global()"
   ]
  },
  {
   "cell_type": "code",
   "execution_count": 30,
   "id": "c682e259-4499-4125-b70a-9a8bd9bba13e",
   "metadata": {},
   "outputs": [],
   "source": [
    "def change_and_print_global():\n",
    "    print(\"inside print_flobal:\",animal)\n",
    "    animal=\"wombat\"\n",
    "    print(\"after the change\",animal)"
   ]
  },
  {
   "cell_type": "code",
   "execution_count": 32,
   "id": "111813b5-7559-4f28-aae0-ce7f9eb42eba",
   "metadata": {},
   "outputs": [
    {
     "ename": "UnboundLocalError",
     "evalue": "local variable 'animal' referenced before assignment",
     "output_type": "error",
     "traceback": [
      "\u001b[1;31m---------------------------------------------------------------------------\u001b[0m",
      "\u001b[1;31mUnboundLocalError\u001b[0m                         Traceback (most recent call last)",
      "Input \u001b[1;32mIn [32]\u001b[0m, in \u001b[0;36m<cell line: 1>\u001b[1;34m()\u001b[0m\n\u001b[1;32m----> 1\u001b[0m \u001b[43mchange_and_print_global\u001b[49m\u001b[43m(\u001b[49m\u001b[43m)\u001b[49m\n",
      "Input \u001b[1;32mIn [30]\u001b[0m, in \u001b[0;36mchange_and_print_global\u001b[1;34m()\u001b[0m\n\u001b[0;32m      1\u001b[0m \u001b[38;5;28;01mdef\u001b[39;00m \u001b[38;5;21mchange_and_print_global\u001b[39m():\n\u001b[1;32m----> 2\u001b[0m     \u001b[38;5;28mprint\u001b[39m(\u001b[38;5;124m\"\u001b[39m\u001b[38;5;124minside print_flobal:\u001b[39m\u001b[38;5;124m\"\u001b[39m,\u001b[43manimal\u001b[49m)\n\u001b[0;32m      3\u001b[0m     animal\u001b[38;5;241m=\u001b[39m\u001b[38;5;124m\"\u001b[39m\u001b[38;5;124mwombat\u001b[39m\u001b[38;5;124m\"\u001b[39m\n\u001b[0;32m      4\u001b[0m     \u001b[38;5;28mprint\u001b[39m(\u001b[38;5;124m\"\u001b[39m\u001b[38;5;124mafter the change\u001b[39m\u001b[38;5;124m\"\u001b[39m,animal)\n",
      "\u001b[1;31mUnboundLocalError\u001b[0m: local variable 'animal' referenced before assignment"
     ]
    }
   ],
   "source": [
    "change_and_print_global()"
   ]
  },
  {
   "cell_type": "code",
   "execution_count": 33,
   "id": "f8db5195-e0fe-4956-b06a-c91852c5a255",
   "metadata": {},
   "outputs": [
    {
     "name": "stdout",
     "output_type": "stream",
     "text": [
      "inside print_flobal: fruitbat\n",
      "after the change wombat\n"
     ]
    }
   ],
   "source": [
    "def change_and_print_global():\n",
    "    global animal\n",
    "    print(\"inside print_flobal:\",animal)\n",
    "    animal=\"wombat\"\n",
    "    print(\"after the change\",animal)\n",
    "change_and_print_global()"
   ]
  },
  {
   "cell_type": "code",
   "execution_count": 35,
   "id": "2592f8ab-5ebb-42d9-8542-cb85a240a2c7",
   "metadata": {},
   "outputs": [
    {
     "name": "stdout",
     "output_type": "stream",
     "text": [
      "error!\n"
     ]
    }
   ],
   "source": [
    "#프로그램이 중단 => 웹서버 중단 =>웹서버 감시\n",
    "short_list=[1,2,3]\n",
    "position=5\n",
    "try:\n",
    "    short_list[position]\n",
    "except:\n",
    "    print(\"error!\")"
   ]
  },
  {
   "cell_type": "code",
   "execution_count": 40,
   "id": "14590ac1-d739-4adc-9b38-37fea97c69d3",
   "metadata": {},
   "outputs": [
    {
     "name": "stdin",
     "output_type": "stream",
     "text": [
      "Position[q to quit]? 1\n"
     ]
    },
    {
     "name": "stdout",
     "output_type": "stream",
     "text": [
      "2\n"
     ]
    },
    {
     "name": "stdin",
     "output_type": "stream",
     "text": [
      "Position[q to quit]? 2\n"
     ]
    },
    {
     "name": "stdout",
     "output_type": "stream",
     "text": [
      "3\n"
     ]
    },
    {
     "name": "stdin",
     "output_type": "stream",
     "text": [
      "Position[q to quit]? 7\n"
     ]
    },
    {
     "name": "stdout",
     "output_type": "stream",
     "text": [
      "Bad index: 7\n"
     ]
    },
    {
     "name": "stdin",
     "output_type": "stream",
     "text": [
      "Position[q to quit]? g\n"
     ]
    },
    {
     "name": "stdout",
     "output_type": "stream",
     "text": [
      "please input number\n"
     ]
    },
    {
     "name": "stdin",
     "output_type": "stream",
     "text": [
      "Position[q to quit]? q\n"
     ]
    }
   ],
   "source": [
    "while True:\n",
    "    value=input(\"Position[q to quit]?\")\n",
    "    if value ==\"q\":\n",
    "        break\n",
    "    try:\n",
    "        position=int(value)\n",
    "        print(short_list[position])\n",
    "    except IndexError:\n",
    "        print(\"Bad index:\",position)    \n",
    "    except Exception:\n",
    "        print(\"please input number\")\n",
    "        continue"
   ]
  },
  {
   "cell_type": "code",
   "execution_count": 37,
   "id": "a3f9d341-8636-4bd1-aac8-61cc9612dc31",
   "metadata": {},
   "outputs": [
    {
     "name": "stdout",
     "output_type": "stream",
     "text": [
      "Help on method raw_input in module ipykernel.kernelbase:\n",
      "\n",
      "raw_input(prompt='') method of ipykernel.ipkernel.IPythonKernel instance\n",
      "    Forward raw_input to frontends\n",
      "    \n",
      "    Raises\n",
      "    ------\n",
      "    StdinNotImplementedError if active frontend doesn't support stdin.\n",
      "\n"
     ]
    }
   ],
   "source": [
    "help(input)"
   ]
  },
  {
   "cell_type": "code",
   "execution_count": 42,
   "id": "649431d4-5b9c-49ed-9263-2aafa1e0c3c0",
   "metadata": {},
   "outputs": [],
   "source": [
    "#나만의 예외 클래스\n",
    "class UppercaseException(Exception):\n",
    "    pass\n"
   ]
  },
  {
   "cell_type": "code",
   "execution_count": 45,
   "id": "6e7146d0-90dd-4d38-9223-18beb7a9e8ca",
   "metadata": {},
   "outputs": [
    {
     "name": "stdout",
     "output_type": "stream",
     "text": [
      "I really very seriously hate Upper\n"
     ]
    }
   ],
   "source": [
    "words=[\"eenie\",\"maanie\",\"miny\",\"MO\"]\n",
    "for word in words:\n",
    "    if word.isupper():\n",
    "        try:\n",
    "            raise UppercaseException()\n",
    "        except:\n",
    "            print(\"I really very seriously hate Upper\")\n",
    "        "
   ]
  },
  {
   "cell_type": "code",
   "execution_count": null,
   "id": "7ef33e10-4db1-4338-9d2b-f92a68cc543e",
   "metadata": {},
   "outputs": [],
   "source": []
  }
 ],
 "metadata": {
  "kernelspec": {
   "display_name": "Python 3 (ipykernel)",
   "language": "python",
   "name": "python3"
  },
  "language_info": {
   "codemirror_mode": {
    "name": "ipython",
    "version": 3
   },
   "file_extension": ".py",
   "mimetype": "text/x-python",
   "name": "python",
   "nbconvert_exporter": "python",
   "pygments_lexer": "ipython3",
   "version": "3.9.12"
  }
 },
 "nbformat": 4,
 "nbformat_minor": 5
}
